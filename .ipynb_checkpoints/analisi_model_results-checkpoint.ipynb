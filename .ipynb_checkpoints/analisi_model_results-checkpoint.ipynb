{
 "cells": [
  {
   "cell_type": "markdown",
   "metadata": {},
   "source": [
    "# Analisi de les submissions a kaggle, i fem una mena d'ensemble amb els models (hem utilitzat la mediana de la suma)"
   ]
  },
  {
   "cell_type": "code",
   "execution_count": 72,
   "metadata": {},
   "outputs": [],
   "source": [
    "# analitzem solucions models\n",
    "import pandas as pd\n",
    "\n",
    "LReg0= pd.read_csv('Titanic_Predictions_LogReg0.csv')\n",
    "\n",
    "GradBoost0= pd.read_csv('Titanic_Predictions_GradBoost0.csv')\n",
    "\n",
    "LSVC= pd.read_csv('Titanic_Predictions_LSVC0.csv')\n",
    "\n",
    "RandomForest= pd.read_csv('Titanic_Predictions_RandomForestC0.csv')\n",
    "\n",
    "DecTree= pd.read_csv('Titanic_Predictions_DecisionTreeC0.csv')\n",
    "\n",
    "KNeigh= pd.read_csv('Titanic_Predictions_KNeoghbours0.csv')"
   ]
  },
  {
   "cell_type": "code",
   "execution_count": 73,
   "metadata": {},
   "outputs": [
    {
     "name": "stdout",
     "output_type": "stream",
     "text": [
      "   PassengerId  Survived\n",
      "0          892         0\n",
      "1          893         1\n",
      "2          894         0\n",
      "3          895         0\n",
      "4          896         1\n"
     ]
    }
   ],
   "source": [
    "print(LReg0.head())"
   ]
  },
  {
   "cell_type": "code",
   "execution_count": 74,
   "metadata": {},
   "outputs": [],
   "source": [
    "from functools import reduce\n",
    "frames = [LReg0,GradBoost0, LSVC, RandomForest, DecTree, KNeigh]\n",
    "\n",
    "df_final = reduce(lambda left,right: pd.merge(left,right,on='PassengerId'), frames)\n",
    "df_final.columns=['PassengerId','LReg0', 'GradBoost0','LSVC', 'RandomForest', 'DecTree', 'KNeigh']"
   ]
  },
  {
   "cell_type": "code",
   "execution_count": 75,
   "metadata": {},
   "outputs": [
    {
     "name": "stdout",
     "output_type": "stream",
     "text": [
      "   PassengerId  LReg0  GradBoost0  LSVC  RandomForest  DecTree  KNeigh\n",
      "0          892      0           0     0             0        0       0\n",
      "1          893      1           1     1             0        0       0\n",
      "2          894      0           0     0             0        0       0\n",
      "3          895      0           0     0             0        0       0\n",
      "4          896      1           1     1             0        0       0\n"
     ]
    }
   ],
   "source": [
    "print (df_final.head())"
   ]
  },
  {
   "cell_type": "code",
   "execution_count": 41,
   "metadata": {},
   "outputs": [
    {
     "data": {
      "image/png": "[encoded data removed]",
      "text/plain": [
       "<Figure size 1440x432 with 1 Axes>"
      ]
     },
     "metadata": {},
     "output_type": "display_data"
    }
   ],
   "source": [
    "import matplotlib.pyplot as plt\n",
    "df_final.plot(kind='line',x='PassengerId', y=['LReg0','GradBoost0'],style='.',figsize=(20,6),alpha=0.5)\n",
    "plt.show()\n"
   ]
  },
  {
   "cell_type": "code",
   "execution_count": 76,
   "metadata": {},
   "outputs": [],
   "source": [
    "df_final = df_final.set_index('PassengerId')\n",
    "df_final['suma']=df_final.sum(axis=1)"
   ]
  },
  {
   "cell_type": "code",
   "execution_count": 77,
   "metadata": {},
   "outputs": [],
   "source": [
    "df_final['median']=df_final.median(axis=1)"
   ]
  },
  {
   "cell_type": "code",
   "execution_count": 78,
   "metadata": {},
   "outputs": [
    {
     "name": "stdout",
     "output_type": "stream",
     "text": [
      "             LReg0  GradBoost0  LSVC  RandomForest  DecTree  KNeigh  suma  \\\n",
      "PassengerId                                                                 \n",
      "892              0           0     0             0        0       0     0   \n",
      "893              1           1     1             0        0       0     3   \n",
      "894              0           0     0             0        0       0     0   \n",
      "895              0           0     0             0        0       0     0   \n",
      "896              1           1     1             0        0       0     3   \n",
      "897              0           0     0             0        0       0     0   \n",
      "898              1           1     1             1        1       1     6   \n",
      "899              0           0     0             0        0       0     0   \n",
      "900              1           1     1             1        1       1     6   \n",
      "901              0           0     0             0        0       0     0   \n",
      "902              0           0     0             0        0       0     0   \n",
      "903              0           0     0             0        0       0     0   \n",
      "904              1           1     1             1        1       1     6   \n",
      "905              0           0     0             0        0       0     0   \n",
      "906              1           1     1             1        1       1     6   \n",
      "907              1           1     1             1        1       1     6   \n",
      "908              0           0     0             0        0       0     0   \n",
      "909              0           0     0             0        0       0     0   \n",
      "910              1           1     1             0        0       0     3   \n",
      "911              1           1     1             1        1       1     6   \n",
      "912              0           0     0             0        0       0     0   \n",
      "913              0           0     0             1        1       1     3   \n",
      "914              1           1     1             1        1       1     6   \n",
      "915              0           0     0             0        0       0     0   \n",
      "916              1           1     1             1        1       1     6   \n",
      "917              0           0     0             0        0       0     0   \n",
      "918              1           1     1             1        1       1     6   \n",
      "919              0           0     0             0        0       0     0   \n",
      "920              0           0     0             1        1       1     3   \n",
      "921              0           0     0             0        0       0     0   \n",
      "...            ...         ...   ...           ...      ...     ...   ...   \n",
      "1280             0           0     0             0        0       0     0   \n",
      "1281             0           0     0             0        0       0     0   \n",
      "1282             1           1     1             0        0       1     4   \n",
      "1283             1           1     1             1        1       1     6   \n",
      "1284             0           0     0             0        0       0     0   \n",
      "1285             0           0     0             0        0       0     0   \n",
      "1286             0           0     0             0        0       0     0   \n",
      "1287             1           1     1             1        1       1     6   \n",
      "1288             0           0     0             0        0       0     0   \n",
      "1289             1           1     1             1        1       1     6   \n",
      "1290             0           0     0             0        0       0     0   \n",
      "1291             0           0     0             0        0       0     0   \n",
      "1292             1           1     1             1        1       1     6   \n",
      "1293             0           0     0             0        0       0     0   \n",
      "1294             1           1     1             1        1       1     6   \n",
      "1295             0           0     0             0        0       0     0   \n",
      "1296             1           1     0             1        1       1     5   \n",
      "1297             0           0     0             0        0       0     0   \n",
      "1298             0           0     0             0        0       0     0   \n",
      "1299             0           0     0             0        0       0     0   \n",
      "1300             1           1     1             1        1       1     6   \n",
      "1301             1           1     1             0        0       1     4   \n",
      "1302             1           1     1             1        1       1     6   \n",
      "1303             1           1     1             1        1       1     6   \n",
      "1304             1           1     1             1        1       1     6   \n",
      "1305             0           0     0             0        0       0     0   \n",
      "1306             1           1     1             1        1       1     6   \n",
      "1307             0           0     0             0        0       0     0   \n",
      "1308             0           0     0             0        0       0     0   \n",
      "1309             0           0     0             0        0       0     0   \n",
      "\n",
      "             median  \n",
      "PassengerId          \n",
      "892             0.0  \n",
      "893             1.0  \n",
      "894             0.0  \n",
      "895             0.0  \n",
      "896             1.0  \n",
      "897             0.0  \n",
      "898             1.0  \n",
      "899             0.0  \n",
      "900             1.0  \n",
      "901             0.0  \n",
      "902             0.0  \n",
      "903             0.0  \n",
      "904             1.0  \n",
      "905             0.0  \n",
      "906             1.0  \n",
      "907             1.0  \n",
      "908             0.0  \n",
      "909             0.0  \n",
      "910             1.0  \n",
      "911             1.0  \n",
      "912             0.0  \n",
      "913             1.0  \n",
      "914             1.0  \n",
      "915             0.0  \n",
      "916             1.0  \n",
      "917             0.0  \n",
      "918             1.0  \n",
      "919             0.0  \n",
      "920             1.0  \n",
      "921             0.0  \n",
      "...             ...  \n",
      "1280            0.0  \n",
      "1281            0.0  \n",
      "1282            1.0  \n",
      "1283            1.0  \n",
      "1284            0.0  \n",
      "1285            0.0  \n",
      "1286            0.0  \n",
      "1287            1.0  \n",
      "1288            0.0  \n",
      "1289            1.0  \n",
      "1290            0.0  \n",
      "1291            0.0  \n",
      "1292            1.0  \n",
      "1293            0.0  \n",
      "1294            1.0  \n",
      "1295            0.0  \n",
      "1296            1.0  \n",
      "1297            0.0  \n",
      "1298            0.0  \n",
      "1299            0.0  \n",
      "1300            1.0  \n",
      "1301            1.0  \n",
      "1302            1.0  \n",
      "1303            1.0  \n",
      "1304            1.0  \n",
      "1305            0.0  \n",
      "1306            1.0  \n",
      "1307            0.0  \n",
      "1308            0.0  \n",
      "1309            0.0  \n",
      "\n",
      "[418 rows x 8 columns]\n"
     ]
    }
   ],
   "source": [
    "print(df_final)"
   ]
  },
  {
   "cell_type": "code",
   "execution_count": 79,
   "metadata": {},
   "outputs": [
    {
     "data": {
      "image/png": "[encoded data removed]",
      "text/plain": [
       "<Figure size 432x288 with 1 Axes>"
      ]
     },
     "metadata": {},
     "output_type": "display_data"
    }
   ],
   "source": [
    "df_final['suma'].plot.hist(colormap='Accent')\n",
    "plt.show()"
   ]
  },
  {
   "cell_type": "code",
   "execution_count": 71,
   "metadata": {},
   "outputs": [
    {
     "data": {
      "image/png": "[encoded data removed]",
      "text/plain": [
       "<Figure size 432x288 with 2 Axes>"
      ]
     },
     "metadata": {},
     "output_type": "display_data"
    },
    {
     "data": {
      "image/png": "[encoded data removed]",
      "text/plain": [
       "<Figure size 432x288 with 2 Axes>"
      ]
     },
     "metadata": {},
     "output_type": "display_data"
    },
    {
     "data": {
      "image/png": "[encoded data removed]",
      "text/plain": [
       "<Figure size 432x288 with 2 Axes>"
      ]
     },
     "metadata": {},
     "output_type": "display_data"
    },
    {
     "data": {
      "image/png": "[encoded data removed]",
      "text/plain": [
       "<Figure size 432x288 with 2 Axes>"
      ]
     },
     "metadata": {},
     "output_type": "display_data"
    },
    {
     "data": {
      "image/png": "[encoded data removed]",
      "text/plain": [
       "<Figure size 432x288 with 2 Axes>"
      ]
     },
     "metadata": {},
     "output_type": "display_data"
    },
    {
     "data": {
      "image/png": "[encoded data removed]",
      "text/plain": [
       "<Figure size 432x288 with 2 Axes>"
      ]
     },
     "metadata": {},
     "output_type": "display_data"
    }
   ],
   "source": [
    "from sklearn.metrics import confusion_matrix\n",
    "LReg0_median= confusion_matrix(df_final['LReg0'], df_final['median'])\n",
    "LReg0_RandomForest= confusion_matrix(df_final['LReg0'],df_final['RandomForest'])\n",
    "LReg0_GradBoost0= confusion_matrix(df_final['LReg0'],df_final['GradBoost0'])\n",
    "GradBoost0_median = confusion_matrix(df_final['GradBoost0'], df_final['median'])\n",
    "LSVC_median= confusion_matrix(df_final['LSVC'], df_final['median'])\n",
    "RandomForest_median= confusion_matrix(df_final['RandomForest'], df_final['median'])\n",
    "\n",
    "import seaborn as sn\n",
    "sn.heatmap(LReg0_RandomForest, annot=True)\n",
    "plt.show()\n",
    "\n",
    "sn.heatmap(LReg0_GradBoost0, annot=True)\n",
    "plt.show()\n",
    "\n",
    "sn.heatmap(LReg0_median, annot=True)\n",
    "plt.show()\n",
    "\n",
    "sn.heatmap(GradBoost0_median, annot=True)\n",
    "plt.show()\n",
    "\n",
    "sn.heatmap(LSVC_median, annot=True)\n",
    "plt.show()\n",
    "\n",
    "sn.heatmap(RandomForest_median, annot=True)\n",
    "plt.show()"
   ]
  },
  {
   "cell_type": "code",
   "execution_count": 89,
   "metadata": {},
   "outputs": [
    {
     "name": "stdout",
     "output_type": "stream",
     "text": [
      "             PassengerId  Survived\n",
      "PassengerId                       \n",
      "892                  892         0\n",
      "893                  893         1\n",
      "894                  894         0\n",
      "895                  895         0\n",
      "896                  896         1\n"
     ]
    }
   ],
   "source": [
    "submission = pd.DataFrame({'PassengerId':df_final.index.values,'Survived':df_final['median']})\n",
    "submission.head()\n",
    "#df.a = df.a.astype(float)\n",
    "submission['Survived'] = submission['Survived'].astype(int)\n",
    "print (submission.head())"
   ]
  },
  {
   "cell_type": "code",
   "execution_count": 90,
   "metadata": {},
   "outputs": [
    {
     "name": "stdout",
     "output_type": "stream",
     "text": [
      "Saved file: Titanic_Predictions_Ensemble_Models.csv\n"
     ]
    }
   ],
   "source": [
    "#Convert DataFrame to a csv file that can be uploaded\n",
    "#This is saved in the same directory as your notebook\n",
    "filename = 'Titanic_Predictions_Ensemble_Models.csv'\n",
    "\n",
    "submission.to_csv(filename,index=False)\n",
    "\n",
    "print('Saved file: ' + filename)"
   ]
  },
  {
   "cell_type": "code",
   "execution_count": null,
   "metadata": {},
   "outputs": [],
   "source": []
  }
 ],
 "metadata": {
  "kernelspec": {
   "display_name": "Python 3",
   "language": "python",
   "name": "python3"
  },
  "language_info": {
   "codemirror_mode": {
    "name": "ipython",
    "version": 3
   },
   "file_extension": ".py",
   "mimetype": "text/x-python",
   "name": "python",
   "nbconvert_exporter": "python",
   "pygments_lexer": "ipython3",
   "version": "3.6.5"
  }
 },
 "nbformat": 4,
 "nbformat_minor": 2
}
