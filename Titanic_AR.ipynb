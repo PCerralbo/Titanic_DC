{
 "cells": [
  {
   "cell_type": "code",
   "execution_count": 134,
   "metadata": {},
   "outputs": [
    {
     "data": {
      "text/html": [
       "<script type=\"text/javascript\">window.PlotlyConfig = {MathJaxConfig: 'local'};</script><script type=\"text/javascript\">if (window.MathJax) {MathJax.Hub.Config({SVG: {font: \"STIX-Web\"}});}</script><script>requirejs.config({paths: { 'plotly': ['https://cdn.plot.ly/plotly-latest.min']},});if(!window._Plotly) {require(['plotly'],function(plotly) {window._Plotly=plotly;});}</script>"
      ],
      "text/vnd.plotly.v1+html": [
       "<script type=\"text/javascript\">window.PlotlyConfig = {MathJaxConfig: 'local'};</script><script type=\"text/javascript\">if (window.MathJax) {MathJax.Hub.Config({SVG: {font: \"STIX-Web\"}});}</script><script>requirejs.config({paths: { 'plotly': ['https://cdn.plot.ly/plotly-latest.min']},});if(!window._Plotly) {require(['plotly'],function(plotly) {window._Plotly=plotly;});}</script>"
      ]
     },
     "metadata": {},
     "output_type": "display_data"
    }
   ],
   "source": [
    "import pandas as pd\n",
    "import numpy as np\n",
    "import matplotlib.pyplot as plt\n",
    "import seaborn as sns\n",
    "from scipy.stats import gaussian_kde\n",
    "\n",
    "import plotly\n",
    "import plotly.graph_objs as go\n",
    "from plotly import tools\n",
    "import plotly.figure_factory as ff\n",
    "\n",
    "##############  OFFLINE  ##############\n",
    "plotly.offline.init_notebook_mode(connected=True)\n",
    "#to plot offline: ##plotly.offline.iplot##\n",
    "\n",
    "##############  ONLINE  ##############\n",
    "#plotly.tools.set_credentials_file(username='arnaurovira23', api_key='7y46ugRJ8Rl6XCkCwBGM')\n",
    "#to plot online: ##py.iplot##\n",
    "import plotly.plotly as py"
   ]
  },
  {
   "cell_type": "markdown",
   "metadata": {},
   "source": [
    "# LOAD DATA"
   ]
  },
  {
   "cell_type": "markdown",
   "metadata": {},
   "source": [
    "##### train dataset"
   ]
  },
  {
   "cell_type": "code",
   "execution_count": 135,
   "metadata": {},
   "outputs": [
    {
     "data": {
      "text/html": [
       "<div>\n",
       "<style scoped>\n",
       "    .dataframe tbody tr th:only-of-type {\n",
       "        vertical-align: middle;\n",
       "    }\n",
       "\n",
       "    .dataframe tbody tr th {\n",
       "        vertical-align: top;\n",
       "    }\n",
       "\n",
       "    .dataframe thead th {\n",
       "        text-align: right;\n",
       "    }\n",
       "</style>\n",
       "<table border=\"1\" class=\"dataframe\">\n",
       "  <thead>\n",
       "    <tr style=\"text-align: right;\">\n",
       "      <th></th>\n",
       "      <th>PassengerId</th>\n",
       "      <th>Survived</th>\n",
       "      <th>Pclass</th>\n",
       "      <th>Name</th>\n",
       "      <th>Sex</th>\n",
       "      <th>Age</th>\n",
       "      <th>SibSp</th>\n",
       "      <th>Parch</th>\n",
       "      <th>Ticket</th>\n",
       "      <th>Fare</th>\n",
       "      <th>Cabin</th>\n",
       "      <th>Embarked</th>\n",
       "    </tr>\n",
       "  </thead>\n",
       "  <tbody>\n",
       "    <tr>\n",
       "      <th>347</th>\n",
       "      <td>348</td>\n",
       "      <td>1</td>\n",
       "      <td>3</td>\n",
       "      <td>Davison, Mrs. Thomas Henry (Mary E Finck)</td>\n",
       "      <td>female</td>\n",
       "      <td>NaN</td>\n",
       "      <td>1</td>\n",
       "      <td>0</td>\n",
       "      <td>386525</td>\n",
       "      <td>16.1000</td>\n",
       "      <td>NaN</td>\n",
       "      <td>S</td>\n",
       "    </tr>\n",
       "    <tr>\n",
       "      <th>674</th>\n",
       "      <td>675</td>\n",
       "      <td>0</td>\n",
       "      <td>2</td>\n",
       "      <td>Watson, Mr. Ennis Hastings</td>\n",
       "      <td>male</td>\n",
       "      <td>NaN</td>\n",
       "      <td>0</td>\n",
       "      <td>0</td>\n",
       "      <td>239856</td>\n",
       "      <td>0.0000</td>\n",
       "      <td>NaN</td>\n",
       "      <td>S</td>\n",
       "    </tr>\n",
       "    <tr>\n",
       "      <th>791</th>\n",
       "      <td>792</td>\n",
       "      <td>0</td>\n",
       "      <td>2</td>\n",
       "      <td>Gaskell, Mr. Alfred</td>\n",
       "      <td>male</td>\n",
       "      <td>16.0</td>\n",
       "      <td>0</td>\n",
       "      <td>0</td>\n",
       "      <td>239865</td>\n",
       "      <td>26.0000</td>\n",
       "      <td>NaN</td>\n",
       "      <td>S</td>\n",
       "    </tr>\n",
       "    <tr>\n",
       "      <th>836</th>\n",
       "      <td>837</td>\n",
       "      <td>0</td>\n",
       "      <td>3</td>\n",
       "      <td>Pasic, Mr. Jakob</td>\n",
       "      <td>male</td>\n",
       "      <td>21.0</td>\n",
       "      <td>0</td>\n",
       "      <td>0</td>\n",
       "      <td>315097</td>\n",
       "      <td>8.6625</td>\n",
       "      <td>NaN</td>\n",
       "      <td>S</td>\n",
       "    </tr>\n",
       "    <tr>\n",
       "      <th>56</th>\n",
       "      <td>57</td>\n",
       "      <td>1</td>\n",
       "      <td>2</td>\n",
       "      <td>Rugg, Miss. Emily</td>\n",
       "      <td>female</td>\n",
       "      <td>21.0</td>\n",
       "      <td>0</td>\n",
       "      <td>0</td>\n",
       "      <td>C.A. 31026</td>\n",
       "      <td>10.5000</td>\n",
       "      <td>NaN</td>\n",
       "      <td>S</td>\n",
       "    </tr>\n",
       "  </tbody>\n",
       "</table>\n",
       "</div>"
      ],
      "text/plain": [
       "     PassengerId  Survived  Pclass                                       Name  \\\n",
       "347          348         1       3  Davison, Mrs. Thomas Henry (Mary E Finck)   \n",
       "674          675         0       2                 Watson, Mr. Ennis Hastings   \n",
       "791          792         0       2                        Gaskell, Mr. Alfred   \n",
       "836          837         0       3                           Pasic, Mr. Jakob   \n",
       "56            57         1       2                          Rugg, Miss. Emily   \n",
       "\n",
       "        Sex   Age  SibSp  Parch      Ticket     Fare Cabin Embarked  \n",
       "347  female   NaN      1      0      386525  16.1000   NaN        S  \n",
       "674    male   NaN      0      0      239856   0.0000   NaN        S  \n",
       "791    male  16.0      0      0      239865  26.0000   NaN        S  \n",
       "836    male  21.0      0      0      315097   8.6625   NaN        S  \n",
       "56   female  21.0      0      0  C.A. 31026  10.5000   NaN        S  "
      ]
     },
     "execution_count": 135,
     "metadata": {},
     "output_type": "execute_result"
    }
   ],
   "source": [
    "#Load train dataset\n",
    "df_train = pd.read_csv('train.csv').sample(frac=1, random_state = 20)\n",
    "df_train.head()"
   ]
  },
  {
   "cell_type": "code",
   "execution_count": 136,
   "metadata": {},
   "outputs": [
    {
     "data": {
      "text/html": [
       "<div>\n",
       "<style scoped>\n",
       "    .dataframe tbody tr th:only-of-type {\n",
       "        vertical-align: middle;\n",
       "    }\n",
       "\n",
       "    .dataframe tbody tr th {\n",
       "        vertical-align: top;\n",
       "    }\n",
       "\n",
       "    .dataframe thead th {\n",
       "        text-align: right;\n",
       "    }\n",
       "</style>\n",
       "<table border=\"1\" class=\"dataframe\">\n",
       "  <thead>\n",
       "    <tr style=\"text-align: right;\">\n",
       "      <th></th>\n",
       "      <th>PassengerId</th>\n",
       "      <th>Survived</th>\n",
       "      <th>Pclass</th>\n",
       "      <th>Age</th>\n",
       "      <th>SibSp</th>\n",
       "      <th>Parch</th>\n",
       "      <th>Fare</th>\n",
       "    </tr>\n",
       "  </thead>\n",
       "  <tbody>\n",
       "    <tr>\n",
       "      <th>count</th>\n",
       "      <td>891.000000</td>\n",
       "      <td>891.000000</td>\n",
       "      <td>891.000000</td>\n",
       "      <td>714.000000</td>\n",
       "      <td>891.000000</td>\n",
       "      <td>891.000000</td>\n",
       "      <td>891.000000</td>\n",
       "    </tr>\n",
       "    <tr>\n",
       "      <th>mean</th>\n",
       "      <td>446.000000</td>\n",
       "      <td>0.383838</td>\n",
       "      <td>2.308642</td>\n",
       "      <td>29.699118</td>\n",
       "      <td>0.523008</td>\n",
       "      <td>0.381594</td>\n",
       "      <td>32.204208</td>\n",
       "    </tr>\n",
       "    <tr>\n",
       "      <th>std</th>\n",
       "      <td>257.353842</td>\n",
       "      <td>0.486592</td>\n",
       "      <td>0.836071</td>\n",
       "      <td>14.526497</td>\n",
       "      <td>1.102743</td>\n",
       "      <td>0.806057</td>\n",
       "      <td>49.693429</td>\n",
       "    </tr>\n",
       "    <tr>\n",
       "      <th>min</th>\n",
       "      <td>1.000000</td>\n",
       "      <td>0.000000</td>\n",
       "      <td>1.000000</td>\n",
       "      <td>0.420000</td>\n",
       "      <td>0.000000</td>\n",
       "      <td>0.000000</td>\n",
       "      <td>0.000000</td>\n",
       "    </tr>\n",
       "    <tr>\n",
       "      <th>25%</th>\n",
       "      <td>223.500000</td>\n",
       "      <td>0.000000</td>\n",
       "      <td>2.000000</td>\n",
       "      <td>20.125000</td>\n",
       "      <td>0.000000</td>\n",
       "      <td>0.000000</td>\n",
       "      <td>7.910400</td>\n",
       "    </tr>\n",
       "    <tr>\n",
       "      <th>50%</th>\n",
       "      <td>446.000000</td>\n",
       "      <td>0.000000</td>\n",
       "      <td>3.000000</td>\n",
       "      <td>28.000000</td>\n",
       "      <td>0.000000</td>\n",
       "      <td>0.000000</td>\n",
       "      <td>14.454200</td>\n",
       "    </tr>\n",
       "    <tr>\n",
       "      <th>75%</th>\n",
       "      <td>668.500000</td>\n",
       "      <td>1.000000</td>\n",
       "      <td>3.000000</td>\n",
       "      <td>38.000000</td>\n",
       "      <td>1.000000</td>\n",
       "      <td>0.000000</td>\n",
       "      <td>31.000000</td>\n",
       "    </tr>\n",
       "    <tr>\n",
       "      <th>max</th>\n",
       "      <td>891.000000</td>\n",
       "      <td>1.000000</td>\n",
       "      <td>3.000000</td>\n",
       "      <td>80.000000</td>\n",
       "      <td>8.000000</td>\n",
       "      <td>6.000000</td>\n",
       "      <td>512.329200</td>\n",
       "    </tr>\n",
       "  </tbody>\n",
       "</table>\n",
       "</div>"
      ],
      "text/plain": [
       "       PassengerId    Survived      Pclass         Age       SibSp  \\\n",
       "count   891.000000  891.000000  891.000000  714.000000  891.000000   \n",
       "mean    446.000000    0.383838    2.308642   29.699118    0.523008   \n",
       "std     257.353842    0.486592    0.836071   14.526497    1.102743   \n",
       "min       1.000000    0.000000    1.000000    0.420000    0.000000   \n",
       "25%     223.500000    0.000000    2.000000   20.125000    0.000000   \n",
       "50%     446.000000    0.000000    3.000000   28.000000    0.000000   \n",
       "75%     668.500000    1.000000    3.000000   38.000000    1.000000   \n",
       "max     891.000000    1.000000    3.000000   80.000000    8.000000   \n",
       "\n",
       "            Parch        Fare  \n",
       "count  891.000000  891.000000  \n",
       "mean     0.381594   32.204208  \n",
       "std      0.806057   49.693429  \n",
       "min      0.000000    0.000000  \n",
       "25%      0.000000    7.910400  \n",
       "50%      0.000000   14.454200  \n",
       "75%      0.000000   31.000000  \n",
       "max      6.000000  512.329200  "
      ]
     },
     "execution_count": 136,
     "metadata": {},
     "output_type": "execute_result"
    }
   ],
   "source": [
    "df_train.describe()"
   ]
  },
  {
   "cell_type": "code",
   "execution_count": 137,
   "metadata": {},
   "outputs": [
    {
     "name": "stdout",
     "output_type": "stream",
     "text": [
      "891\n"
     ]
    }
   ],
   "source": [
    "#Shape of train dataset\n",
    "num_train = df_train.shape[0]\n",
    "print(num_train)"
   ]
  },
  {
   "cell_type": "code",
   "execution_count": 138,
   "metadata": {},
   "outputs": [
    {
     "name": "stdout",
     "output_type": "stream",
     "text": [
      "['PassengerId', 'Survived', 'Pclass', 'Name', 'Sex', 'Age', 'SibSp', 'Parch', 'Ticket', 'Fare', 'Cabin', 'Embarked']\n"
     ]
    }
   ],
   "source": [
    "features_all = df_train.columns.tolist()\n",
    "print(features_all)"
   ]
  },
  {
   "cell_type": "code",
   "execution_count": 139,
   "metadata": {},
   "outputs": [
    {
     "name": "stdout",
     "output_type": "stream",
     "text": [
      "['PassengerId', 'Pclass', 'Age', 'SibSp', 'Parch', 'Fare']\n"
     ]
    }
   ],
   "source": [
    "features_int = ['PassengerId','Pclass','Age','SibSp','Parch','Fare']\n",
    "print(features_int)"
   ]
  },
  {
   "cell_type": "code",
   "execution_count": 140,
   "metadata": {},
   "outputs": [
    {
     "name": "stdout",
     "output_type": "stream",
     "text": [
      "['Name', 'Sex', 'Ticket', 'Cabin', 'Embarked']\n"
     ]
    }
   ],
   "source": [
    "features_obj = ['Name','Sex','Ticket','Cabin','Embarked']\n",
    "print(features_obj)"
   ]
  },
  {
   "cell_type": "code",
   "execution_count": 141,
   "metadata": {},
   "outputs": [
    {
     "name": "stdout",
     "output_type": "stream",
     "text": [
      "How many NaN values are in df_train dataset? 866\n"
     ]
    }
   ],
   "source": [
    "#df_train.isnull().sum().sum()\n",
    "print(f\"How many NaN values are in df_train dataset? {df_train.isnull().sum().sum()}\")"
   ]
  },
  {
   "cell_type": "code",
   "execution_count": 142,
   "metadata": {},
   "outputs": [
    {
     "data": {
      "text/plain": [
       "PassengerId      0\n",
       "Survived         0\n",
       "Pclass           0\n",
       "Name             0\n",
       "Sex              0\n",
       "Age            177\n",
       "SibSp            0\n",
       "Parch            0\n",
       "Ticket           0\n",
       "Fare             0\n",
       "Cabin          687\n",
       "Embarked         2\n",
       "dtype: int64"
      ]
     },
     "execution_count": 142,
     "metadata": {},
     "output_type": "execute_result"
    }
   ],
   "source": [
    "df_train.isnull().sum()"
   ]
  },
  {
   "cell_type": "code",
   "execution_count": 143,
   "metadata": {},
   "outputs": [
    {
     "name": "stdout",
     "output_type": "stream",
     "text": [
      "<class 'pandas.core.frame.DataFrame'>\n",
      "Int64Index: 891 entries, 347 to 355\n",
      "Data columns (total 12 columns):\n",
      "PassengerId    891 non-null int64\n",
      "Survived       891 non-null int64\n",
      "Pclass         891 non-null int64\n",
      "Name           891 non-null object\n",
      "Sex            891 non-null object\n",
      "Age            714 non-null float64\n",
      "SibSp          891 non-null int64\n",
      "Parch          891 non-null int64\n",
      "Ticket         891 non-null object\n",
      "Fare           891 non-null float64\n",
      "Cabin          204 non-null object\n",
      "Embarked       889 non-null object\n",
      "dtypes: float64(2), int64(5), object(5)\n",
      "memory usage: 90.5+ KB\n"
     ]
    }
   ],
   "source": [
    "df_train.info()"
   ]
  },
  {
   "cell_type": "markdown",
   "metadata": {},
   "source": [
    "##### test dataset"
   ]
  },
  {
   "cell_type": "code",
   "execution_count": 144,
   "metadata": {},
   "outputs": [
    {
     "data": {
      "text/html": [
       "<div>\n",
       "<style scoped>\n",
       "    .dataframe tbody tr th:only-of-type {\n",
       "        vertical-align: middle;\n",
       "    }\n",
       "\n",
       "    .dataframe tbody tr th {\n",
       "        vertical-align: top;\n",
       "    }\n",
       "\n",
       "    .dataframe thead th {\n",
       "        text-align: right;\n",
       "    }\n",
       "</style>\n",
       "<table border=\"1\" class=\"dataframe\">\n",
       "  <thead>\n",
       "    <tr style=\"text-align: right;\">\n",
       "      <th></th>\n",
       "      <th>PassengerId</th>\n",
       "      <th>Pclass</th>\n",
       "      <th>Name</th>\n",
       "      <th>Sex</th>\n",
       "      <th>Age</th>\n",
       "      <th>SibSp</th>\n",
       "      <th>Parch</th>\n",
       "      <th>Ticket</th>\n",
       "      <th>Fare</th>\n",
       "      <th>Cabin</th>\n",
       "      <th>Embarked</th>\n",
       "    </tr>\n",
       "  </thead>\n",
       "  <tbody>\n",
       "    <tr>\n",
       "      <th>362</th>\n",
       "      <td>1254</td>\n",
       "      <td>2</td>\n",
       "      <td>Ware, Mrs. John James (Florence Louise Long)</td>\n",
       "      <td>female</td>\n",
       "      <td>31.0</td>\n",
       "      <td>0</td>\n",
       "      <td>0</td>\n",
       "      <td>CA 31352</td>\n",
       "      <td>21.0000</td>\n",
       "      <td>NaN</td>\n",
       "      <td>S</td>\n",
       "    </tr>\n",
       "    <tr>\n",
       "      <th>154</th>\n",
       "      <td>1046</td>\n",
       "      <td>3</td>\n",
       "      <td>Asplund, Master. Filip Oscar</td>\n",
       "      <td>male</td>\n",
       "      <td>13.0</td>\n",
       "      <td>4</td>\n",
       "      <td>2</td>\n",
       "      <td>347077</td>\n",
       "      <td>31.3875</td>\n",
       "      <td>NaN</td>\n",
       "      <td>S</td>\n",
       "    </tr>\n",
       "    <tr>\n",
       "      <th>47</th>\n",
       "      <td>939</td>\n",
       "      <td>3</td>\n",
       "      <td>Shaughnessy, Mr. Patrick</td>\n",
       "      <td>male</td>\n",
       "      <td>NaN</td>\n",
       "      <td>0</td>\n",
       "      <td>0</td>\n",
       "      <td>370374</td>\n",
       "      <td>7.7500</td>\n",
       "      <td>NaN</td>\n",
       "      <td>Q</td>\n",
       "    </tr>\n",
       "    <tr>\n",
       "      <th>100</th>\n",
       "      <td>992</td>\n",
       "      <td>1</td>\n",
       "      <td>Stengel, Mrs. Charles Emil Henry (Annie May Mo...</td>\n",
       "      <td>female</td>\n",
       "      <td>43.0</td>\n",
       "      <td>1</td>\n",
       "      <td>0</td>\n",
       "      <td>11778</td>\n",
       "      <td>55.4417</td>\n",
       "      <td>C116</td>\n",
       "      <td>C</td>\n",
       "    </tr>\n",
       "    <tr>\n",
       "      <th>187</th>\n",
       "      <td>1079</td>\n",
       "      <td>3</td>\n",
       "      <td>Davies, Mr. Joseph</td>\n",
       "      <td>male</td>\n",
       "      <td>17.0</td>\n",
       "      <td>2</td>\n",
       "      <td>0</td>\n",
       "      <td>A/4 48873</td>\n",
       "      <td>8.0500</td>\n",
       "      <td>NaN</td>\n",
       "      <td>S</td>\n",
       "    </tr>\n",
       "  </tbody>\n",
       "</table>\n",
       "</div>"
      ],
      "text/plain": [
       "     PassengerId  Pclass                                               Name  \\\n",
       "362         1254       2       Ware, Mrs. John James (Florence Louise Long)   \n",
       "154         1046       3                       Asplund, Master. Filip Oscar   \n",
       "47           939       3                           Shaughnessy, Mr. Patrick   \n",
       "100          992       1  Stengel, Mrs. Charles Emil Henry (Annie May Mo...   \n",
       "187         1079       3                                 Davies, Mr. Joseph   \n",
       "\n",
       "        Sex   Age  SibSp  Parch     Ticket     Fare Cabin Embarked  \n",
       "362  female  31.0      0      0   CA 31352  21.0000   NaN        S  \n",
       "154    male  13.0      4      2     347077  31.3875   NaN        S  \n",
       "47     male   NaN      0      0     370374   7.7500   NaN        Q  \n",
       "100  female  43.0      1      0      11778  55.4417  C116        C  \n",
       "187    male  17.0      2      0  A/4 48873   8.0500   NaN        S  "
      ]
     },
     "execution_count": 144,
     "metadata": {},
     "output_type": "execute_result"
    }
   ],
   "source": [
    "#Load test dataset\n",
    "df_test = pd.read_csv('test.csv').sample(frac=1, random_state = 10)\n",
    "df_test.head()"
   ]
  },
  {
   "cell_type": "code",
   "execution_count": 145,
   "metadata": {},
   "outputs": [
    {
     "data": {
      "text/html": [
       "<div>\n",
       "<style scoped>\n",
       "    .dataframe tbody tr th:only-of-type {\n",
       "        vertical-align: middle;\n",
       "    }\n",
       "\n",
       "    .dataframe tbody tr th {\n",
       "        vertical-align: top;\n",
       "    }\n",
       "\n",
       "    .dataframe thead th {\n",
       "        text-align: right;\n",
       "    }\n",
       "</style>\n",
       "<table border=\"1\" class=\"dataframe\">\n",
       "  <thead>\n",
       "    <tr style=\"text-align: right;\">\n",
       "      <th></th>\n",
       "      <th>PassengerId</th>\n",
       "      <th>Pclass</th>\n",
       "      <th>Age</th>\n",
       "      <th>SibSp</th>\n",
       "      <th>Parch</th>\n",
       "      <th>Fare</th>\n",
       "    </tr>\n",
       "  </thead>\n",
       "  <tbody>\n",
       "    <tr>\n",
       "      <th>count</th>\n",
       "      <td>418.000000</td>\n",
       "      <td>418.000000</td>\n",
       "      <td>332.000000</td>\n",
       "      <td>418.000000</td>\n",
       "      <td>418.000000</td>\n",
       "      <td>417.000000</td>\n",
       "    </tr>\n",
       "    <tr>\n",
       "      <th>mean</th>\n",
       "      <td>1100.500000</td>\n",
       "      <td>2.265550</td>\n",
       "      <td>30.272590</td>\n",
       "      <td>0.447368</td>\n",
       "      <td>0.392344</td>\n",
       "      <td>35.627188</td>\n",
       "    </tr>\n",
       "    <tr>\n",
       "      <th>std</th>\n",
       "      <td>120.810458</td>\n",
       "      <td>0.841838</td>\n",
       "      <td>14.181209</td>\n",
       "      <td>0.896760</td>\n",
       "      <td>0.981429</td>\n",
       "      <td>55.907576</td>\n",
       "    </tr>\n",
       "    <tr>\n",
       "      <th>min</th>\n",
       "      <td>892.000000</td>\n",
       "      <td>1.000000</td>\n",
       "      <td>0.170000</td>\n",
       "      <td>0.000000</td>\n",
       "      <td>0.000000</td>\n",
       "      <td>0.000000</td>\n",
       "    </tr>\n",
       "    <tr>\n",
       "      <th>25%</th>\n",
       "      <td>996.250000</td>\n",
       "      <td>1.000000</td>\n",
       "      <td>21.000000</td>\n",
       "      <td>0.000000</td>\n",
       "      <td>0.000000</td>\n",
       "      <td>7.895800</td>\n",
       "    </tr>\n",
       "    <tr>\n",
       "      <th>50%</th>\n",
       "      <td>1100.500000</td>\n",
       "      <td>3.000000</td>\n",
       "      <td>27.000000</td>\n",
       "      <td>0.000000</td>\n",
       "      <td>0.000000</td>\n",
       "      <td>14.454200</td>\n",
       "    </tr>\n",
       "    <tr>\n",
       "      <th>75%</th>\n",
       "      <td>1204.750000</td>\n",
       "      <td>3.000000</td>\n",
       "      <td>39.000000</td>\n",
       "      <td>1.000000</td>\n",
       "      <td>0.000000</td>\n",
       "      <td>31.500000</td>\n",
       "    </tr>\n",
       "    <tr>\n",
       "      <th>max</th>\n",
       "      <td>1309.000000</td>\n",
       "      <td>3.000000</td>\n",
       "      <td>76.000000</td>\n",
       "      <td>8.000000</td>\n",
       "      <td>9.000000</td>\n",
       "      <td>512.329200</td>\n",
       "    </tr>\n",
       "  </tbody>\n",
       "</table>\n",
       "</div>"
      ],
      "text/plain": [
       "       PassengerId      Pclass         Age       SibSp       Parch        Fare\n",
       "count   418.000000  418.000000  332.000000  418.000000  418.000000  417.000000\n",
       "mean   1100.500000    2.265550   30.272590    0.447368    0.392344   35.627188\n",
       "std     120.810458    0.841838   14.181209    0.896760    0.981429   55.907576\n",
       "min     892.000000    1.000000    0.170000    0.000000    0.000000    0.000000\n",
       "25%     996.250000    1.000000   21.000000    0.000000    0.000000    7.895800\n",
       "50%    1100.500000    3.000000   27.000000    0.000000    0.000000   14.454200\n",
       "75%    1204.750000    3.000000   39.000000    1.000000    0.000000   31.500000\n",
       "max    1309.000000    3.000000   76.000000    8.000000    9.000000  512.329200"
      ]
     },
     "execution_count": 145,
     "metadata": {},
     "output_type": "execute_result"
    }
   ],
   "source": [
    "df_test.describe()"
   ]
  },
  {
   "cell_type": "code",
   "execution_count": 146,
   "metadata": {},
   "outputs": [
    {
     "name": "stdout",
     "output_type": "stream",
     "text": [
      "How many NaN values are in df_train dataset? 414\n"
     ]
    }
   ],
   "source": [
    "df_test.isnull().sum().sum()\n",
    "print(f\"How many NaN values are in df_train dataset? {df_test.isnull().sum().sum()}\")"
   ]
  },
  {
   "cell_type": "code",
   "execution_count": 147,
   "metadata": {},
   "outputs": [
    {
     "data": {
      "text/plain": [
       "PassengerId      0\n",
       "Pclass           0\n",
       "Name             0\n",
       "Sex              0\n",
       "Age             86\n",
       "SibSp            0\n",
       "Parch            0\n",
       "Ticket           0\n",
       "Fare             1\n",
       "Cabin          327\n",
       "Embarked         0\n",
       "dtype: int64"
      ]
     },
     "execution_count": 147,
     "metadata": {},
     "output_type": "execute_result"
    }
   ],
   "source": [
    "df_test.isnull().sum()"
   ]
  },
  {
   "cell_type": "code",
   "execution_count": 148,
   "metadata": {},
   "outputs": [
    {
     "name": "stdout",
     "output_type": "stream",
     "text": [
      "<class 'pandas.core.frame.DataFrame'>\n",
      "Int64Index: 418 entries, 362 to 265\n",
      "Data columns (total 11 columns):\n",
      "PassengerId    418 non-null int64\n",
      "Pclass         418 non-null int64\n",
      "Name           418 non-null object\n",
      "Sex            418 non-null object\n",
      "Age            332 non-null float64\n",
      "SibSp          418 non-null int64\n",
      "Parch          418 non-null int64\n",
      "Ticket         418 non-null object\n",
      "Fare           417 non-null float64\n",
      "Cabin          91 non-null object\n",
      "Embarked       418 non-null object\n",
      "dtypes: float64(2), int64(4), object(5)\n",
      "memory usage: 39.2+ KB\n"
     ]
    }
   ],
   "source": [
    "df_test.info()"
   ]
  },
  {
   "cell_type": "code",
   "execution_count": 149,
   "metadata": {},
   "outputs": [
    {
     "name": "stdout",
     "output_type": "stream",
     "text": [
      "418\n"
     ]
    }
   ],
   "source": [
    "#Shape of test dataset\n",
    "num_test = df_test.shape[0]\n",
    "print(num_test)"
   ]
  },
  {
   "cell_type": "code",
   "execution_count": 150,
   "metadata": {},
   "outputs": [],
   "source": [
    "#histograms of train vs test dels int\n",
    "\n",
    "def compare_dist(ax, feature, i=0):\n",
    "    sns.kdeplot(df_train[feature], label=\"train\", ax=ax)\n",
    "    sns.kdeplot(df_test[feature], label=\"test\", ax=ax)\n",
    "\n",
    "\n",
    "def numeric_tile(plot_func):\n",
    "    fig, axs = plt.subplots(1, 5, figsize=(24, 5))\n",
    "    axs = axs.flatten()\n",
    "    \n",
    "    for i, (ax, col) in enumerate(zip(axs, features_int)):\n",
    "        plot_func(ax, col, i)\n",
    "        ax.set_title(col)\n",
    "        sns.set(font_scale=1.3) \n",
    "        sns.set_style(\"ticks\")\n",
    "        ax.legend(frameon=False)\n",
    "    plt.tight_layout()"
   ]
  },
  {
   "cell_type": "code",
   "execution_count": 151,
   "metadata": {},
   "outputs": [
    {
     "name": "stderr",
     "output_type": "stream",
     "text": [
      "/anaconda3/lib/python3.6/site-packages/statsmodels/nonparametric/kde.py:448: RuntimeWarning:\n",
      "\n",
      "invalid value encountered in greater\n",
      "\n",
      "/anaconda3/lib/python3.6/site-packages/statsmodels/nonparametric/kde.py:448: RuntimeWarning:\n",
      "\n",
      "invalid value encountered in less\n",
      "\n"
     ]
    },
    {
     "data": {
      "image/png": "[encoded data removed]",
      "text/plain": [
       "<Figure size 1728x360 with 5 Axes>"
      ]
     },
     "metadata": {},
     "output_type": "display_data"
    }
   ],
   "source": [
    "numeric_tile(compare_dist)"
   ]
  },
  {
   "cell_type": "markdown",
   "metadata": {},
   "source": [
    "# EXPLORATORY DATA ANALYSIS"
   ]
  },
  {
   "cell_type": "code",
   "execution_count": 152,
   "metadata": {},
   "outputs": [
    {
     "data": {
      "text/plain": [
       "((891, 11), (418, 10))"
      ]
     },
     "execution_count": 152,
     "metadata": {},
     "output_type": "execute_result"
    }
   ],
   "source": [
    "df_train = df_train.drop(['Name'], axis=1)\n",
    "df_test = df_test.drop(['Name'], axis=1)\n",
    "combine = [df_train, df_test]\n",
    "df_train.shape, df_test.shape"
   ]
  },
  {
   "cell_type": "markdown",
   "metadata": {},
   "source": [
    "#### Analyze class balance"
   ]
  },
  {
   "cell_type": "code",
   "execution_count": 153,
   "metadata": {},
   "outputs": [],
   "source": [
    "survived = np.sort(df_train['Survived'].unique())"
   ]
  },
  {
   "cell_type": "code",
   "execution_count": 154,
   "metadata": {},
   "outputs": [
    {
     "data": {
      "text/plain": [
       "0    549\n",
       "1    342\n",
       "Name: Survived, dtype: int64"
      ]
     },
     "execution_count": 154,
     "metadata": {},
     "output_type": "execute_result"
    }
   ],
   "source": [
    "#count number of Cover_Type == TARGET on train dataset\n",
    "df_train['Survived'].value_counts()"
   ]
  },
  {
   "cell_type": "markdown",
   "metadata": {},
   "source": [
    "Veiem que hi han més morts que supervivents"
   ]
  },
  {
   "cell_type": "markdown",
   "metadata": {},
   "source": [
    "### Visualize histogram"
   ]
  },
  {
   "cell_type": "code",
   "execution_count": 155,
   "metadata": {},
   "outputs": [
    {
     "data": {
      "application/vnd.plotly.v1+json": {
       "config": {
        "linkText": "Export to plot.ly",
        "plotlyServerURL": "https://plot.ly",
        "showLink": false
       },
       "data": [
        {
         "name": "Survived 1",
         "nbinsx": 25,
         "opacity": 0.75,
         "type": "histogram",
         "uid": "0627c972-a19b-4c0f-9456-49a92cfd6915",
         "x": [
          21,
          20,
          35,
          40,
          33,
          33,
          40,
          5,
          33,
          35,
          49,
          4,
          24,
          18,
          2,
          19,
          27,
          58,
          22,
          36,
          25,
          24,
          17,
          39,
          35,
          13,
          27,
          35,
          1,
          4,
          27,
          43,
          21,
          9,
          60,
          21,
          24,
          45,
          24,
          31,
          29,
          45,
          36,
          36,
          27,
          31,
          16,
          25,
          18,
          41,
          13,
          3,
          17,
          14,
          56,
          45,
          25,
          20,
          36,
          35,
          29,
          17,
          52,
          2,
          37,
          16,
          38,
          35,
          8,
          41,
          3,
          15,
          28,
          45,
          36,
          29,
          19,
          18,
          34,
          22,
          25,
          0.75,
          36,
          3,
          50,
          31,
          32,
          23,
          19,
          49,
          19,
          30,
          42,
          38,
          36,
          16,
          22,
          35,
          32,
          49,
          4,
          31,
          22,
          34,
          28,
          34,
          4,
          21,
          40,
          1,
          23,
          15,
          26,
          30,
          39,
          27,
          28,
          34,
          44,
          22,
          22,
          40,
          44,
          27,
          27,
          30,
          22,
          0.42,
          26,
          19,
          18,
          15,
          24,
          26,
          9,
          45,
          29,
          33,
          31,
          2,
          33,
          7,
          49,
          50,
          14,
          28,
          17,
          24,
          51,
          35,
          1,
          24,
          24,
          36,
          30,
          30,
          52,
          31,
          42,
          0.92,
          52,
          58,
          42,
          15,
          42,
          36,
          25,
          42,
          48,
          22,
          20,
          24,
          28,
          30,
          32,
          32,
          27,
          53,
          0.83,
          4,
          35,
          38,
          17,
          48,
          80,
          54,
          40,
          62,
          19,
          6,
          29,
          16,
          28,
          35,
          4,
          63,
          26,
          39,
          5,
          24,
          29,
          32,
          33,
          1,
          55,
          14,
          11,
          50,
          24,
          28,
          19,
          29,
          0.67,
          54,
          50,
          48,
          16,
          6,
          63,
          34,
          16,
          40,
          27,
          12,
          58,
          48,
          38,
          5,
          39,
          27,
          24,
          30,
          23,
          18,
          22,
          19,
          24,
          18,
          17,
          8,
          18,
          24,
          30,
          3,
          44,
          23,
          19,
          32,
          39,
          48,
          1,
          31,
          4,
          31,
          35,
          48,
          38,
          5,
          24,
          27,
          32.5,
          18,
          0.83,
          22,
          34,
          22,
          36,
          32,
          56,
          60,
          30,
          18,
          3,
          26,
          50,
          54,
          42,
          62,
          30,
          29,
          32,
          47,
          21,
          51,
          36,
          26,
          0.75,
          23,
          32,
          25
         ]
        },
        {
         "name": "Survived 0",
         "nbinsx": 25,
         "opacity": 0.75,
         "type": "histogram",
         "uid": "1e8d0df0-e61d-41fd-90f4-553ae41842b2",
         "x": [
          16,
          21,
          45,
          40,
          33,
          18,
          59,
          26,
          28,
          23,
          26,
          22,
          64,
          42,
          9,
          39,
          36,
          32,
          70.5,
          32,
          14,
          42,
          23,
          32,
          19,
          29,
          47,
          22,
          58,
          19,
          30,
          50,
          19,
          31,
          11,
          19,
          27,
          18,
          30,
          34,
          51,
          29,
          25,
          31,
          10,
          2,
          35,
          11,
          28,
          9,
          20,
          22,
          54,
          23,
          28,
          46,
          35,
          40.5,
          11,
          26,
          2,
          17,
          24,
          22,
          30,
          30,
          16,
          21,
          17,
          32,
          16,
          47,
          39,
          18,
          50,
          34,
          22,
          30.5,
          52,
          23.5,
          36,
          21,
          23,
          38,
          24,
          38,
          21,
          21,
          60,
          39,
          18,
          28,
          34,
          25,
          8,
          44,
          15,
          39,
          30,
          16,
          27,
          16,
          2,
          4,
          40,
          28.5,
          37,
          36,
          4,
          30,
          28,
          30,
          62,
          40,
          18,
          39,
          61,
          30,
          22,
          30,
          30,
          20,
          32,
          2,
          25,
          18,
          16,
          10,
          51,
          9,
          6,
          25,
          17,
          33,
          21,
          50,
          14,
          33,
          30,
          28,
          23,
          18,
          22,
          45,
          26,
          20,
          28,
          31,
          24,
          30.5,
          35,
          29,
          23,
          29,
          45,
          43,
          27,
          65,
          44,
          65,
          20,
          28,
          28,
          37,
          58,
          19,
          24,
          45,
          18,
          25,
          21,
          36,
          25,
          24,
          42,
          2,
          36.5,
          33,
          19,
          22,
          19,
          24,
          26,
          29,
          66,
          37,
          25,
          32,
          26,
          43,
          21,
          28,
          27,
          28,
          19,
          22,
          56,
          47,
          46,
          50,
          25,
          34,
          38,
          37,
          18,
          31,
          38,
          36,
          21,
          40,
          47,
          40,
          21,
          24,
          17,
          21,
          19,
          51,
          38,
          24.5,
          27,
          20,
          23,
          28,
          32,
          21,
          70,
          42,
          50,
          48,
          29,
          47,
          29,
          29,
          21,
          14,
          18,
          21,
          28,
          31,
          22,
          36,
          38,
          57,
          60,
          21,
          48,
          35,
          34,
          35,
          42,
          64,
          19,
          20,
          7,
          47,
          39,
          25,
          41,
          28,
          9,
          19,
          54,
          39,
          17,
          33,
          27,
          18,
          31,
          45,
          41,
          35,
          49,
          45,
          40,
          17,
          36,
          41,
          34,
          43,
          71,
          49,
          4,
          36,
          30,
          30,
          17,
          65,
          32.5,
          22,
          24,
          20,
          20.5,
          22,
          20,
          9,
          32,
          42,
          44,
          61,
          33,
          18,
          21,
          56,
          46,
          26,
          54,
          21,
          43,
          34,
          26,
          29,
          31,
          51,
          35,
          24,
          45.5,
          59,
          14.5,
          2,
          31,
          34,
          48,
          19,
          2,
          29,
          7,
          32,
          25,
          28,
          33,
          23,
          44,
          1,
          31,
          25,
          16,
          24,
          28,
          61,
          19,
          45,
          21,
          22,
          33,
          71,
          20,
          26,
          21,
          24,
          29,
          19,
          55.5,
          22,
          25,
          1,
          29,
          16,
          19,
          36,
          23,
          16,
          3,
          24,
          44,
          27,
          40.5,
          62,
          18,
          55,
          44,
          41,
          51,
          25,
          39,
          25,
          70,
          23,
          19,
          36,
          40,
          24,
          9,
          28.5,
          33,
          30,
          8,
          34,
          39,
          37,
          57,
          20,
          24,
          16,
          18,
          52,
          18,
          30,
          54,
          47,
          47,
          25,
          42,
          26,
          28,
          22,
          20,
          74,
          45.5,
          52,
          16,
          54,
          18,
          26,
          18,
          25,
          25,
          24,
          26,
          36,
          34.5,
          20,
          22,
          28
         ]
        }
       ],
       "layout": {
        "barmode": "overlay",
        "title": {
         "text": "Distplot of Age"
        }
       }
      },
      "text/html": [
       "<div id=\"6236d1f7-2fc6-4d66-8c42-b00a65b74c20\" style=\"height: 525px; width: 100%;\" class=\"plotly-graph-div\"></div><script type=\"text/javascript\">require([\"plotly\"], function(Plotly) { window.PLOTLYENV=window.PLOTLYENV || {};window.PLOTLYENV.BASE_URL=\"https://plot.ly\";Plotly.newPlot(\"6236d1f7-2fc6-4d66-8c42-b00a65b74c20\", [{\"name\": \"Survived 1\", \"nbinsx\": 25, \"opacity\": 0.75, \"x\": [21.0, 20.0, 35.0, 40.0, 33.0, 33.0, 40.0, 5.0, 33.0, 35.0, 49.0, 4.0, 24.0, 18.0, 2.0, 19.0, 27.0, 58.0, 22.0, 36.0, 25.0, 24.0, 17.0, 39.0, 35.0, 13.0, 27.0, 35.0, 1.0, 4.0, 27.0, 43.0, 21.0, 9.0, 60.0, 21.0, 24.0, 45.0, 24.0, 31.0, 29.0, 45.0, 36.0, 36.0, 27.0, 31.0, 16.0, 25.0, 18.0, 41.0, 13.0, 3.0, 17.0, 14.0, 56.0, 45.0, 25.0, 20.0, 36.0, 35.0, 29.0, 17.0, 52.0, 2.0, 37.0, 16.0, 38.0, 35.0, 8.0, 41.0, 3.0, 15.0, 28.0, 45.0, 36.0, 29.0, 19.0, 18.0, 34.0, 22.0, 25.0, 0.75, 36.0, 3.0, 50.0, 31.0, 32.0, 23.0, 19.0, 49.0, 19.0, 30.0, 42.0, 38.0, 36.0, 16.0, 22.0, 35.0, 32.0, 49.0, 4.0, 31.0, 22.0, 34.0, 28.0, 34.0, 4.0, 21.0, 40.0, 1.0, 23.0, 15.0, 26.0, 30.0, 39.0, 27.0, 28.0, 34.0, 44.0, 22.0, 22.0, 40.0, 44.0, 27.0, 27.0, 30.0, 22.0, 0.42, 26.0, 19.0, 18.0, 15.0, 24.0, 26.0, 9.0, 45.0, 29.0, 33.0, 31.0, 2.0, 33.0, 7.0, 49.0, 50.0, 14.0, 28.0, 17.0, 24.0, 51.0, 35.0, 1.0, 24.0, 24.0, 36.0, 30.0, 30.0, 52.0, 31.0, 42.0, 0.92, 52.0, 58.0, 42.0, 15.0, 42.0, 36.0, 25.0, 42.0, 48.0, 22.0, 20.0, 24.0, 28.0, 30.0, 32.0, 32.0, 27.0, 53.0, 0.83, 4.0, 35.0, 38.0, 17.0, 48.0, 80.0, 54.0, 40.0, 62.0, 19.0, 6.0, 29.0, 16.0, 28.0, 35.0, 4.0, 63.0, 26.0, 39.0, 5.0, 24.0, 29.0, 32.0, 33.0, 1.0, 55.0, 14.0, 11.0, 50.0, 24.0, 28.0, 19.0, 29.0, 0.67, 54.0, 50.0, 48.0, 16.0, 6.0, 63.0, 34.0, 16.0, 40.0, 27.0, 12.0, 58.0, 48.0, 38.0, 5.0, 39.0, 27.0, 24.0, 30.0, 23.0, 18.0, 22.0, 19.0, 24.0, 18.0, 17.0, 8.0, 18.0, 24.0, 30.0, 3.0, 44.0, 23.0, 19.0, 32.0, 39.0, 48.0, 1.0, 31.0, 4.0, 31.0, 35.0, 48.0, 38.0, 5.0, 24.0, 27.0, 32.5, 18.0, 0.83, 22.0, 34.0, 22.0, 36.0, 32.0, 56.0, 60.0, 30.0, 18.0, 3.0, 26.0, 50.0, 54.0, 42.0, 62.0, 30.0, 29.0, 32.0, 47.0, 21.0, 51.0, 36.0, 26.0, 0.75, 23.0, 32.0, 25.0], \"type\": \"histogram\", \"uid\": \"0627c972-a19b-4c0f-9456-49a92cfd6915\"}, {\"name\": \"Survived 0\", \"nbinsx\": 25, \"opacity\": 0.75, \"x\": [16.0, 21.0, 45.0, 40.0, 33.0, 18.0, 59.0, 26.0, 28.0, 23.0, 26.0, 22.0, 64.0, 42.0, 9.0, 39.0, 36.0, 32.0, 70.5, 32.0, 14.0, 42.0, 23.0, 32.0, 19.0, 29.0, 47.0, 22.0, 58.0, 19.0, 30.0, 50.0, 19.0, 31.0, 11.0, 19.0, 27.0, 18.0, 30.0, 34.0, 51.0, 29.0, 25.0, 31.0, 10.0, 2.0, 35.0, 11.0, 28.0, 9.0, 20.0, 22.0, 54.0, 23.0, 28.0, 46.0, 35.0, 40.5, 11.0, 26.0, 2.0, 17.0, 24.0, 22.0, 30.0, 30.0, 16.0, 21.0, 17.0, 32.0, 16.0, 47.0, 39.0, 18.0, 50.0, 34.0, 22.0, 30.5, 52.0, 23.5, 36.0, 21.0, 23.0, 38.0, 24.0, 38.0, 21.0, 21.0, 60.0, 39.0, 18.0, 28.0, 34.0, 25.0, 8.0, 44.0, 15.0, 39.0, 30.0, 16.0, 27.0, 16.0, 2.0, 4.0, 40.0, 28.5, 37.0, 36.0, 4.0, 30.0, 28.0, 30.0, 62.0, 40.0, 18.0, 39.0, 61.0, 30.0, 22.0, 30.0, 30.0, 20.0, 32.0, 2.0, 25.0, 18.0, 16.0, 10.0, 51.0, 9.0, 6.0, 25.0, 17.0, 33.0, 21.0, 50.0, 14.0, 33.0, 30.0, 28.0, 23.0, 18.0, 22.0, 45.0, 26.0, 20.0, 28.0, 31.0, 24.0, 30.5, 35.0, 29.0, 23.0, 29.0, 45.0, 43.0, 27.0, 65.0, 44.0, 65.0, 20.0, 28.0, 28.0, 37.0, 58.0, 19.0, 24.0, 45.0, 18.0, 25.0, 21.0, 36.0, 25.0, 24.0, 42.0, 2.0, 36.5, 33.0, 19.0, 22.0, 19.0, 24.0, 26.0, 29.0, 66.0, 37.0, 25.0, 32.0, 26.0, 43.0, 21.0, 28.0, 27.0, 28.0, 19.0, 22.0, 56.0, 47.0, 46.0, 50.0, 25.0, 34.0, 38.0, 37.0, 18.0, 31.0, 38.0, 36.0, 21.0, 40.0, 47.0, 40.0, 21.0, 24.0, 17.0, 21.0, 19.0, 51.0, 38.0, 24.5, 27.0, 20.0, 23.0, 28.0, 32.0, 21.0, 70.0, 42.0, 50.0, 48.0, 29.0, 47.0, 29.0, 29.0, 21.0, 14.0, 18.0, 21.0, 28.0, 31.0, 22.0, 36.0, 38.0, 57.0, 60.0, 21.0, 48.0, 35.0, 34.0, 35.0, 42.0, 64.0, 19.0, 20.0, 7.0, 47.0, 39.0, 25.0, 41.0, 28.0, 9.0, 19.0, 54.0, 39.0, 17.0, 33.0, 27.0, 18.0, 31.0, 45.0, 41.0, 35.0, 49.0, 45.0, 40.0, 17.0, 36.0, 41.0, 34.0, 43.0, 71.0, 49.0, 4.0, 36.0, 30.0, 30.0, 17.0, 65.0, 32.5, 22.0, 24.0, 20.0, 20.5, 22.0, 20.0, 9.0, 32.0, 42.0, 44.0, 61.0, 33.0, 18.0, 21.0, 56.0, 46.0, 26.0, 54.0, 21.0, 43.0, 34.0, 26.0, 29.0, 31.0, 51.0, 35.0, 24.0, 45.5, 59.0, 14.5, 2.0, 31.0, 34.0, 48.0, 19.0, 2.0, 29.0, 7.0, 32.0, 25.0, 28.0, 33.0, 23.0, 44.0, 1.0, 31.0, 25.0, 16.0, 24.0, 28.0, 61.0, 19.0, 45.0, 21.0, 22.0, 33.0, 71.0, 20.0, 26.0, 21.0, 24.0, 29.0, 19.0, 55.5, 22.0, 25.0, 1.0, 29.0, 16.0, 19.0, 36.0, 23.0, 16.0, 3.0, 24.0, 44.0, 27.0, 40.5, 62.0, 18.0, 55.0, 44.0, 41.0, 51.0, 25.0, 39.0, 25.0, 70.0, 23.0, 19.0, 36.0, 40.0, 24.0, 9.0, 28.5, 33.0, 30.0, 8.0, 34.0, 39.0, 37.0, 57.0, 20.0, 24.0, 16.0, 18.0, 52.0, 18.0, 30.0, 54.0, 47.0, 47.0, 25.0, 42.0, 26.0, 28.0, 22.0, 20.0, 74.0, 45.5, 52.0, 16.0, 54.0, 18.0, 26.0, 18.0, 25.0, 25.0, 24.0, 26.0, 36.0, 34.5, 20.0, 22.0, 28.0], \"type\": \"histogram\", \"uid\": \"1e8d0df0-e61d-41fd-90f4-553ae41842b2\"}], {\"barmode\": \"overlay\", \"title\": {\"text\": \"Distplot of Age\"}}, {\"showLink\": false, \"linkText\": \"Export to plot.ly\", \"plotlyServerURL\": \"https://plot.ly\"})});</script><script type=\"text/javascript\">window.addEventListener(\"resize\", function(){window._Plotly.Plots.resize(document.getElementById(\"6236d1f7-2fc6-4d66-8c42-b00a65b74c20\"));});</script>"
      ],
      "text/vnd.plotly.v1+html": [
       "<div id=\"6236d1f7-2fc6-4d66-8c42-b00a65b74c20\" style=\"height: 525px; width: 100%;\" class=\"plotly-graph-div\"></div><script type=\"text/javascript\">require([\"plotly\"], function(Plotly) { window.PLOTLYENV=window.PLOTLYENV || {};window.PLOTLYENV.BASE_URL=\"https://plot.ly\";Plotly.newPlot(\"6236d1f7-2fc6-4d66-8c42-b00a65b74c20\", [{\"name\": \"Survived 1\", \"nbinsx\": 25, \"opacity\": 0.75, \"x\": [21.0, 20.0, 35.0, 40.0, 33.0, 33.0, 40.0, 5.0, 33.0, 35.0, 49.0, 4.0, 24.0, 18.0, 2.0, 19.0, 27.0, 58.0, 22.0, 36.0, 25.0, 24.0, 17.0, 39.0, 35.0, 13.0, 27.0, 35.0, 1.0, 4.0, 27.0, 43.0, 21.0, 9.0, 60.0, 21.0, 24.0, 45.0, 24.0, 31.0, 29.0, 45.0, 36.0, 36.0, 27.0, 31.0, 16.0, 25.0, 18.0, 41.0, 13.0, 3.0, 17.0, 14.0, 56.0, 45.0, 25.0, 20.0, 36.0, 35.0, 29.0, 17.0, 52.0, 2.0, 37.0, 16.0, 38.0, 35.0, 8.0, 41.0, 3.0, 15.0, 28.0, 45.0, 36.0, 29.0, 19.0, 18.0, 34.0, 22.0, 25.0, 0.75, 36.0, 3.0, 50.0, 31.0, 32.0, 23.0, 19.0, 49.0, 19.0, 30.0, 42.0, 38.0, 36.0, 16.0, 22.0, 35.0, 32.0, 49.0, 4.0, 31.0, 22.0, 34.0, 28.0, 34.0, 4.0, 21.0, 40.0, 1.0, 23.0, 15.0, 26.0, 30.0, 39.0, 27.0, 28.0, 34.0, 44.0, 22.0, 22.0, 40.0, 44.0, 27.0, 27.0, 30.0, 22.0, 0.42, 26.0, 19.0, 18.0, 15.0, 24.0, 26.0, 9.0, 45.0, 29.0, 33.0, 31.0, 2.0, 33.0, 7.0, 49.0, 50.0, 14.0, 28.0, 17.0, 24.0, 51.0, 35.0, 1.0, 24.0, 24.0, 36.0, 30.0, 30.0, 52.0, 31.0, 42.0, 0.92, 52.0, 58.0, 42.0, 15.0, 42.0, 36.0, 25.0, 42.0, 48.0, 22.0, 20.0, 24.0, 28.0, 30.0, 32.0, 32.0, 27.0, 53.0, 0.83, 4.0, 35.0, 38.0, 17.0, 48.0, 80.0, 54.0, 40.0, 62.0, 19.0, 6.0, 29.0, 16.0, 28.0, 35.0, 4.0, 63.0, 26.0, 39.0, 5.0, 24.0, 29.0, 32.0, 33.0, 1.0, 55.0, 14.0, 11.0, 50.0, 24.0, 28.0, 19.0, 29.0, 0.67, 54.0, 50.0, 48.0, 16.0, 6.0, 63.0, 34.0, 16.0, 40.0, 27.0, 12.0, 58.0, 48.0, 38.0, 5.0, 39.0, 27.0, 24.0, 30.0, 23.0, 18.0, 22.0, 19.0, 24.0, 18.0, 17.0, 8.0, 18.0, 24.0, 30.0, 3.0, 44.0, 23.0, 19.0, 32.0, 39.0, 48.0, 1.0, 31.0, 4.0, 31.0, 35.0, 48.0, 38.0, 5.0, 24.0, 27.0, 32.5, 18.0, 0.83, 22.0, 34.0, 22.0, 36.0, 32.0, 56.0, 60.0, 30.0, 18.0, 3.0, 26.0, 50.0, 54.0, 42.0, 62.0, 30.0, 29.0, 32.0, 47.0, 21.0, 51.0, 36.0, 26.0, 0.75, 23.0, 32.0, 25.0], \"type\": \"histogram\", \"uid\": \"0627c972-a19b-4c0f-9456-49a92cfd6915\"}, {\"name\": \"Survived 0\", \"nbinsx\": 25, \"opacity\": 0.75, \"x\": [16.0, 21.0, 45.0, 40.0, 33.0, 18.0, 59.0, 26.0, 28.0, 23.0, 26.0, 22.0, 64.0, 42.0, 9.0, 39.0, 36.0, 32.0, 70.5, 32.0, 14.0, 42.0, 23.0, 32.0, 19.0, 29.0, 47.0, 22.0, 58.0, 19.0, 30.0, 50.0, 19.0, 31.0, 11.0, 19.0, 27.0, 18.0, 30.0, 34.0, 51.0, 29.0, 25.0, 31.0, 10.0, 2.0, 35.0, 11.0, 28.0, 9.0, 20.0, 22.0, 54.0, 23.0, 28.0, 46.0, 35.0, 40.5, 11.0, 26.0, 2.0, 17.0, 24.0, 22.0, 30.0, 30.0, 16.0, 21.0, 17.0, 32.0, 16.0, 47.0, 39.0, 18.0, 50.0, 34.0, 22.0, 30.5, 52.0, 23.5, 36.0, 21.0, 23.0, 38.0, 24.0, 38.0, 21.0, 21.0, 60.0, 39.0, 18.0, 28.0, 34.0, 25.0, 8.0, 44.0, 15.0, 39.0, 30.0, 16.0, 27.0, 16.0, 2.0, 4.0, 40.0, 28.5, 37.0, 36.0, 4.0, 30.0, 28.0, 30.0, 62.0, 40.0, 18.0, 39.0, 61.0, 30.0, 22.0, 30.0, 30.0, 20.0, 32.0, 2.0, 25.0, 18.0, 16.0, 10.0, 51.0, 9.0, 6.0, 25.0, 17.0, 33.0, 21.0, 50.0, 14.0, 33.0, 30.0, 28.0, 23.0, 18.0, 22.0, 45.0, 26.0, 20.0, 28.0, 31.0, 24.0, 30.5, 35.0, 29.0, 23.0, 29.0, 45.0, 43.0, 27.0, 65.0, 44.0, 65.0, 20.0, 28.0, 28.0, 37.0, 58.0, 19.0, 24.0, 45.0, 18.0, 25.0, 21.0, 36.0, 25.0, 24.0, 42.0, 2.0, 36.5, 33.0, 19.0, 22.0, 19.0, 24.0, 26.0, 29.0, 66.0, 37.0, 25.0, 32.0, 26.0, 43.0, 21.0, 28.0, 27.0, 28.0, 19.0, 22.0, 56.0, 47.0, 46.0, 50.0, 25.0, 34.0, 38.0, 37.0, 18.0, 31.0, 38.0, 36.0, 21.0, 40.0, 47.0, 40.0, 21.0, 24.0, 17.0, 21.0, 19.0, 51.0, 38.0, 24.5, 27.0, 20.0, 23.0, 28.0, 32.0, 21.0, 70.0, 42.0, 50.0, 48.0, 29.0, 47.0, 29.0, 29.0, 21.0, 14.0, 18.0, 21.0, 28.0, 31.0, 22.0, 36.0, 38.0, 57.0, 60.0, 21.0, 48.0, 35.0, 34.0, 35.0, 42.0, 64.0, 19.0, 20.0, 7.0, 47.0, 39.0, 25.0, 41.0, 28.0, 9.0, 19.0, 54.0, 39.0, 17.0, 33.0, 27.0, 18.0, 31.0, 45.0, 41.0, 35.0, 49.0, 45.0, 40.0, 17.0, 36.0, 41.0, 34.0, 43.0, 71.0, 49.0, 4.0, 36.0, 30.0, 30.0, 17.0, 65.0, 32.5, 22.0, 24.0, 20.0, 20.5, 22.0, 20.0, 9.0, 32.0, 42.0, 44.0, 61.0, 33.0, 18.0, 21.0, 56.0, 46.0, 26.0, 54.0, 21.0, 43.0, 34.0, 26.0, 29.0, 31.0, 51.0, 35.0, 24.0, 45.5, 59.0, 14.5, 2.0, 31.0, 34.0, 48.0, 19.0, 2.0, 29.0, 7.0, 32.0, 25.0, 28.0, 33.0, 23.0, 44.0, 1.0, 31.0, 25.0, 16.0, 24.0, 28.0, 61.0, 19.0, 45.0, 21.0, 22.0, 33.0, 71.0, 20.0, 26.0, 21.0, 24.0, 29.0, 19.0, 55.5, 22.0, 25.0, 1.0, 29.0, 16.0, 19.0, 36.0, 23.0, 16.0, 3.0, 24.0, 44.0, 27.0, 40.5, 62.0, 18.0, 55.0, 44.0, 41.0, 51.0, 25.0, 39.0, 25.0, 70.0, 23.0, 19.0, 36.0, 40.0, 24.0, 9.0, 28.5, 33.0, 30.0, 8.0, 34.0, 39.0, 37.0, 57.0, 20.0, 24.0, 16.0, 18.0, 52.0, 18.0, 30.0, 54.0, 47.0, 47.0, 25.0, 42.0, 26.0, 28.0, 22.0, 20.0, 74.0, 45.5, 52.0, 16.0, 54.0, 18.0, 26.0, 18.0, 25.0, 25.0, 24.0, 26.0, 36.0, 34.5, 20.0, 22.0, 28.0], \"type\": \"histogram\", \"uid\": \"1e8d0df0-e61d-41fd-90f4-553ae41842b2\"}], {\"barmode\": \"overlay\", \"title\": {\"text\": \"Distplot of Age\"}}, {\"showLink\": false, \"linkText\": \"Export to plot.ly\", \"plotlyServerURL\": \"https://plot.ly\"})});</script><script type=\"text/javascript\">window.addEventListener(\"resize\", function(){window._Plotly.Plots.resize(document.getElementById(\"6236d1f7-2fc6-4d66-8c42-b00a65b74c20\"));});</script>"
      ]
     },
     "metadata": {},
     "output_type": "display_data"
    }
   ],
   "source": [
    "feature = 'Age'\n",
    "trace = []\n",
    "group_labels = []\n",
    "\n",
    "for i in np.sort(df_train['Survived'].unique())[::-1]:\n",
    "    trace.append(go.Histogram(x = df_train[df_train['Survived']==i][feature].dropna(),\\\n",
    "                              opacity = 0.75, nbinsx = 25,name = f\"Survived {int(i)}\"))\n",
    "\n",
    "layout = go.Layout(barmode='overlay', title = f\"Distplot of {feature}\")\n",
    "fig = go.Figure(data=trace, layout=layout)\n",
    "\n",
    "# Plot!\n",
    "plotly.offline.iplot(fig)"
   ]
  },
  {
   "cell_type": "code",
   "execution_count": 156,
   "metadata": {},
   "outputs": [
    {
     "data": {
      "application/vnd.plotly.v1+json": {
       "config": {
        "linkText": "Export to plot.ly",
        "plotlyServerURL": "https://plot.ly",
        "showLink": false
       },
       "data": [
        {
         "name": "Survived 1",
         "opacity": 0.75,
         "type": "bar",
         "uid": "306c3554-e268-42d4-a15d-bf6bb4d15cea",
         "x": [
          1,
          2,
          3
         ],
         "y": [
          136,
          87,
          119
         ]
        },
        {
         "name": "Survived 0",
         "opacity": 0.75,
         "type": "bar",
         "uid": "40cfb460-457a-4173-ae94-f07196506934",
         "x": [
          1,
          2,
          3
         ],
         "y": [
          80,
          97,
          372
         ]
        }
       ],
       "layout": {
        "barmode": "group",
        "title": {
         "text": "Barplot of Pclass"
        }
       }
      },
      "text/html": [
       "<div id=\"8c20704b-0c13-4aaa-8d5f-3261e0c32cee\" style=\"height: 525px; width: 100%;\" class=\"plotly-graph-div\"></div><script type=\"text/javascript\">require([\"plotly\"], function(Plotly) { window.PLOTLYENV=window.PLOTLYENV || {};window.PLOTLYENV.BASE_URL=\"https://plot.ly\";Plotly.newPlot(\"8c20704b-0c13-4aaa-8d5f-3261e0c32cee\", [{\"name\": \"Survived 1\", \"opacity\": 0.75, \"x\": [1, 2, 3], \"y\": [136, 87, 119], \"type\": \"bar\", \"uid\": \"306c3554-e268-42d4-a15d-bf6bb4d15cea\"}, {\"name\": \"Survived 0\", \"opacity\": 0.75, \"x\": [1, 2, 3], \"y\": [80, 97, 372], \"type\": \"bar\", \"uid\": \"40cfb460-457a-4173-ae94-f07196506934\"}], {\"barmode\": \"group\", \"title\": {\"text\": \"Barplot of Pclass\"}}, {\"showLink\": false, \"linkText\": \"Export to plot.ly\", \"plotlyServerURL\": \"https://plot.ly\"})});</script><script type=\"text/javascript\">window.addEventListener(\"resize\", function(){window._Plotly.Plots.resize(document.getElementById(\"8c20704b-0c13-4aaa-8d5f-3261e0c32cee\"));});</script>"
      ],
      "text/vnd.plotly.v1+html": [
       "<div id=\"8c20704b-0c13-4aaa-8d5f-3261e0c32cee\" style=\"height: 525px; width: 100%;\" class=\"plotly-graph-div\"></div><script type=\"text/javascript\">require([\"plotly\"], function(Plotly) { window.PLOTLYENV=window.PLOTLYENV || {};window.PLOTLYENV.BASE_URL=\"https://plot.ly\";Plotly.newPlot(\"8c20704b-0c13-4aaa-8d5f-3261e0c32cee\", [{\"name\": \"Survived 1\", \"opacity\": 0.75, \"x\": [1, 2, 3], \"y\": [136, 87, 119], \"type\": \"bar\", \"uid\": \"306c3554-e268-42d4-a15d-bf6bb4d15cea\"}, {\"name\": \"Survived 0\", \"opacity\": 0.75, \"x\": [1, 2, 3], \"y\": [80, 97, 372], \"type\": \"bar\", \"uid\": \"40cfb460-457a-4173-ae94-f07196506934\"}], {\"barmode\": \"group\", \"title\": {\"text\": \"Barplot of Pclass\"}}, {\"showLink\": false, \"linkText\": \"Export to plot.ly\", \"plotlyServerURL\": \"https://plot.ly\"})});</script><script type=\"text/javascript\">window.addEventListener(\"resize\", function(){window._Plotly.Plots.resize(document.getElementById(\"8c20704b-0c13-4aaa-8d5f-3261e0c32cee\"));});</script>"
      ]
     },
     "metadata": {},
     "output_type": "display_data"
    }
   ],
   "source": [
    "feature = 'Pclass'\n",
    "trace = []\n",
    "group_labels = []\n",
    "\n",
    "for i in np.sort(df_train['Survived'].unique())[::-1]:\n",
    "    trace.append(go.Bar(x = np.sort(df_train[df_train['Survived']==i][feature].unique()),\\\n",
    "                        y = df_train[df_train['Survived']==i][feature].value_counts().sort_index(),\\\n",
    "                        opacity = 0.75,name = f\"Survived {int(i)}\"))\n",
    "\n",
    "layout = go.Layout(barmode='group', title = f\"Barplot of {feature}\")\n",
    "fig = go.Figure(data=trace, layout=layout)\n",
    "\n",
    "# Plot!\n",
    "plotly.offline.iplot(fig)"
   ]
  },
  {
   "cell_type": "code",
   "execution_count": 157,
   "metadata": {},
   "outputs": [],
   "source": [
    "def compare_dist(ax, features_int, i=0):\n",
    "    for surv in df_train['Survived'].unique():\n",
    "        sns.kdeplot(df_train[df_train['Survived']==surv][features_int].dropna(), label = f\"Survived {surv}\", ax=ax)\n",
    "def numeric_tile(plot_func):\n",
    "    fig, axs = plt.subplots(1, 5, figsize=(50, 12))\n",
    "    axs = axs.flatten()\n",
    "    \n",
    "    for i, (ax, col) in enumerate(zip(axs, features_int)):\n",
    "        plot_func(ax, col, i)\n",
    "        ax.set_title(col)\n",
    "        sns.set(font_scale=3) \n",
    "        sns.set_style(\"ticks\")\n",
    "        ax.legend(frameon=False)\n",
    "    plt.tight_layout()"
   ]
  },
  {
   "cell_type": "code",
   "execution_count": 158,
   "metadata": {
    "scrolled": false
   },
   "outputs": [
    {
     "data": {
      "image/png": "[encoded data removed]",
      "text/plain": [
       "<Figure size 3600x864 with 5 Axes>"
      ]
     },
     "metadata": {},
     "output_type": "display_data"
    }
   ],
   "source": [
    "numeric_tile(compare_dist)"
   ]
  },
  {
   "cell_type": "code",
   "execution_count": 159,
   "metadata": {},
   "outputs": [
    {
     "data": {
      "text/html": [
       "<div>\n",
       "<style scoped>\n",
       "    .dataframe tbody tr th:only-of-type {\n",
       "        vertical-align: middle;\n",
       "    }\n",
       "\n",
       "    .dataframe tbody tr th {\n",
       "        vertical-align: top;\n",
       "    }\n",
       "\n",
       "    .dataframe thead th {\n",
       "        text-align: right;\n",
       "    }\n",
       "</style>\n",
       "<table border=\"1\" class=\"dataframe\">\n",
       "  <thead>\n",
       "    <tr style=\"text-align: right;\">\n",
       "      <th></th>\n",
       "      <th>Pclass</th>\n",
       "      <th>Sex</th>\n",
       "      <th>Survived</th>\n",
       "    </tr>\n",
       "  </thead>\n",
       "  <tbody>\n",
       "    <tr>\n",
       "      <th>0</th>\n",
       "      <td>1</td>\n",
       "      <td>female</td>\n",
       "      <td>0.968085</td>\n",
       "    </tr>\n",
       "    <tr>\n",
       "      <th>2</th>\n",
       "      <td>2</td>\n",
       "      <td>female</td>\n",
       "      <td>0.921053</td>\n",
       "    </tr>\n",
       "    <tr>\n",
       "      <th>4</th>\n",
       "      <td>3</td>\n",
       "      <td>female</td>\n",
       "      <td>0.500000</td>\n",
       "    </tr>\n",
       "    <tr>\n",
       "      <th>1</th>\n",
       "      <td>1</td>\n",
       "      <td>male</td>\n",
       "      <td>0.368852</td>\n",
       "    </tr>\n",
       "    <tr>\n",
       "      <th>3</th>\n",
       "      <td>2</td>\n",
       "      <td>male</td>\n",
       "      <td>0.157407</td>\n",
       "    </tr>\n",
       "    <tr>\n",
       "      <th>5</th>\n",
       "      <td>3</td>\n",
       "      <td>male</td>\n",
       "      <td>0.135447</td>\n",
       "    </tr>\n",
       "  </tbody>\n",
       "</table>\n",
       "</div>"
      ],
      "text/plain": [
       "   Pclass     Sex  Survived\n",
       "0       1  female  0.968085\n",
       "2       2  female  0.921053\n",
       "4       3  female  0.500000\n",
       "1       1    male  0.368852\n",
       "3       2    male  0.157407\n",
       "5       3    male  0.135447"
      ]
     },
     "execution_count": 159,
     "metadata": {},
     "output_type": "execute_result"
    }
   ],
   "source": [
    "df_train[['Pclass','Sex', 'Survived']].groupby(['Pclass', 'Sex'], as_index = False).mean().sort_values(by='Survived', ascending=False)"
   ]
  },
  {
   "cell_type": "code",
   "execution_count": 160,
   "metadata": {},
   "outputs": [
    {
     "data": {
      "text/html": [
       "<div>\n",
       "<style scoped>\n",
       "    .dataframe tbody tr th:only-of-type {\n",
       "        vertical-align: middle;\n",
       "    }\n",
       "\n",
       "    .dataframe tbody tr th {\n",
       "        vertical-align: top;\n",
       "    }\n",
       "\n",
       "    .dataframe thead th {\n",
       "        text-align: right;\n",
       "    }\n",
       "</style>\n",
       "<table border=\"1\" class=\"dataframe\">\n",
       "  <thead>\n",
       "    <tr style=\"text-align: right;\">\n",
       "      <th></th>\n",
       "      <th>Pclass</th>\n",
       "      <th>Survived</th>\n",
       "    </tr>\n",
       "  </thead>\n",
       "  <tbody>\n",
       "    <tr>\n",
       "      <th>0</th>\n",
       "      <td>1</td>\n",
       "      <td>0.629630</td>\n",
       "    </tr>\n",
       "    <tr>\n",
       "      <th>1</th>\n",
       "      <td>2</td>\n",
       "      <td>0.472826</td>\n",
       "    </tr>\n",
       "    <tr>\n",
       "      <th>2</th>\n",
       "      <td>3</td>\n",
       "      <td>0.242363</td>\n",
       "    </tr>\n",
       "  </tbody>\n",
       "</table>\n",
       "</div>"
      ],
      "text/plain": [
       "   Pclass  Survived\n",
       "0       1  0.629630\n",
       "1       2  0.472826\n",
       "2       3  0.242363"
      ]
     },
     "execution_count": 160,
     "metadata": {},
     "output_type": "execute_result"
    }
   ],
   "source": [
    "df_train[['Pclass','Survived']].groupby(['Pclass'], as_index = False).mean().sort_values(by = 'Survived', ascending = False)"
   ]
  },
  {
   "cell_type": "code",
   "execution_count": 161,
   "metadata": {},
   "outputs": [
    {
     "data": {
      "text/html": [
       "<div>\n",
       "<style scoped>\n",
       "    .dataframe tbody tr th:only-of-type {\n",
       "        vertical-align: middle;\n",
       "    }\n",
       "\n",
       "    .dataframe tbody tr th {\n",
       "        vertical-align: top;\n",
       "    }\n",
       "\n",
       "    .dataframe thead th {\n",
       "        text-align: right;\n",
       "    }\n",
       "</style>\n",
       "<table border=\"1\" class=\"dataframe\">\n",
       "  <thead>\n",
       "    <tr style=\"text-align: right;\">\n",
       "      <th></th>\n",
       "      <th>Sex</th>\n",
       "      <th>Survived</th>\n",
       "    </tr>\n",
       "  </thead>\n",
       "  <tbody>\n",
       "    <tr>\n",
       "      <th>0</th>\n",
       "      <td>female</td>\n",
       "      <td>0.742038</td>\n",
       "    </tr>\n",
       "    <tr>\n",
       "      <th>1</th>\n",
       "      <td>male</td>\n",
       "      <td>0.188908</td>\n",
       "    </tr>\n",
       "  </tbody>\n",
       "</table>\n",
       "</div>"
      ],
      "text/plain": [
       "      Sex  Survived\n",
       "0  female  0.742038\n",
       "1    male  0.188908"
      ]
     },
     "execution_count": 161,
     "metadata": {},
     "output_type": "execute_result"
    }
   ],
   "source": [
    "df_train[['Sex','Survived']].groupby(['Sex'], as_index = False).mean().sort_values(by = 'Survived', ascending = False)"
   ]
  },
  {
   "cell_type": "code",
   "execution_count": 162,
   "metadata": {},
   "outputs": [
    {
     "data": {
      "text/html": [
       "<div>\n",
       "<style scoped>\n",
       "    .dataframe tbody tr th:only-of-type {\n",
       "        vertical-align: middle;\n",
       "    }\n",
       "\n",
       "    .dataframe tbody tr th {\n",
       "        vertical-align: top;\n",
       "    }\n",
       "\n",
       "    .dataframe thead th {\n",
       "        text-align: right;\n",
       "    }\n",
       "</style>\n",
       "<table border=\"1\" class=\"dataframe\">\n",
       "  <thead>\n",
       "    <tr style=\"text-align: right;\">\n",
       "      <th></th>\n",
       "      <th>Embarked</th>\n",
       "      <th>Survived</th>\n",
       "    </tr>\n",
       "  </thead>\n",
       "  <tbody>\n",
       "    <tr>\n",
       "      <th>0</th>\n",
       "      <td>C</td>\n",
       "      <td>0.553571</td>\n",
       "    </tr>\n",
       "    <tr>\n",
       "      <th>1</th>\n",
       "      <td>Q</td>\n",
       "      <td>0.389610</td>\n",
       "    </tr>\n",
       "    <tr>\n",
       "      <th>2</th>\n",
       "      <td>S</td>\n",
       "      <td>0.336957</td>\n",
       "    </tr>\n",
       "  </tbody>\n",
       "</table>\n",
       "</div>"
      ],
      "text/plain": [
       "  Embarked  Survived\n",
       "0        C  0.553571\n",
       "1        Q  0.389610\n",
       "2        S  0.336957"
      ]
     },
     "execution_count": 162,
     "metadata": {},
     "output_type": "execute_result"
    }
   ],
   "source": [
    "df_train[['Embarked', 'Survived']].groupby(['Embarked'], as_index = False).mean().sort_values(by = 'Survived', ascending = False)"
   ]
  },
  {
   "cell_type": "markdown",
   "metadata": {},
   "source": [
    "## Outliers"
   ]
  },
  {
   "cell_type": "code",
   "execution_count": 163,
   "metadata": {},
   "outputs": [],
   "source": [
    "Q1 = df_train[features_int].quantile(0.25)\n",
    "Q3 = df_train[features_int].quantile(0.75)\n",
    "IQR = Q3 - Q1\n",
    "\n",
    "out_tm = ((df_train[features_int] < (Q1 - 1.5 * IQR)) | (df_train[features_int] > (Q3 + 1.5 * IQR)))\n",
    "outliers_iqr = pd.DataFrame(data={'outliers_IQR_count':out_tm.sum(),\n",
    "                                  'outliers_IQR_%':100*out_tm.sum()/num_train})\n",
    "\n",
    "outliers_iqr = outliers_iqr.sort_values(by='outliers_IQR_count',ascending=False)"
   ]
  },
  {
   "cell_type": "code",
   "execution_count": 164,
   "metadata": {},
   "outputs": [
    {
     "data": {
      "text/html": [
       "<div>\n",
       "<style scoped>\n",
       "    .dataframe tbody tr th:only-of-type {\n",
       "        vertical-align: middle;\n",
       "    }\n",
       "\n",
       "    .dataframe tbody tr th {\n",
       "        vertical-align: top;\n",
       "    }\n",
       "\n",
       "    .dataframe thead th {\n",
       "        text-align: right;\n",
       "    }\n",
       "</style>\n",
       "<table border=\"1\" class=\"dataframe\">\n",
       "  <thead>\n",
       "    <tr style=\"text-align: right;\">\n",
       "      <th></th>\n",
       "      <th>outliers_IQR_count</th>\n",
       "      <th>outliers_IQR_%</th>\n",
       "    </tr>\n",
       "  </thead>\n",
       "  <tbody>\n",
       "    <tr>\n",
       "      <th>Parch</th>\n",
       "      <td>213</td>\n",
       "      <td>23.905724</td>\n",
       "    </tr>\n",
       "    <tr>\n",
       "      <th>Fare</th>\n",
       "      <td>116</td>\n",
       "      <td>13.019080</td>\n",
       "    </tr>\n",
       "    <tr>\n",
       "      <th>SibSp</th>\n",
       "      <td>46</td>\n",
       "      <td>5.162738</td>\n",
       "    </tr>\n",
       "    <tr>\n",
       "      <th>Age</th>\n",
       "      <td>11</td>\n",
       "      <td>1.234568</td>\n",
       "    </tr>\n",
       "    <tr>\n",
       "      <th>PassengerId</th>\n",
       "      <td>0</td>\n",
       "      <td>0.000000</td>\n",
       "    </tr>\n",
       "    <tr>\n",
       "      <th>Pclass</th>\n",
       "      <td>0</td>\n",
       "      <td>0.000000</td>\n",
       "    </tr>\n",
       "  </tbody>\n",
       "</table>\n",
       "</div>"
      ],
      "text/plain": [
       "             outliers_IQR_count  outliers_IQR_%\n",
       "Parch                       213       23.905724\n",
       "Fare                        116       13.019080\n",
       "SibSp                        46        5.162738\n",
       "Age                          11        1.234568\n",
       "PassengerId                   0        0.000000\n",
       "Pclass                        0        0.000000"
      ]
     },
     "execution_count": 164,
     "metadata": {},
     "output_type": "execute_result"
    }
   ],
   "source": [
    "outliers_iqr"
   ]
  },
  {
   "cell_type": "code",
   "execution_count": 165,
   "metadata": {},
   "outputs": [
    {
     "data": {
      "application/vnd.plotly.v1+json": {
       "config": {
        "linkText": "Export to plot.ly",
        "plotlyServerURL": "https://plot.ly",
        "showLink": false
       },
       "data": [
        {
         "marker": {
          "color": "maroon",
          "line": {
           "color": "black",
           "width": 1
          }
         },
         "orientation": "h",
         "type": "bar",
         "uid": "12213ded-783b-42e6-9f55-c6e6957dfc0b",
         "x": [
          213,
          116,
          46,
          11,
          0,
          0
         ],
         "y": [
          "Parch",
          "Fare",
          "SibSp",
          "Age",
          "PassengerId",
          "Pclass"
         ]
        }
       ],
       "layout": {
        "autosize": true,
        "barmode": "group",
        "title": {
         "text": "Total Outliers IQR per feature in Train"
        },
        "xaxis": {
         "tickfont": {
          "size": 10
         },
         "title": {
          "text": "Total number of outliers"
         }
        },
        "yaxis": {
         "automargin": true,
         "autorange": "reversed"
        }
       }
      },
      "text/html": [
       "<div id=\"f0108768-0e38-4972-a306-3631c184eace\" style=\"height: 525px; width: 100%;\" class=\"plotly-graph-div\"></div><script type=\"text/javascript\">require([\"plotly\"], function(Plotly) { window.PLOTLYENV=window.PLOTLYENV || {};window.PLOTLYENV.BASE_URL=\"https://plot.ly\";Plotly.newPlot(\"f0108768-0e38-4972-a306-3631c184eace\", [{\"marker\": {\"color\": \"maroon\", \"line\": {\"color\": \"black\", \"width\": 1}}, \"orientation\": \"h\", \"x\": [213, 116, 46, 11, 0, 0], \"y\": [\"Parch\", \"Fare\", \"SibSp\", \"Age\", \"PassengerId\", \"Pclass\"], \"type\": \"bar\", \"uid\": \"12213ded-783b-42e6-9f55-c6e6957dfc0b\"}], {\"autosize\": true, \"barmode\": \"group\", \"title\": {\"text\": \"Total Outliers IQR per feature in Train\"}, \"xaxis\": {\"tickfont\": {\"size\": 10}, \"title\": {\"text\": \"Total number of outliers\"}}, \"yaxis\": {\"automargin\": true, \"autorange\": \"reversed\"}}, {\"showLink\": false, \"linkText\": \"Export to plot.ly\", \"plotlyServerURL\": \"https://plot.ly\"})});</script><script type=\"text/javascript\">window.addEventListener(\"resize\", function(){window._Plotly.Plots.resize(document.getElementById(\"f0108768-0e38-4972-a306-3631c184eace\"));});</script>"
      ],
      "text/vnd.plotly.v1+html": [
       "<div id=\"f0108768-0e38-4972-a306-3631c184eace\" style=\"height: 525px; width: 100%;\" class=\"plotly-graph-div\"></div><script type=\"text/javascript\">require([\"plotly\"], function(Plotly) { window.PLOTLYENV=window.PLOTLYENV || {};window.PLOTLYENV.BASE_URL=\"https://plot.ly\";Plotly.newPlot(\"f0108768-0e38-4972-a306-3631c184eace\", [{\"marker\": {\"color\": \"maroon\", \"line\": {\"color\": \"black\", \"width\": 1}}, \"orientation\": \"h\", \"x\": [213, 116, 46, 11, 0, 0], \"y\": [\"Parch\", \"Fare\", \"SibSp\", \"Age\", \"PassengerId\", \"Pclass\"], \"type\": \"bar\", \"uid\": \"12213ded-783b-42e6-9f55-c6e6957dfc0b\"}], {\"autosize\": true, \"barmode\": \"group\", \"title\": {\"text\": \"Total Outliers IQR per feature in Train\"}, \"xaxis\": {\"tickfont\": {\"size\": 10}, \"title\": {\"text\": \"Total number of outliers\"}}, \"yaxis\": {\"automargin\": true, \"autorange\": \"reversed\"}}, {\"showLink\": false, \"linkText\": \"Export to plot.ly\", \"plotlyServerURL\": \"https://plot.ly\"})});</script><script type=\"text/javascript\">window.addEventListener(\"resize\", function(){window._Plotly.Plots.resize(document.getElementById(\"f0108768-0e38-4972-a306-3631c184eace\"));});</script>"
      ]
     },
     "metadata": {},
     "output_type": "display_data"
    }
   ],
   "source": [
    "trace = []\n",
    "group_labels = []\n",
    "\n",
    "trace = [go.Bar(y = outliers_iqr.index, x = outliers_iqr['outliers_IQR_count'],\n",
    "               marker=dict(color='maroon',line=dict(color='black',width=1)),orientation ='h')]\n",
    "    \n",
    "\n",
    "layout = go.Layout(autosize=True,barmode='group',xaxis = dict(title = 'Total number of outliers',\n",
    "                                                              tickfont=dict(size=10)), \n",
    "                   yaxis = dict(automargin=True,autorange = \"reversed\"),\n",
    "                   title = 'Total Outliers IQR per feature in Train')\n",
    "fig = go.Figure(data=trace, layout=layout)\n",
    "\n",
    "plotly.offline.iplot(fig)"
   ]
  },
  {
   "cell_type": "markdown",
   "metadata": {},
   "source": [
    "##  Netejar dataframes"
   ]
  },
  {
   "cell_type": "markdown",
   "metadata": {},
   "source": [
    "Ens podem petar el ticket i cabina."
   ]
  },
  {
   "cell_type": "code",
   "execution_count": 166,
   "metadata": {},
   "outputs": [],
   "source": [
    "for dataset in combine:\n",
    "    dataset.drop(['Ticket', 'Cabin'], axis=1, inplace = True)"
   ]
  },
  {
   "cell_type": "markdown",
   "metadata": {},
   "source": [
    "Aqui codifiquem els Embarked\n",
    "\n",
    "S = 0\n",
    "C = 1\n",
    "Q = 2\n"
   ]
  },
  {
   "cell_type": "code",
   "execution_count": 167,
   "metadata": {},
   "outputs": [],
   "source": [
    "for dataset in combine:\n",
    "    dataset.dropna(subset=['Embarked'], how='all', inplace = True)"
   ]
  },
  {
   "cell_type": "code",
   "execution_count": 168,
   "metadata": {},
   "outputs": [],
   "source": [
    "for dataset in combine:\n",
    "    dataset['Embarked'] = dataset['Embarked'].map({'S':0,'C':1,'Q':2}).astype(int)"
   ]
  },
  {
   "cell_type": "code",
   "execution_count": 169,
   "metadata": {
    "scrolled": false
   },
   "outputs": [],
   "source": [
    "for dataset in combine:\n",
    "    dataset['Sex'] = dataset['Sex'].map({'male':0, 'female':1}).astype(int)"
   ]
  },
  {
   "cell_type": "code",
   "execution_count": 170,
   "metadata": {},
   "outputs": [
    {
     "data": {
      "text/html": [
       "<div>\n",
       "<style scoped>\n",
       "    .dataframe tbody tr th:only-of-type {\n",
       "        vertical-align: middle;\n",
       "    }\n",
       "\n",
       "    .dataframe tbody tr th {\n",
       "        vertical-align: top;\n",
       "    }\n",
       "\n",
       "    .dataframe thead th {\n",
       "        text-align: right;\n",
       "    }\n",
       "</style>\n",
       "<table border=\"1\" class=\"dataframe\">\n",
       "  <thead>\n",
       "    <tr style=\"text-align: right;\">\n",
       "      <th></th>\n",
       "      <th>PassengerId</th>\n",
       "      <th>Survived</th>\n",
       "      <th>Pclass</th>\n",
       "      <th>Sex</th>\n",
       "      <th>Age</th>\n",
       "      <th>SibSp</th>\n",
       "      <th>Parch</th>\n",
       "      <th>Fare</th>\n",
       "      <th>Embarked</th>\n",
       "    </tr>\n",
       "  </thead>\n",
       "  <tbody>\n",
       "    <tr>\n",
       "      <th>347</th>\n",
       "      <td>348</td>\n",
       "      <td>1</td>\n",
       "      <td>3</td>\n",
       "      <td>1</td>\n",
       "      <td>NaN</td>\n",
       "      <td>1</td>\n",
       "      <td>0</td>\n",
       "      <td>16.1000</td>\n",
       "      <td>0</td>\n",
       "    </tr>\n",
       "    <tr>\n",
       "      <th>674</th>\n",
       "      <td>675</td>\n",
       "      <td>0</td>\n",
       "      <td>2</td>\n",
       "      <td>0</td>\n",
       "      <td>NaN</td>\n",
       "      <td>0</td>\n",
       "      <td>0</td>\n",
       "      <td>0.0000</td>\n",
       "      <td>0</td>\n",
       "    </tr>\n",
       "    <tr>\n",
       "      <th>791</th>\n",
       "      <td>792</td>\n",
       "      <td>0</td>\n",
       "      <td>2</td>\n",
       "      <td>0</td>\n",
       "      <td>16.0</td>\n",
       "      <td>0</td>\n",
       "      <td>0</td>\n",
       "      <td>26.0000</td>\n",
       "      <td>0</td>\n",
       "    </tr>\n",
       "    <tr>\n",
       "      <th>836</th>\n",
       "      <td>837</td>\n",
       "      <td>0</td>\n",
       "      <td>3</td>\n",
       "      <td>0</td>\n",
       "      <td>21.0</td>\n",
       "      <td>0</td>\n",
       "      <td>0</td>\n",
       "      <td>8.6625</td>\n",
       "      <td>0</td>\n",
       "    </tr>\n",
       "    <tr>\n",
       "      <th>56</th>\n",
       "      <td>57</td>\n",
       "      <td>1</td>\n",
       "      <td>2</td>\n",
       "      <td>1</td>\n",
       "      <td>21.0</td>\n",
       "      <td>0</td>\n",
       "      <td>0</td>\n",
       "      <td>10.5000</td>\n",
       "      <td>0</td>\n",
       "    </tr>\n",
       "  </tbody>\n",
       "</table>\n",
       "</div>"
      ],
      "text/plain": [
       "     PassengerId  Survived  Pclass  Sex   Age  SibSp  Parch     Fare  Embarked\n",
       "347          348         1       3    1   NaN      1      0  16.1000         0\n",
       "674          675         0       2    0   NaN      0      0   0.0000         0\n",
       "791          792         0       2    0  16.0      0      0  26.0000         0\n",
       "836          837         0       3    0  21.0      0      0   8.6625         0\n",
       "56            57         1       2    1  21.0      0      0  10.5000         0"
      ]
     },
     "execution_count": 170,
     "metadata": {},
     "output_type": "execute_result"
    }
   ],
   "source": [
    "df_train.head()"
   ]
  },
  {
   "cell_type": "markdown",
   "metadata": {},
   "source": [
    "### fill NaN age"
   ]
  },
  {
   "cell_type": "code",
   "execution_count": 171,
   "metadata": {},
   "outputs": [
    {
     "data": {
      "text/plain": [
       "array([[0., 0., 0.],\n",
       "       [0., 0., 0.]])"
      ]
     },
     "execution_count": 171,
     "metadata": {},
     "output_type": "execute_result"
    }
   ],
   "source": [
    "guess_ages = np.zeros((2,3))\n",
    "guess_ages"
   ]
  },
  {
   "cell_type": "code",
   "execution_count": 172,
   "metadata": {},
   "outputs": [
    {
     "data": {
      "text/html": [
       "<div>\n",
       "<style scoped>\n",
       "    .dataframe tbody tr th:only-of-type {\n",
       "        vertical-align: middle;\n",
       "    }\n",
       "\n",
       "    .dataframe tbody tr th {\n",
       "        vertical-align: top;\n",
       "    }\n",
       "\n",
       "    .dataframe thead th {\n",
       "        text-align: right;\n",
       "    }\n",
       "</style>\n",
       "<table border=\"1\" class=\"dataframe\">\n",
       "  <thead>\n",
       "    <tr style=\"text-align: right;\">\n",
       "      <th></th>\n",
       "      <th>PassengerId</th>\n",
       "      <th>Survived</th>\n",
       "      <th>Pclass</th>\n",
       "      <th>Sex</th>\n",
       "      <th>Age</th>\n",
       "      <th>SibSp</th>\n",
       "      <th>Parch</th>\n",
       "      <th>Fare</th>\n",
       "      <th>Embarked</th>\n",
       "    </tr>\n",
       "  </thead>\n",
       "  <tbody>\n",
       "    <tr>\n",
       "      <th>347</th>\n",
       "      <td>348</td>\n",
       "      <td>1</td>\n",
       "      <td>3</td>\n",
       "      <td>1</td>\n",
       "      <td>21</td>\n",
       "      <td>1</td>\n",
       "      <td>0</td>\n",
       "      <td>16.1000</td>\n",
       "      <td>0</td>\n",
       "    </tr>\n",
       "    <tr>\n",
       "      <th>674</th>\n",
       "      <td>675</td>\n",
       "      <td>0</td>\n",
       "      <td>2</td>\n",
       "      <td>0</td>\n",
       "      <td>30</td>\n",
       "      <td>0</td>\n",
       "      <td>0</td>\n",
       "      <td>0.0000</td>\n",
       "      <td>0</td>\n",
       "    </tr>\n",
       "    <tr>\n",
       "      <th>791</th>\n",
       "      <td>792</td>\n",
       "      <td>0</td>\n",
       "      <td>2</td>\n",
       "      <td>0</td>\n",
       "      <td>16</td>\n",
       "      <td>0</td>\n",
       "      <td>0</td>\n",
       "      <td>26.0000</td>\n",
       "      <td>0</td>\n",
       "    </tr>\n",
       "    <tr>\n",
       "      <th>836</th>\n",
       "      <td>837</td>\n",
       "      <td>0</td>\n",
       "      <td>3</td>\n",
       "      <td>0</td>\n",
       "      <td>21</td>\n",
       "      <td>0</td>\n",
       "      <td>0</td>\n",
       "      <td>8.6625</td>\n",
       "      <td>0</td>\n",
       "    </tr>\n",
       "    <tr>\n",
       "      <th>56</th>\n",
       "      <td>57</td>\n",
       "      <td>1</td>\n",
       "      <td>2</td>\n",
       "      <td>1</td>\n",
       "      <td>21</td>\n",
       "      <td>0</td>\n",
       "      <td>0</td>\n",
       "      <td>10.5000</td>\n",
       "      <td>0</td>\n",
       "    </tr>\n",
       "  </tbody>\n",
       "</table>\n",
       "</div>"
      ],
      "text/plain": [
       "     PassengerId  Survived  Pclass  Sex  Age  SibSp  Parch     Fare  Embarked\n",
       "347          348         1       3    1   21      1      0  16.1000         0\n",
       "674          675         0       2    0   30      0      0   0.0000         0\n",
       "791          792         0       2    0   16      0      0  26.0000         0\n",
       "836          837         0       3    0   21      0      0   8.6625         0\n",
       "56            57         1       2    1   21      0      0  10.5000         0"
      ]
     },
     "execution_count": 172,
     "metadata": {},
     "output_type": "execute_result"
    }
   ],
   "source": [
    "for dataset in combine:\n",
    "    for i in range(0,2):\n",
    "        for j in range(0,3):\n",
    "            guess_df = dataset[(dataset['Sex']==i) & (dataset['Pclass']==j+1)]['Age'].dropna()\n",
    "            age_guess = guess_df.median()\n",
    "            # Convert random age float to nearest .5 age\n",
    "            guess_ages[i,j] = int(age_guess/0.5+0.5)*0.5\n",
    "    \n",
    "    for i in range (0,2):\n",
    "        for j in range(0,3):\n",
    "            dataset.loc[(dataset.Age.isnull()) & (dataset.Sex==i)&(dataset.Pclass == j+1),'Age'] = guess_ages[i,j]\n",
    "            \n",
    "    dataset['Age'] = dataset['Age'].astype(int)\n",
    "\n",
    "df_train.head()"
   ]
  },
  {
   "cell_type": "code",
   "execution_count": 173,
   "metadata": {},
   "outputs": [],
   "source": [
    "new_features = ['PassengerId','Pclass','Sex','Age','SibSp','Parch','Fare','Embarked']"
   ]
  },
  {
   "cell_type": "code",
   "execution_count": 174,
   "metadata": {},
   "outputs": [
    {
     "data": {
      "image/png": "[encoded data removed]",
      "text/plain": [
       "<Figure size 1440x864 with 8 Axes>"
      ]
     },
     "metadata": {},
     "output_type": "display_data"
    }
   ],
   "source": [
    "def compare_dist(ax, new_features, i=0):\n",
    "    for surv in df_train['Survived'].unique():\n",
    "        sns.kdeplot(df_train[df_train['Survived']==surv][new_features].dropna(), label = f\"Survived {surv}\", ax=ax)\n",
    "def numeric_tile(plot_func):\n",
    "    fig, axs = plt.subplots(2, 4, figsize=(20, 12))\n",
    "    axs = axs.flatten()\n",
    "    \n",
    "    for i, (ax, col) in enumerate(zip(axs, new_features)):\n",
    "        plot_func(ax, col, i)\n",
    "        ax.set_title(col)\n",
    "        sns.set(font_scale=3) \n",
    "        sns.set_style(\"ticks\")\n",
    "        ax.legend(frameon=False)\n",
    "    plt.tight_layout()\n",
    "    \n",
    "numeric_tile(compare_dist)"
   ]
  },
  {
   "cell_type": "markdown",
   "metadata": {},
   "source": [
    "## Correlation"
   ]
  },
  {
   "cell_type": "code",
   "execution_count": 175,
   "metadata": {},
   "outputs": [],
   "source": [
    "features_int_new = ['Pclass','Sex','Age','SibSp','Parch','Fare','Embarked','Survived']"
   ]
  },
  {
   "cell_type": "code",
   "execution_count": 176,
   "metadata": {},
   "outputs": [
    {
     "name": "stdout",
     "output_type": "stream",
     "text": [
      "Most negatively correlated variables:\n",
      "    feature     pcorr\n",
      "0    Pclass -0.335549\n",
      "1       Age -0.065127\n",
      "2     SibSp -0.034040\n",
      "3     Parch  0.083151\n",
      "4  Embarked  0.108669\n",
      "\n",
      "Most positively correlated variables:\n",
      "    feature     pcorr\n",
      "3     Parch  0.083151\n",
      "4  Embarked  0.108669\n",
      "5      Fare  0.255290\n",
      "6       Sex  0.541585\n",
      "7  Survived  1.000000\n"
     ]
    }
   ],
   "source": [
    "# Compute Pearson correlation for every pair of features\n",
    "# Use only training data\n",
    "pcorrs = pd.DataFrame(df_train[features_int_new].corr()['Survived'].sort_values()).reset_index()\n",
    "pcorrs = pcorrs.rename(columns = {'index': 'feature','Survived': 'pcorr'})\n",
    "\n",
    "print('Most negatively correlated variables:')\n",
    "print(pcorrs.head())\n",
    "\n",
    "print('\\nMost positively correlated variables:')\n",
    "print(pcorrs.dropna().tail())"
   ]
  },
  {
   "cell_type": "code",
   "execution_count": 177,
   "metadata": {},
   "outputs": [
    {
     "name": "stdout",
     "output_type": "stream",
     "text": [
      "Most negative Spearman correlations:\n",
      "    feature     scorr        pvalue\n",
      "0    Pclass -0.336917  4.890205e-25\n",
      "2       Age -0.043671  1.932958e-01\n",
      "3     SibSp  0.090944  6.659592e-03\n",
      "6  Embarked  0.137869  3.713075e-05\n",
      "4     Parch  0.140126  2.754779e-05\n",
      "\n",
      "Most positive Spearman correlations:\n",
      "    feature     scorr        pvalue\n",
      "6  Embarked  0.137869  3.713075e-05\n",
      "4     Parch  0.140126  2.754779e-05\n",
      "5      Fare  0.320772  1.008254e-22\n",
      "1       Sex  0.541585  6.682012e-69\n",
      "7  Survived  1.000000  0.000000e+00\n"
     ]
    }
   ],
   "source": [
    "# Compute Spearman correlation for every features\n",
    "# Use only training data\n",
    "from scipy.stats import spearmanr\n",
    "feats = []\n",
    "scorr = []\n",
    "pvalues = []\n",
    "\n",
    "# Iterate through each column\n",
    "for feat in features_int_new:\n",
    " \n",
    "    # Calculate spearman correlation\n",
    "    scorr.append(spearmanr(df_train[feat], df_train['Survived']).correlation)\n",
    "    pvalues.append(spearmanr(df_train[feat], df_train['Survived']).pvalue)\n",
    "\n",
    "scorrs = pd.DataFrame({'feature': features_int_new, 'scorr': scorr, 'pvalue': pvalues}).sort_values('scorr')\n",
    "\n",
    "print('Most negative Spearman correlations:')\n",
    "print(scorrs.head())\n",
    "print('\\nMost positive Spearman correlations:')\n",
    "print(scorrs.dropna().tail())"
   ]
  },
  {
   "cell_type": "code",
   "execution_count": 178,
   "metadata": {},
   "outputs": [
    {
     "data": {
      "text/html": [
       "<div>\n",
       "<style scoped>\n",
       "    .dataframe tbody tr th:only-of-type {\n",
       "        vertical-align: middle;\n",
       "    }\n",
       "\n",
       "    .dataframe tbody tr th {\n",
       "        vertical-align: top;\n",
       "    }\n",
       "\n",
       "    .dataframe thead th {\n",
       "        text-align: right;\n",
       "    }\n",
       "</style>\n",
       "<table border=\"1\" class=\"dataframe\">\n",
       "  <thead>\n",
       "    <tr style=\"text-align: right;\">\n",
       "      <th></th>\n",
       "      <th>feature</th>\n",
       "      <th>pcorr</th>\n",
       "      <th>scorr</th>\n",
       "      <th>pvalue</th>\n",
       "      <th>diff</th>\n",
       "    </tr>\n",
       "  </thead>\n",
       "  <tbody>\n",
       "    <tr>\n",
       "      <th>2</th>\n",
       "      <td>SibSp</td>\n",
       "      <td>-0.034040</td>\n",
       "      <td>0.090944</td>\n",
       "      <td>6.659592e-03</td>\n",
       "      <td>-1.249840e-01</td>\n",
       "    </tr>\n",
       "    <tr>\n",
       "      <th>5</th>\n",
       "      <td>Fare</td>\n",
       "      <td>0.255290</td>\n",
       "      <td>0.320772</td>\n",
       "      <td>1.008254e-22</td>\n",
       "      <td>-6.548149e-02</td>\n",
       "    </tr>\n",
       "    <tr>\n",
       "      <th>3</th>\n",
       "      <td>Parch</td>\n",
       "      <td>0.083151</td>\n",
       "      <td>0.140126</td>\n",
       "      <td>2.754779e-05</td>\n",
       "      <td>-5.697551e-02</td>\n",
       "    </tr>\n",
       "    <tr>\n",
       "      <th>4</th>\n",
       "      <td>Embarked</td>\n",
       "      <td>0.108669</td>\n",
       "      <td>0.137869</td>\n",
       "      <td>3.713075e-05</td>\n",
       "      <td>-2.920034e-02</td>\n",
       "    </tr>\n",
       "    <tr>\n",
       "      <th>1</th>\n",
       "      <td>Age</td>\n",
       "      <td>-0.065127</td>\n",
       "      <td>-0.043671</td>\n",
       "      <td>1.932958e-01</td>\n",
       "      <td>-2.145605e-02</td>\n",
       "    </tr>\n",
       "    <tr>\n",
       "      <th>6</th>\n",
       "      <td>Sex</td>\n",
       "      <td>0.541585</td>\n",
       "      <td>0.541585</td>\n",
       "      <td>6.682012e-69</td>\n",
       "      <td>-4.662937e-15</td>\n",
       "    </tr>\n",
       "    <tr>\n",
       "      <th>7</th>\n",
       "      <td>Survived</td>\n",
       "      <td>1.000000</td>\n",
       "      <td>1.000000</td>\n",
       "      <td>0.000000e+00</td>\n",
       "      <td>0.000000e+00</td>\n",
       "    </tr>\n",
       "    <tr>\n",
       "      <th>0</th>\n",
       "      <td>Pclass</td>\n",
       "      <td>-0.335549</td>\n",
       "      <td>-0.336917</td>\n",
       "      <td>4.890205e-25</td>\n",
       "      <td>1.367825e-03</td>\n",
       "    </tr>\n",
       "  </tbody>\n",
       "</table>\n",
       "</div>"
      ],
      "text/plain": [
       "    feature     pcorr     scorr        pvalue          diff\n",
       "2     SibSp -0.034040  0.090944  6.659592e-03 -1.249840e-01\n",
       "5      Fare  0.255290  0.320772  1.008254e-22 -6.548149e-02\n",
       "3     Parch  0.083151  0.140126  2.754779e-05 -5.697551e-02\n",
       "4  Embarked  0.108669  0.137869  3.713075e-05 -2.920034e-02\n",
       "1       Age -0.065127 -0.043671  1.932958e-01 -2.145605e-02\n",
       "6       Sex  0.541585  0.541585  6.682012e-69 -4.662937e-15\n",
       "7  Survived  1.000000  1.000000  0.000000e+00  0.000000e+00\n",
       "0    Pclass -0.335549 -0.336917  4.890205e-25  1.367825e-03"
      ]
     },
     "execution_count": 178,
     "metadata": {},
     "output_type": "execute_result"
    }
   ],
   "source": [
    "# Compute features for which PEarson and Spearman correlation differs the most\n",
    "corrs = pcorrs.merge(scorrs, on = 'feature')\n",
    "corrs['diff'] = corrs['pcorr'] - corrs['scorr']\n",
    "\n",
    "corrs.sort_values('diff')"
   ]
  },
  {
   "cell_type": "code",
   "execution_count": 179,
   "metadata": {
    "scrolled": false
   },
   "outputs": [
    {
     "data": {
      "text/plain": [
       "<matplotlib.axes._subplots.AxesSubplot at 0x1a25c6ccc0>"
      ]
     },
     "execution_count": 179,
     "metadata": {},
     "output_type": "execute_result"
    },
    {
     "data": {
      "image/png": "[encoded data removed]",
      "text/plain": [
       "<Figure size 1080x720 with 2 Axes>"
      ]
     },
     "metadata": {},
     "output_type": "display_data"
    }
   ],
   "source": [
    "plt.figure(figsize=(15, 10))\n",
    "sns.set(font_scale=1.25)\n",
    "sns.heatmap(df_train[features_int_new].corr(), square=True, cmap='RdYlGn',annot=True,annot_kws={'size': 9},fmt='.2f')"
   ]
  },
  {
   "cell_type": "markdown",
   "metadata": {},
   "source": [
    "# MODEL AND PREDICTION\n",
    "We first establish a baseline using Random Forest, and then we will move on to more sophisticated ML models and feature selection strategies"
   ]
  },
  {
   "cell_type": "code",
   "execution_count": 220,
   "metadata": {},
   "outputs": [],
   "source": [
    "df_test.dropna(subset=['Fare'], how='all', inplace = True)"
   ]
  },
  {
   "cell_type": "code",
   "execution_count": 222,
   "metadata": {},
   "outputs": [],
   "source": [
    "from sklearn.model_selection import cross_val_score\n",
    "from sklearn.ensemble import RandomForestClassifier\n",
    "# from sklearn.model_selection import GridSearchCV\n",
    "# from sklearn.model_selection import train_test_split\n",
    "from sklearn.metrics import confusion_matrix, classification_report, roc_auc_score, roc_curve, make_scorer, f1_score\n",
    "\n",
    "from sklearn.preprocessing import MinMaxScaler\n",
    "from sklearn.pipeline import Pipeline\n",
    "from sklearn.model_selection import StratifiedKFold\n",
    "\n",
    "# Since the dataset is class-balanced, we can use macro averaging for the F1 scorer\n",
    "scorer = make_scorer(f1_score, greater_is_better=True, average = 'macro')"
   ]
  },
  {
   "cell_type": "code",
   "execution_count": 223,
   "metadata": {},
   "outputs": [],
   "source": [
    "# Extract training data and labels\n",
    "train_set = df_train.drop(columns = ['Survived','PassengerId'])\n",
    "test_set = df_test.drop(columns = ['PassengerId'])\n",
    "test_ids = df_test['PassengerId'].values\n",
    "train_labels = np.asarray(df_train['Survived'])\n",
    "[num_examples,num_feat] = train_set.shape\n",
    "\n",
    "# Submission base which is used for making submissions to the competition\n",
    "submission_base = df_test[['PassengerId']].copy()"
   ]
  },
  {
   "cell_type": "code",
   "execution_count": 182,
   "metadata": {},
   "outputs": [],
   "source": [
    "# Using stratified kfold cross validation\n",
    "nfolds = 10\n",
    "strkfold = StratifiedKFold(n_splits = nfolds, shuffle = True)"
   ]
  },
  {
   "cell_type": "code",
   "execution_count": 183,
   "metadata": {},
   "outputs": [
    {
     "name": "stderr",
     "output_type": "stream",
     "text": [
      "/anaconda3/lib/python3.6/site-packages/sklearn/preprocessing/data.py:323: DataConversionWarning:\n",
      "\n",
      "Data with input dtype int64, float64 were all converted to float64 by MinMaxScaler.\n",
      "\n"
     ]
    }
   ],
   "source": [
    "# Create pipeline for scaling\n",
    "features = train_set.columns.tolist()\n",
    "pipeline = Pipeline([('scaler', MinMaxScaler())])\n",
    "# pipeline = Pipeline([('scaler', StandardScaler())])\n",
    "\n",
    "# Fit and transform training data\n",
    "train_set = pipeline.fit_transform(train_set)\n",
    "test_set = pipeline.transform(test_set)"
   ]
  },
  {
   "cell_type": "code",
   "execution_count": 184,
   "metadata": {},
   "outputs": [],
   "source": [
    "# Routine to plot feature importances\n",
    "def plot_feature_importances(df, n = 10, threshold = None):\n",
    "    \"\"\"Plots n most important features. Also plots the cumulative importance if\n",
    "    threshold is specified and prints the number of features needed to reach threshold cumulative importance.\n",
    "    Intended for use with any tree-based feature importances. \n",
    "    \n",
    "    Args:\n",
    "        df (dataframe): Dataframe of feature importances. Columns must be \"feature\" and \"importance\".\n",
    "    \n",
    "        n (int): Number of most important features to plot. Default is 10.\n",
    "    \n",
    "        threshold (float): Threshold for cumulative importance plot. If not provided, no plot is made. Default is None.\n",
    "        \n",
    "    Returns:\n",
    "        df (dataframe): Dataframe ordered by feature importances with a normalized column (sums to 1) \n",
    "                        and a cumulative importance column\n",
    "    \n",
    "    Note:\n",
    "    \n",
    "        * Normalization in this case means sums to 1. \n",
    "        * Cumulative importance is calculated by summing features from most to least important\n",
    "        * A threshold of x will show the most important features needed to reach 100*x% of cumulative importance\n",
    "    \n",
    "    \"\"\"    \n",
    "    # Sort features with most important at the head\n",
    "    df = df.sort_values('importance', ascending = False).reset_index(drop = True)\n",
    "    \n",
    "    # Normalize the feature importances to add up to one and calculate cumulative importance\n",
    "    df['importance_normalized'] = df['importance'] / df['importance'].sum()\n",
    "    df['cumulative_importance'] = np.cumsum(df['importance_normalized'])\n",
    "        \n",
    "    # Bar plot of n most important features\n",
    "    trace0 = go.Bar(\n",
    "                    y=df.loc[:n,'feature'],\n",
    "                    x=df.loc[:n,'importance_normalized'],\n",
    "                    marker=dict(\n",
    "                        color='rgba(50, 171, 96, 0.6)',\n",
    "                        line=dict(\n",
    "                            color='rgba(50, 171, 96, 1.0)',\n",
    "                            width=1),\n",
    "                    ), orientation = 'h')\n",
    "    layout = go.Layout(title='Normalized importance of features',\n",
    "                      yaxis = dict(autorange = \"reversed\",\n",
    "                                  tickangle = 0,\n",
    "                                  automargin=True),\n",
    "                      width=800)\n",
    "\n",
    "    fig = go.Figure(data=[trace0], layout=layout)\n",
    "    plotly.offline.iplot(fig, filename='norm-importance')\n",
    "    \n",
    "    \n",
    "    if threshold:\n",
    "        # Number of features needed for threshold cumulative importance\n",
    "        # This is the index (will need to add 1 for the actual number)\n",
    "        importance_index = np.min(np.where(df['cumulative_importance'] > threshold))\n",
    "        \n",
    "        # Cumulative importance plot        \n",
    "        trace0 = go.Scatter(x=df.index,y=df['cumulative_importance'],line = dict(color = 'blue'))\n",
    "        trace1 = go.Scatter(x=[importance_index + 1,importance_index + 1],y=[0,1.02],\n",
    "                            line = dict(color = 'red',\n",
    "                                       dash ='dash'))\n",
    "        \n",
    "        fig1 = go.Figure(data=[trace0,trace1])\n",
    "        fig1['layout'].update(title='Cumulative Feature Importance',\n",
    "                            xaxis = dict(title='Number of Features'),\n",
    "                            yaxis = dict(title='Cumulative Importance'),\n",
    "                             showlegend=False)\n",
    "        plotly.offline.iplot(fig1, filename='basic-line')\n",
    "\n",
    "        print(f'{importance_index + 1} features required for {100*threshold}% of cumulative importance.')\n",
    "    \n",
    "    return df"
   ]
  },
  {
   "cell_type": "code",
   "execution_count": 185,
   "metadata": {},
   "outputs": [],
   "source": [
    "# Routine to train a model with cross-validation and append the results to a dataframe\n",
    "\n",
    "model_results = pd.DataFrame(columns = ['model','cv_mean','cv_std'])\n",
    "\n",
    "def run_cv_model(model, train_set, train_labels, name, model_results = None):\n",
    "    \n",
    "    \"\"\" Perform K-fold CV of the given model\"\"\"\n",
    "    \n",
    "    cv_scores = cross_val_score(model, train_set, train_labels, cv=strkfold, scoring=scorer)\n",
    "    \n",
    "    print(f'{strkfold.n_splits}-Fold Cross Validation F1 Score = \\\n",
    "            {round(cv_scores.mean(), 4)} with std = {round(cv_scores.std(), 4)}')\n",
    "    \n",
    "    if model_results is not None:\n",
    "        model_results = model_results.append(pd.DataFrame({'model':name,\n",
    "                                                           'cv_mean':cv_scores.mean(),\n",
    "                                                           'cv_std': cv_scores.std()}, index=[0]),\n",
    "                                            ignore_index=True)\n",
    "        return model_results\n",
    "    \n",
    "    "
   ]
  },
  {
   "cell_type": "code",
   "execution_count": 186,
   "metadata": {},
   "outputs": [],
   "source": [
    "# Routine to plot scores of model_results\n",
    "\n",
    "def plot_scores(model):\n",
    "#     model.set_index('model', inplace=True)\n",
    "    \n",
    "    trace0 = go.Bar(\n",
    "                    y=model['cv_mean'],\n",
    "                    x=model['model'],\n",
    "                    marker=dict(\n",
    "                        color='orange',\n",
    "                        line=dict(\n",
    "                            color='black',\n",
    "                            width=1),\n",
    "                    ),\n",
    "                    error_y=dict(\n",
    "                            type='data',\n",
    "                            array=model['cv_std'],\n",
    "                            visible=True,\n",
    "                            color ='black')\n",
    "                    )\n",
    "    \n",
    "    layout = go.Layout(title='F1 scores of models',\n",
    "                      width=800, xaxis = dict(tickfont=dict(size=14), automargin=True))\n",
    "\n",
    "    fig = go.Figure(data=[trace0], layout=layout)\n",
    "    plotly.offline.iplot(fig, filename='F1-scores')\n",
    "    "
   ]
  },
  {
   "cell_type": "markdown",
   "metadata": {},
   "source": [
    "## Random Forest baseline classifier\n",
    "Use 10-fold cross validation to get prediction results"
   ]
  },
  {
   "cell_type": "code",
   "execution_count": 187,
   "metadata": {},
   "outputs": [
    {
     "name": "stdout",
     "output_type": "stream",
     "text": [
      "10-Fold Cross Validation F1 Score =             0.7902 with std = 0.0468\n"
     ]
    }
   ],
   "source": [
    "model_rf = RandomForestClassifier(n_estimators=100, random_state=10, n_jobs = -1)\n",
    "# 10 fold cross validation\n",
    "model_results = run_cv_model(model_rf, train_set, train_labels, 'RF', model_results)"
   ]
  },
  {
   "cell_type": "code",
   "execution_count": 188,
   "metadata": {},
   "outputs": [
    {
     "data": {
      "text/html": [
       "<div>\n",
       "<style scoped>\n",
       "    .dataframe tbody tr th:only-of-type {\n",
       "        vertical-align: middle;\n",
       "    }\n",
       "\n",
       "    .dataframe tbody tr th {\n",
       "        vertical-align: top;\n",
       "    }\n",
       "\n",
       "    .dataframe thead th {\n",
       "        text-align: right;\n",
       "    }\n",
       "</style>\n",
       "<table border=\"1\" class=\"dataframe\">\n",
       "  <thead>\n",
       "    <tr style=\"text-align: right;\">\n",
       "      <th></th>\n",
       "      <th>feature</th>\n",
       "      <th>importance</th>\n",
       "    </tr>\n",
       "  </thead>\n",
       "  <tbody>\n",
       "    <tr>\n",
       "      <th>0</th>\n",
       "      <td>Pclass</td>\n",
       "      <td>0.084664</td>\n",
       "    </tr>\n",
       "    <tr>\n",
       "      <th>1</th>\n",
       "      <td>Sex</td>\n",
       "      <td>0.252273</td>\n",
       "    </tr>\n",
       "    <tr>\n",
       "      <th>2</th>\n",
       "      <td>Age</td>\n",
       "      <td>0.258889</td>\n",
       "    </tr>\n",
       "    <tr>\n",
       "      <th>3</th>\n",
       "      <td>SibSp</td>\n",
       "      <td>0.047878</td>\n",
       "    </tr>\n",
       "    <tr>\n",
       "      <th>4</th>\n",
       "      <td>Parch</td>\n",
       "      <td>0.039327</td>\n",
       "    </tr>\n",
       "  </tbody>\n",
       "</table>\n",
       "</div>"
      ],
      "text/plain": [
       "  feature  importance\n",
       "0  Pclass    0.084664\n",
       "1     Sex    0.252273\n",
       "2     Age    0.258889\n",
       "3   SibSp    0.047878\n",
       "4   Parch    0.039327"
      ]
     },
     "execution_count": 188,
     "metadata": {},
     "output_type": "execute_result"
    }
   ],
   "source": [
    "model_rf.fit(train_set, train_labels)\n",
    "\n",
    "# Feature importances into a dataframe\n",
    "feature_importances = pd.DataFrame({'feature': features, 'importance': model_rf.feature_importances_})\n",
    "feature_importances.head()"
   ]
  },
  {
   "cell_type": "code",
   "execution_count": 189,
   "metadata": {},
   "outputs": [
    {
     "data": {
      "application/vnd.plotly.v1+json": {
       "config": {
        "linkText": "Export to plot.ly",
        "plotlyServerURL": "https://plot.ly",
        "showLink": false
       },
       "data": [
        {
         "marker": {
          "color": "rgba(50, 171, 96, 0.6)",
          "line": {
           "color": "rgba(50, 171, 96, 1.0)",
           "width": 1
          }
         },
         "orientation": "h",
         "type": "bar",
         "uid": "1ccd77e3-7f1b-4a6d-9316-27bc39238efe",
         "x": [
          0.281942407219116,
          0.25888869007701704,
          0.25227261438529974,
          0.084663713548292,
          0.04787847332836686,
          0.03932657070553107,
          0.03502753073637718
         ],
         "y": [
          "Fare",
          "Age",
          "Sex",
          "Pclass",
          "SibSp",
          "Parch",
          "Embarked"
         ]
        }
       ],
       "layout": {
        "title": {
         "text": "Normalized importance of features"
        },
        "width": 800,
        "yaxis": {
         "automargin": true,
         "autorange": "reversed",
         "tickangle": 0
        }
       }
      },
      "text/html": [
       "<div id=\"8bf489ca-e73b-4655-b47e-79873c15b065\" style=\"height: 525px; width: 800px;\" class=\"plotly-graph-div\"></div><script type=\"text/javascript\">require([\"plotly\"], function(Plotly) { window.PLOTLYENV=window.PLOTLYENV || {};window.PLOTLYENV.BASE_URL=\"https://plot.ly\";Plotly.newPlot(\"8bf489ca-e73b-4655-b47e-79873c15b065\", [{\"marker\": {\"color\": \"rgba(50, 171, 96, 0.6)\", \"line\": {\"color\": \"rgba(50, 171, 96, 1.0)\", \"width\": 1}}, \"orientation\": \"h\", \"x\": [0.281942407219116, 0.25888869007701704, 0.25227261438529974, 0.084663713548292, 0.04787847332836686, 0.03932657070553107, 0.03502753073637718], \"y\": [\"Fare\", \"Age\", \"Sex\", \"Pclass\", \"SibSp\", \"Parch\", \"Embarked\"], \"type\": \"bar\", \"uid\": \"1ccd77e3-7f1b-4a6d-9316-27bc39238efe\"}], {\"title\": {\"text\": \"Normalized importance of features\"}, \"width\": 800, \"yaxis\": {\"automargin\": true, \"autorange\": \"reversed\", \"tickangle\": 0}}, {\"showLink\": false, \"linkText\": \"Export to plot.ly\", \"plotlyServerURL\": \"https://plot.ly\"})});</script>"
      ],
      "text/vnd.plotly.v1+html": [
       "<div id=\"8bf489ca-e73b-4655-b47e-79873c15b065\" style=\"height: 525px; width: 800px;\" class=\"plotly-graph-div\"></div><script type=\"text/javascript\">require([\"plotly\"], function(Plotly) { window.PLOTLYENV=window.PLOTLYENV || {};window.PLOTLYENV.BASE_URL=\"https://plot.ly\";Plotly.newPlot(\"8bf489ca-e73b-4655-b47e-79873c15b065\", [{\"marker\": {\"color\": \"rgba(50, 171, 96, 0.6)\", \"line\": {\"color\": \"rgba(50, 171, 96, 1.0)\", \"width\": 1}}, \"orientation\": \"h\", \"x\": [0.281942407219116, 0.25888869007701704, 0.25227261438529974, 0.084663713548292, 0.04787847332836686, 0.03932657070553107, 0.03502753073637718], \"y\": [\"Fare\", \"Age\", \"Sex\", \"Pclass\", \"SibSp\", \"Parch\", \"Embarked\"], \"type\": \"bar\", \"uid\": \"1ccd77e3-7f1b-4a6d-9316-27bc39238efe\"}], {\"title\": {\"text\": \"Normalized importance of features\"}, \"width\": 800, \"yaxis\": {\"automargin\": true, \"autorange\": \"reversed\", \"tickangle\": 0}}, {\"showLink\": false, \"linkText\": \"Export to plot.ly\", \"plotlyServerURL\": \"https://plot.ly\"})});</script>"
      ]
     },
     "metadata": {},
     "output_type": "display_data"
    },
    {
     "data": {
      "application/vnd.plotly.v1+json": {
       "config": {
        "linkText": "Export to plot.ly",
        "plotlyServerURL": "https://plot.ly",
        "showLink": false
       },
       "data": [
        {
         "line": {
          "color": "blue"
         },
         "type": "scatter",
         "uid": "e3a4f313-6828-402d-acd9-7505c96de83c",
         "x": [
          0,
          1,
          2,
          3,
          4,
          5,
          6
         ],
         "y": [
          0.281942407219116,
          0.540831097296133,
          0.7931037116814328,
          0.8777674252297247,
          0.9256458985580915,
          0.9649724692636226,
          0.9999999999999998
         ]
        },
        {
         "line": {
          "color": "red",
          "dash": "dash"
         },
         "type": "scatter",
         "uid": "2ecdc2c7-fdf2-4651-b8a1-bd7e0811e4ac",
         "x": [
          6,
          6
         ],
         "y": [
          0,
          1.02
         ]
        }
       ],
       "layout": {
        "showlegend": false,
        "title": {
         "text": "Cumulative Feature Importance"
        },
        "xaxis": {
         "title": {
          "text": "Number of Features"
         }
        },
        "yaxis": {
         "title": {
          "text": "Cumulative Importance"
         }
        }
       }
      },
      "text/html": [
       "<div id=\"fc3ed4e3-fb03-4a53-b86c-c76d37d3543f\" style=\"height: 525px; width: 100%;\" class=\"plotly-graph-div\"></div><script type=\"text/javascript\">require([\"plotly\"], function(Plotly) { window.PLOTLYENV=window.PLOTLYENV || {};window.PLOTLYENV.BASE_URL=\"https://plot.ly\";Plotly.newPlot(\"fc3ed4e3-fb03-4a53-b86c-c76d37d3543f\", [{\"line\": {\"color\": \"blue\"}, \"x\": [0, 1, 2, 3, 4, 5, 6], \"y\": [0.281942407219116, 0.540831097296133, 0.7931037116814328, 0.8777674252297247, 0.9256458985580915, 0.9649724692636226, 0.9999999999999998], \"type\": \"scatter\", \"uid\": \"e3a4f313-6828-402d-acd9-7505c96de83c\"}, {\"line\": {\"color\": \"red\", \"dash\": \"dash\"}, \"x\": [6, 6], \"y\": [0, 1.02], \"type\": \"scatter\", \"uid\": \"2ecdc2c7-fdf2-4651-b8a1-bd7e0811e4ac\"}], {\"title\": {\"text\": \"Cumulative Feature Importance\"}, \"xaxis\": {\"title\": {\"text\": \"Number of Features\"}}, \"yaxis\": {\"title\": {\"text\": \"Cumulative Importance\"}}, \"showlegend\": false}, {\"showLink\": false, \"linkText\": \"Export to plot.ly\", \"plotlyServerURL\": \"https://plot.ly\"})});</script><script type=\"text/javascript\">window.addEventListener(\"resize\", function(){window._Plotly.Plots.resize(document.getElementById(\"fc3ed4e3-fb03-4a53-b86c-c76d37d3543f\"));});</script>"
      ],
      "text/vnd.plotly.v1+html": [
       "<div id=\"fc3ed4e3-fb03-4a53-b86c-c76d37d3543f\" style=\"height: 525px; width: 100%;\" class=\"plotly-graph-div\"></div><script type=\"text/javascript\">require([\"plotly\"], function(Plotly) { window.PLOTLYENV=window.PLOTLYENV || {};window.PLOTLYENV.BASE_URL=\"https://plot.ly\";Plotly.newPlot(\"fc3ed4e3-fb03-4a53-b86c-c76d37d3543f\", [{\"line\": {\"color\": \"blue\"}, \"x\": [0, 1, 2, 3, 4, 5, 6], \"y\": [0.281942407219116, 0.540831097296133, 0.7931037116814328, 0.8777674252297247, 0.9256458985580915, 0.9649724692636226, 0.9999999999999998], \"type\": \"scatter\", \"uid\": \"e3a4f313-6828-402d-acd9-7505c96de83c\"}, {\"line\": {\"color\": \"red\", \"dash\": \"dash\"}, \"x\": [6, 6], \"y\": [0, 1.02], \"type\": \"scatter\", \"uid\": \"2ecdc2c7-fdf2-4651-b8a1-bd7e0811e4ac\"}], {\"title\": {\"text\": \"Cumulative Feature Importance\"}, \"xaxis\": {\"title\": {\"text\": \"Number of Features\"}}, \"yaxis\": {\"title\": {\"text\": \"Cumulative Importance\"}}, \"showlegend\": false}, {\"showLink\": false, \"linkText\": \"Export to plot.ly\", \"plotlyServerURL\": \"https://plot.ly\"})});</script><script type=\"text/javascript\">window.addEventListener(\"resize\", function(){window._Plotly.Plots.resize(document.getElementById(\"fc3ed4e3-fb03-4a53-b86c-c76d37d3543f\"));});</script>"
      ]
     },
     "metadata": {},
     "output_type": "display_data"
    },
    {
     "name": "stdout",
     "output_type": "stream",
     "text": [
      "6 features required for 95.0% of cumulative importance.\n"
     ]
    }
   ],
   "source": [
    "norm_fi = plot_feature_importances(feature_importances, threshold=0.95)"
   ]
  },
  {
   "cell_type": "code",
   "execution_count": 190,
   "metadata": {},
   "outputs": [],
   "source": [
    "from sklearn.feature_selection import RFECV\n",
    "\n",
    "# Create a model for feature selection\n",
    "estimator = RandomForestClassifier(random_state = 10, n_estimators = 100,  n_jobs = -1)\n",
    "\n",
    "# Create the object\n",
    "selector = RFECV(estimator, step = 1, cv = strkfold, scoring= scorer, n_jobs = -1)"
   ]
  },
  {
   "cell_type": "code",
   "execution_count": 191,
   "metadata": {},
   "outputs": [
    {
     "data": {
      "text/plain": [
       "RFECV(cv=StratifiedKFold(n_splits=10, random_state=None, shuffle=True),\n",
       "   estimator=RandomForestClassifier(bootstrap=True, class_weight=None, criterion='gini',\n",
       "            max_depth=None, max_features='auto', max_leaf_nodes=None,\n",
       "            min_impurity_decrease=0.0, min_impurity_split=None,\n",
       "            min_samples_leaf=1, min_samples_split=2,\n",
       "            min_weight_fraction_leaf=0.0, n_estimators=100, n_jobs=-1,\n",
       "            oob_score=False, random_state=10, verbose=0, warm_start=False),\n",
       "   min_features_to_select=1, n_jobs=-1,\n",
       "   scoring=make_scorer(f1_score, average=macro), step=1, verbose=0)"
      ]
     },
     "execution_count": 191,
     "metadata": {},
     "output_type": "execute_result"
    }
   ],
   "source": [
    "# Fit to training data\n",
    "selector.fit(train_set, train_labels)"
   ]
  },
  {
   "cell_type": "code",
   "execution_count": 192,
   "metadata": {},
   "outputs": [],
   "source": [
    "features_selected = [feat for (i,feat) in enumerate(features) if selector.ranking_[i]==1]"
   ]
  },
  {
   "cell_type": "code",
   "execution_count": 193,
   "metadata": {},
   "outputs": [
    {
     "data": {
      "application/vnd.plotly.v1+json": {
       "config": {
        "linkText": "Export to plot.ly",
        "plotlyServerURL": "https://plot.ly",
        "showLink": false
       },
       "data": [
        {
         "line": {
          "color": "blue"
         },
         "type": "scatter",
         "uid": "639fa8ff-60cb-4234-a3c3-113b533ac71a",
         "x": [
          1,
          2,
          3,
          4,
          5,
          6,
          7
         ],
         "y": [
          0.6419216951922202,
          0.6577206371745625,
          0.7669534050780976,
          0.8049178326697927,
          0.7948100907970209,
          0.7919861766462171,
          0.7948037036787272
         ]
        },
        {
         "line": {
          "color": "red",
          "dash": "dash"
         },
         "type": "scatter",
         "uid": "6148dae5-945f-401b-b845-f222ebc371ea",
         "x": [
          4,
          4
         ],
         "y": [
          0.6419216951922202,
          0.8049178326697927
         ]
        }
       ],
       "layout": {
        "showlegend": false,
        "title": {
         "text": "Recursive feature elimination -- score improves up to 4 features"
        },
        "xaxis": {
         "title": {
          "text": "Number of Features"
         }
        },
        "yaxis": {
         "title": {
          "text": "Macro F1 score"
         }
        }
       }
      },
      "text/html": [
       "<div id=\"03a56db9-3001-4962-a927-effbb8c2c9d1\" style=\"height: 525px; width: 100%;\" class=\"plotly-graph-div\"></div><script type=\"text/javascript\">require([\"plotly\"], function(Plotly) { window.PLOTLYENV=window.PLOTLYENV || {};window.PLOTLYENV.BASE_URL=\"https://plot.ly\";Plotly.newPlot(\"03a56db9-3001-4962-a927-effbb8c2c9d1\", [{\"line\": {\"color\": \"blue\"}, \"x\": [1, 2, 3, 4, 5, 6, 7], \"y\": [0.6419216951922202, 0.6577206371745625, 0.7669534050780976, 0.8049178326697927, 0.7948100907970209, 0.7919861766462171, 0.7948037036787272], \"type\": \"scatter\", \"uid\": \"639fa8ff-60cb-4234-a3c3-113b533ac71a\"}, {\"line\": {\"color\": \"red\", \"dash\": \"dash\"}, \"x\": [4, 4], \"y\": [0.6419216951922202, 0.8049178326697927], \"type\": \"scatter\", \"uid\": \"6148dae5-945f-401b-b845-f222ebc371ea\"}], {\"title\": {\"text\": \"Recursive feature elimination -- score improves up to 4 features\"}, \"xaxis\": {\"title\": {\"text\": \"Number of Features\"}}, \"yaxis\": {\"title\": {\"text\": \"Macro F1 score\"}}, \"showlegend\": false}, {\"showLink\": false, \"linkText\": \"Export to plot.ly\", \"plotlyServerURL\": \"https://plot.ly\"})});</script><script type=\"text/javascript\">window.addEventListener(\"resize\", function(){window._Plotly.Plots.resize(document.getElementById(\"03a56db9-3001-4962-a927-effbb8c2c9d1\"));});</script>"
      ],
      "text/vnd.plotly.v1+html": [
       "<div id=\"03a56db9-3001-4962-a927-effbb8c2c9d1\" style=\"height: 525px; width: 100%;\" class=\"plotly-graph-div\"></div><script type=\"text/javascript\">require([\"plotly\"], function(Plotly) { window.PLOTLYENV=window.PLOTLYENV || {};window.PLOTLYENV.BASE_URL=\"https://plot.ly\";Plotly.newPlot(\"03a56db9-3001-4962-a927-effbb8c2c9d1\", [{\"line\": {\"color\": \"blue\"}, \"x\": [1, 2, 3, 4, 5, 6, 7], \"y\": [0.6419216951922202, 0.6577206371745625, 0.7669534050780976, 0.8049178326697927, 0.7948100907970209, 0.7919861766462171, 0.7948037036787272], \"type\": \"scatter\", \"uid\": \"639fa8ff-60cb-4234-a3c3-113b533ac71a\"}, {\"line\": {\"color\": \"red\", \"dash\": \"dash\"}, \"x\": [4, 4], \"y\": [0.6419216951922202, 0.8049178326697927], \"type\": \"scatter\", \"uid\": \"6148dae5-945f-401b-b845-f222ebc371ea\"}], {\"title\": {\"text\": \"Recursive feature elimination -- score improves up to 4 features\"}, \"xaxis\": {\"title\": {\"text\": \"Number of Features\"}}, \"yaxis\": {\"title\": {\"text\": \"Macro F1 score\"}}, \"showlegend\": false}, {\"showLink\": false, \"linkText\": \"Export to plot.ly\", \"plotlyServerURL\": \"https://plot.ly\"})});</script><script type=\"text/javascript\">window.addEventListener(\"resize\", function(){window._Plotly.Plots.resize(document.getElementById(\"03a56db9-3001-4962-a927-effbb8c2c9d1\"));});</script>"
      ]
     },
     "metadata": {},
     "output_type": "display_data"
    }
   ],
   "source": [
    "# Plot results\n",
    "trace0 = go.Scatter(x=np.asarray(range(1,1+num_feat)),y=selector.grid_scores_,line = dict(color = 'blue'))\n",
    "trace1 = go.Scatter(x=[selector.n_features_,selector.n_features_],\n",
    "                    y=[np.min(selector.grid_scores_),np.max(selector.grid_scores_)],\n",
    "                            line = dict(color = 'red',\n",
    "                                       dash ='dash'))\n",
    "fig1 = go.Figure(data=[trace0,trace1])\n",
    "fig1['layout'].update(title=f'Recursive feature elimination -- score improves up to {selector.n_features_} features',\n",
    "                              xaxis = dict(title='Number of Features'),\n",
    "                              yaxis = dict(title='Macro F1 score'),\n",
    "                              showlegend=False)\n",
    "plotly.offline.iplot(fig1, filename='basic-line')"
   ]
  },
  {
   "cell_type": "code",
   "execution_count": 194,
   "metadata": {},
   "outputs": [
    {
     "name": "stdout",
     "output_type": "stream",
     "text": [
      "10-Fold Cross Validation F1 Score =             0.8056 with std = 0.0478\n"
     ]
    }
   ],
   "source": [
    "# Retrain the model\n",
    "model_results = run_cv_model(model_rf,selector.transform(train_set),train_labels,'RF-RFE', model_results)"
   ]
  },
  {
   "cell_type": "markdown",
   "metadata": {},
   "source": [
    "## Compare multiple models\n",
    "Run several models for classification (without fine tuning) to determine a good baseline model that works for this dataset"
   ]
  },
  {
   "cell_type": "code",
   "execution_count": 195,
   "metadata": {},
   "outputs": [],
   "source": [
    "from sklearn.svm import LinearSVC\n",
    "from sklearn.naive_bayes import GaussianNB\n",
    "from sklearn.neural_network import MLPClassifier\n",
    "from sklearn.linear_model import LogisticRegressionCV, RidgeClassifierCV\n",
    "from sklearn.discriminant_analysis import LinearDiscriminantAnalysis\n",
    "from sklearn.neighbors import KNeighborsClassifier"
   ]
  },
  {
   "cell_type": "code",
   "execution_count": 196,
   "metadata": {},
   "outputs": [
    {
     "name": "stdout",
     "output_type": "stream",
     "text": [
      "10-Fold Cross Validation F1 Score =             0.7852 with std = 0.0459\n"
     ]
    }
   ],
   "source": [
    "#Run linear SVM\n",
    "model_results = run_cv_model(LinearSVC(), train_set, train_labels, 'LSVC', model_results)"
   ]
  },
  {
   "cell_type": "code",
   "execution_count": 197,
   "metadata": {},
   "outputs": [
    {
     "name": "stdout",
     "output_type": "stream",
     "text": [
      "10-Fold Cross Validation F1 Score =             0.7729 with std = 0.0598\n"
     ]
    }
   ],
   "source": [
    "# Run  Gaussian Naive Bayes\n",
    "model_results = run_cv_model(GaussianNB(), train_set, train_labels, 'GNB', model_results)"
   ]
  },
  {
   "cell_type": "code",
   "execution_count": 198,
   "metadata": {},
   "outputs": [
    {
     "name": "stdout",
     "output_type": "stream",
     "text": [
      "10-Fold Cross Validation F1 Score =             0.7884 with std = 0.0571\n"
     ]
    }
   ],
   "source": [
    "# Run  Multi-layer perceptron\n",
    "model_results = run_cv_model(MLPClassifier(hidden_layer_sizes = (32, 64, 128, 64, 32), max_iter = 500),\n",
    "                             train_set, train_labels, 'MLP-0', model_results)"
   ]
  },
  {
   "cell_type": "code",
   "execution_count": 199,
   "metadata": {},
   "outputs": [
    {
     "name": "stdout",
     "output_type": "stream",
     "text": [
      "10-Fold Cross Validation F1 Score =             0.7812 with std = 0.0382\n",
      "10-Fold Cross Validation F1 Score =             0.7747 with std = 0.0514\n"
     ]
    }
   ],
   "source": [
    "# Run  LDA\n",
    "model_results = run_cv_model(LinearDiscriminantAnalysis(), train_set, train_labels, 'LDA', model_results)\n",
    "model_results = run_cv_model(LinearDiscriminantAnalysis(), selector.transform(train_set),\n",
    "                             train_labels, 'LDA-RFE', model_results)"
   ]
  },
  {
   "cell_type": "code",
   "execution_count": 200,
   "metadata": {},
   "outputs": [
    {
     "name": "stderr",
     "output_type": "stream",
     "text": [
      "/anaconda3/lib/python3.6/site-packages/sklearn/model_selection/_split.py:2053: FutureWarning:\n",
      "\n",
      "You should specify a value for 'cv' instead of relying on the default value. The default value will change from 3 to 5 in version 0.22.\n",
      "\n",
      "/anaconda3/lib/python3.6/site-packages/sklearn/model_selection/_split.py:2053: FutureWarning:\n",
      "\n",
      "You should specify a value for 'cv' instead of relying on the default value. The default value will change from 3 to 5 in version 0.22.\n",
      "\n",
      "/anaconda3/lib/python3.6/site-packages/sklearn/model_selection/_split.py:2053: FutureWarning:\n",
      "\n",
      "You should specify a value for 'cv' instead of relying on the default value. The default value will change from 3 to 5 in version 0.22.\n",
      "\n",
      "/anaconda3/lib/python3.6/site-packages/sklearn/model_selection/_split.py:2053: FutureWarning:\n",
      "\n",
      "You should specify a value for 'cv' instead of relying on the default value. The default value will change from 3 to 5 in version 0.22.\n",
      "\n",
      "/anaconda3/lib/python3.6/site-packages/sklearn/model_selection/_split.py:2053: FutureWarning:\n",
      "\n",
      "You should specify a value for 'cv' instead of relying on the default value. The default value will change from 3 to 5 in version 0.22.\n",
      "\n",
      "/anaconda3/lib/python3.6/site-packages/sklearn/model_selection/_split.py:2053: FutureWarning:\n",
      "\n",
      "You should specify a value for 'cv' instead of relying on the default value. The default value will change from 3 to 5 in version 0.22.\n",
      "\n",
      "/anaconda3/lib/python3.6/site-packages/sklearn/model_selection/_split.py:2053: FutureWarning:\n",
      "\n",
      "You should specify a value for 'cv' instead of relying on the default value. The default value will change from 3 to 5 in version 0.22.\n",
      "\n",
      "/anaconda3/lib/python3.6/site-packages/sklearn/model_selection/_split.py:2053: FutureWarning:\n",
      "\n",
      "You should specify a value for 'cv' instead of relying on the default value. The default value will change from 3 to 5 in version 0.22.\n",
      "\n",
      "/anaconda3/lib/python3.6/site-packages/sklearn/model_selection/_split.py:2053: FutureWarning:\n",
      "\n",
      "You should specify a value for 'cv' instead of relying on the default value. The default value will change from 3 to 5 in version 0.22.\n",
      "\n"
     ]
    },
    {
     "name": "stdout",
     "output_type": "stream",
     "text": [
      "10-Fold Cross Validation F1 Score =             0.7897 with std = 0.0434\n"
     ]
    },
    {
     "name": "stderr",
     "output_type": "stream",
     "text": [
      "/anaconda3/lib/python3.6/site-packages/sklearn/model_selection/_split.py:2053: FutureWarning:\n",
      "\n",
      "You should specify a value for 'cv' instead of relying on the default value. The default value will change from 3 to 5 in version 0.22.\n",
      "\n"
     ]
    }
   ],
   "source": [
    "# Run  Logistic Regression\n",
    "model_results = run_cv_model(LogisticRegressionCV(), train_set, train_labels, 'LR', model_results)"
   ]
  },
  {
   "cell_type": "code",
   "execution_count": 201,
   "metadata": {},
   "outputs": [
    {
     "name": "stdout",
     "output_type": "stream",
     "text": [
      "10-Fold Cross Validation F1 Score =             0.7823 with std = 0.036\n"
     ]
    }
   ],
   "source": [
    "# Run  Ridge Regression\n",
    "model_results = run_cv_model(RidgeClassifierCV(), train_set, train_labels, 'RR', model_results)"
   ]
  },
  {
   "cell_type": "code",
   "execution_count": 202,
   "metadata": {},
   "outputs": [
    {
     "name": "stdout",
     "output_type": "stream",
     "text": [
      "10-Fold Cross Validation F1 Score =             0.7863 with std = 0.0456\n",
      "10-Fold Cross Validation F1 Score =             0.7652 with std = 0.0496\n",
      "10-Fold Cross Validation F1 Score =             0.7842 with std = 0.0191\n",
      "10-Fold Cross Validation F1 Score =             0.7829 with std = 0.052\n"
     ]
    }
   ],
   "source": [
    "# Run  KNN\n",
    "kn = [3, 5, 10, 20]\n",
    "for n in kn:\n",
    "    model_results = run_cv_model(KNeighborsClassifier(n_neighbors=n),\n",
    "                                 train_set, train_labels, f'KNN-{n}', model_results)"
   ]
  },
  {
   "cell_type": "code",
   "execution_count": 203,
   "metadata": {
    "scrolled": false
   },
   "outputs": [
    {
     "data": {
      "application/vnd.plotly.v1+json": {
       "config": {
        "linkText": "Export to plot.ly",
        "plotlyServerURL": "https://plot.ly",
        "showLink": false
       },
       "data": [
        {
         "error_y": {
          "array": [
           0.046775958440260994,
           0.047810418511180106,
           0.0459106216438045,
           0.059848991833775025,
           0.05707324620588321,
           0.038211060606980436,
           0.05135211127374109,
           0.04335417613334411,
           0.036031592799310556,
           0.04563242846881294,
           0.04963538344935757,
           0.01913907821857215,
           0.051956897765414574
          ],
          "color": "black",
          "type": "data",
          "visible": true
         },
         "marker": {
          "color": "orange",
          "line": {
           "color": "black",
           "width": 1
          }
         },
         "type": "bar",
         "uid": "2d2a772d-fbad-4f31-8427-5dcf3cebc3be",
         "x": [
          "RF",
          "RF-RFE",
          "LSVC",
          "GNB",
          "MLP-0",
          "LDA",
          "LDA-RFE",
          "LR",
          "RR",
          "KNN-3",
          "KNN-5",
          "KNN-10",
          "KNN-20"
         ],
         "y": [
          0.7901813932866842,
          0.8056132847381523,
          0.785220095931338,
          0.7728854826731628,
          0.7884029486727605,
          0.7812465934173934,
          0.7747411543329887,
          0.7897093527784417,
          0.7823118899565672,
          0.7863254637507133,
          0.7651529465647784,
          0.7841507422667039,
          0.7829045329735362
         ]
        }
       ],
       "layout": {
        "title": {
         "text": "F1 scores of models"
        },
        "width": 800,
        "xaxis": {
         "automargin": true,
         "tickfont": {
          "size": 14
         }
        }
       }
      },
      "text/html": [
       "<div id=\"de3ce98f-83e9-42d0-8139-c55bb809e130\" style=\"height: 525px; width: 800px;\" class=\"plotly-graph-div\"></div><script type=\"text/javascript\">require([\"plotly\"], function(Plotly) { window.PLOTLYENV=window.PLOTLYENV || {};window.PLOTLYENV.BASE_URL=\"https://plot.ly\";Plotly.newPlot(\"de3ce98f-83e9-42d0-8139-c55bb809e130\", [{\"error_y\": {\"array\": [0.046775958440260994, 0.047810418511180106, 0.0459106216438045, 0.059848991833775025, 0.05707324620588321, 0.038211060606980436, 0.05135211127374109, 0.04335417613334411, 0.036031592799310556, 0.04563242846881294, 0.04963538344935757, 0.01913907821857215, 0.051956897765414574], \"color\": \"black\", \"type\": \"data\", \"visible\": true}, \"marker\": {\"color\": \"orange\", \"line\": {\"color\": \"black\", \"width\": 1}}, \"x\": [\"RF\", \"RF-RFE\", \"LSVC\", \"GNB\", \"MLP-0\", \"LDA\", \"LDA-RFE\", \"LR\", \"RR\", \"KNN-3\", \"KNN-5\", \"KNN-10\", \"KNN-20\"], \"y\": [0.7901813932866842, 0.8056132847381523, 0.785220095931338, 0.7728854826731628, 0.7884029486727605, 0.7812465934173934, 0.7747411543329887, 0.7897093527784417, 0.7823118899565672, 0.7863254637507133, 0.7651529465647784, 0.7841507422667039, 0.7829045329735362], \"type\": \"bar\", \"uid\": \"2d2a772d-fbad-4f31-8427-5dcf3cebc3be\"}], {\"title\": {\"text\": \"F1 scores of models\"}, \"width\": 800, \"xaxis\": {\"automargin\": true, \"tickfont\": {\"size\": 14}}}, {\"showLink\": false, \"linkText\": \"Export to plot.ly\", \"plotlyServerURL\": \"https://plot.ly\"})});</script>"
      ],
      "text/vnd.plotly.v1+html": [
       "<div id=\"de3ce98f-83e9-42d0-8139-c55bb809e130\" style=\"height: 525px; width: 800px;\" class=\"plotly-graph-div\"></div><script type=\"text/javascript\">require([\"plotly\"], function(Plotly) { window.PLOTLYENV=window.PLOTLYENV || {};window.PLOTLYENV.BASE_URL=\"https://plot.ly\";Plotly.newPlot(\"de3ce98f-83e9-42d0-8139-c55bb809e130\", [{\"error_y\": {\"array\": [0.046775958440260994, 0.047810418511180106, 0.0459106216438045, 0.059848991833775025, 0.05707324620588321, 0.038211060606980436, 0.05135211127374109, 0.04335417613334411, 0.036031592799310556, 0.04563242846881294, 0.04963538344935757, 0.01913907821857215, 0.051956897765414574], \"color\": \"black\", \"type\": \"data\", \"visible\": true}, \"marker\": {\"color\": \"orange\", \"line\": {\"color\": \"black\", \"width\": 1}}, \"x\": [\"RF\", \"RF-RFE\", \"LSVC\", \"GNB\", \"MLP-0\", \"LDA\", \"LDA-RFE\", \"LR\", \"RR\", \"KNN-3\", \"KNN-5\", \"KNN-10\", \"KNN-20\"], \"y\": [0.7901813932866842, 0.8056132847381523, 0.785220095931338, 0.7728854826731628, 0.7884029486727605, 0.7812465934173934, 0.7747411543329887, 0.7897093527784417, 0.7823118899565672, 0.7863254637507133, 0.7651529465647784, 0.7841507422667039, 0.7829045329735362], \"type\": \"bar\", \"uid\": \"2d2a772d-fbad-4f31-8427-5dcf3cebc3be\"}], {\"title\": {\"text\": \"F1 scores of models\"}, \"width\": 800, \"xaxis\": {\"automargin\": true, \"tickfont\": {\"size\": 14}}}, {\"showLink\": false, \"linkText\": \"Export to plot.ly\", \"plotlyServerURL\": \"https://plot.ly\"})});</script>"
      ]
     },
     "metadata": {},
     "output_type": "display_data"
    }
   ],
   "source": [
    "plot_scores(model_results)"
   ]
  },
  {
   "cell_type": "markdown",
   "metadata": {},
   "source": [
    "## Analysis of best model so far "
   ]
  },
  {
   "cell_type": "code",
   "execution_count": 224,
   "metadata": {},
   "outputs": [
    {
     "data": {
      "text/plain": [
       "RandomForestClassifier(bootstrap=True, class_weight=None, criterion='gini',\n",
       "            max_depth=None, max_features='auto', max_leaf_nodes=None,\n",
       "            min_impurity_decrease=0.0, min_impurity_split=None,\n",
       "            min_samples_leaf=1, min_samples_split=2,\n",
       "            min_weight_fraction_leaf=0.0, n_estimators=100, n_jobs=-1,\n",
       "            oob_score=False, random_state=10, verbose=0, warm_start=False)"
      ]
     },
     "execution_count": 224,
     "metadata": {},
     "output_type": "execute_result"
    }
   ],
   "source": [
    "model_rf.fit(selector.transform(train_set), train_labels)"
   ]
  },
  {
   "cell_type": "code",
   "execution_count": 246,
   "metadata": {
    "scrolled": false
   },
   "outputs": [],
   "source": [
    "predictions = pd.DataFrame()\n",
    "# Make predictions from the fold as probabilities\n",
    "probabilities = model_rf.predict_proba(selector.transform(test_set))\n",
    "        \n",
    "# Record each prediction for each class as a separate column\n",
    "for j in range(len(survived)):\n",
    "    predictions[(j)] = probabilities[:, j]\n",
    "            \n",
    "# Add needed information for predictions \n",
    "predictions['PassengerId'] = test_ids\n",
    "\n",
    "    \n",
    "# Find the class and associated probability\n",
    "predictions['Survived'] = predictions[survived].idxmax(axis = 1)\n",
    "predictions['confidence'] = predictions[survived].max(axis = 1)"
   ]
  },
  {
   "cell_type": "code",
   "execution_count": 247,
   "metadata": {},
   "outputs": [
    {
     "data": {
      "text/html": [
       "<div>\n",
       "<style scoped>\n",
       "    .dataframe tbody tr th:only-of-type {\n",
       "        vertical-align: middle;\n",
       "    }\n",
       "\n",
       "    .dataframe tbody tr th {\n",
       "        vertical-align: top;\n",
       "    }\n",
       "\n",
       "    .dataframe thead th {\n",
       "        text-align: right;\n",
       "    }\n",
       "</style>\n",
       "<table border=\"1\" class=\"dataframe\">\n",
       "  <thead>\n",
       "    <tr style=\"text-align: right;\">\n",
       "      <th></th>\n",
       "      <th>0</th>\n",
       "      <th>1</th>\n",
       "      <th>PassengerId</th>\n",
       "      <th>Survived</th>\n",
       "      <th>confidence</th>\n",
       "    </tr>\n",
       "  </thead>\n",
       "  <tbody>\n",
       "    <tr>\n",
       "      <th>0</th>\n",
       "      <td>0.080000</td>\n",
       "      <td>0.920000</td>\n",
       "      <td>1254</td>\n",
       "      <td>1</td>\n",
       "      <td>0.920000</td>\n",
       "    </tr>\n",
       "    <tr>\n",
       "      <th>1</th>\n",
       "      <td>0.920000</td>\n",
       "      <td>0.080000</td>\n",
       "      <td>1046</td>\n",
       "      <td>0</td>\n",
       "      <td>0.920000</td>\n",
       "    </tr>\n",
       "    <tr>\n",
       "      <th>2</th>\n",
       "      <td>0.941713</td>\n",
       "      <td>0.058287</td>\n",
       "      <td>939</td>\n",
       "      <td>0</td>\n",
       "      <td>0.941713</td>\n",
       "    </tr>\n",
       "    <tr>\n",
       "      <th>3</th>\n",
       "      <td>0.020000</td>\n",
       "      <td>0.980000</td>\n",
       "      <td>992</td>\n",
       "      <td>1</td>\n",
       "      <td>0.980000</td>\n",
       "    </tr>\n",
       "    <tr>\n",
       "      <th>4</th>\n",
       "      <td>0.635833</td>\n",
       "      <td>0.364167</td>\n",
       "      <td>1079</td>\n",
       "      <td>0</td>\n",
       "      <td>0.635833</td>\n",
       "    </tr>\n",
       "  </tbody>\n",
       "</table>\n",
       "</div>"
      ],
      "text/plain": [
       "          0         1  PassengerId  Survived  confidence\n",
       "0  0.080000  0.920000         1254         1    0.920000\n",
       "1  0.920000  0.080000         1046         0    0.920000\n",
       "2  0.941713  0.058287          939         0    0.941713\n",
       "3  0.020000  0.980000          992         1    0.980000\n",
       "4  0.635833  0.364167         1079         0    0.635833"
      ]
     },
     "execution_count": 247,
     "metadata": {},
     "output_type": "execute_result"
    }
   ],
   "source": [
    "predictions.head()"
   ]
  },
  {
   "cell_type": "code",
   "execution_count": 248,
   "metadata": {},
   "outputs": [],
   "source": [
    "submission = submission_base.merge(predictions[['PassengerId', 'Survived', 'confidence']], on = 'PassengerId', how = 'left')"
   ]
  },
  {
   "cell_type": "code",
   "execution_count": 250,
   "metadata": {},
   "outputs": [
    {
     "data": {
      "text/html": [
       "<div>\n",
       "<style scoped>\n",
       "    .dataframe tbody tr th:only-of-type {\n",
       "        vertical-align: middle;\n",
       "    }\n",
       "\n",
       "    .dataframe tbody tr th {\n",
       "        vertical-align: top;\n",
       "    }\n",
       "\n",
       "    .dataframe thead th {\n",
       "        text-align: right;\n",
       "    }\n",
       "</style>\n",
       "<table border=\"1\" class=\"dataframe\">\n",
       "  <thead>\n",
       "    <tr style=\"text-align: right;\">\n",
       "      <th></th>\n",
       "      <th>PassengerId</th>\n",
       "      <th>Survived</th>\n",
       "      <th>confidence</th>\n",
       "    </tr>\n",
       "  </thead>\n",
       "  <tbody>\n",
       "    <tr>\n",
       "      <th>0</th>\n",
       "      <td>1254</td>\n",
       "      <td>1</td>\n",
       "      <td>0.920000</td>\n",
       "    </tr>\n",
       "    <tr>\n",
       "      <th>1</th>\n",
       "      <td>1046</td>\n",
       "      <td>0</td>\n",
       "      <td>0.920000</td>\n",
       "    </tr>\n",
       "    <tr>\n",
       "      <th>2</th>\n",
       "      <td>939</td>\n",
       "      <td>0</td>\n",
       "      <td>0.941713</td>\n",
       "    </tr>\n",
       "    <tr>\n",
       "      <th>3</th>\n",
       "      <td>992</td>\n",
       "      <td>1</td>\n",
       "      <td>0.980000</td>\n",
       "    </tr>\n",
       "    <tr>\n",
       "      <th>4</th>\n",
       "      <td>1079</td>\n",
       "      <td>0</td>\n",
       "      <td>0.635833</td>\n",
       "    </tr>\n",
       "  </tbody>\n",
       "</table>\n",
       "</div>"
      ],
      "text/plain": [
       "   PassengerId  Survived  confidence\n",
       "0         1254         1    0.920000\n",
       "1         1046         0    0.920000\n",
       "2          939         0    0.941713\n",
       "3          992         1    0.980000\n",
       "4         1079         0    0.635833"
      ]
     },
     "execution_count": 250,
     "metadata": {},
     "output_type": "execute_result"
    }
   ],
   "source": [
    "submission.head()"
   ]
  }
 ],
 "metadata": {
  "kernelspec": {
   "display_name": "Python 3",
   "language": "python",
   "name": "python3"
  },
  "language_info": {
   "codemirror_mode": {
    "name": "ipython",
    "version": 3
   },
   "file_extension": ".py",
   "mimetype": "text/x-python",
   "name": "python",
   "nbconvert_exporter": "python",
   "pygments_lexer": "ipython3",
   "version": "3.6.8"
  }
 },
 "nbformat": 4,
 "nbformat_minor": 2
}
