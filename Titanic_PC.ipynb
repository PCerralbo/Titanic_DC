{
 "cells": [
  {
   "cell_type": "markdown",
   "metadata": {},
   "source": [
    "# Titanic Dataset Kaggle\n",
    "## Description\n",
    "https://www.kaggle.com/c/titanic\n",
    "The sinking of the RMS Titanic is one of the most infamous shipwrecks in history.  On April 15, 1912, during her maiden voyage, the Titanic sank after colliding with an iceberg, killing 1502 out of 2224 passengers and crew. This sensational tragedy shocked the international community and led to better safety regulations for ships.\n",
    "\n",
    "One of the reasons that the shipwreck led to such loss of life was that there were not enough lifeboats for the passengers and crew. Although there was some element of luck involved in surviving the sinking, some groups of people were more likely to survive than others, such as women, children, and the upper-class.\n",
    "\n",
    "In this challenge, we ask you to complete the analysis of what sorts of people were likely to survive. In particular, we ask you to apply the tools of machine learning to predict which passengers survived the tragedy.\n",
    "\n",
    "\n",
    "## Workflow stages\n",
    "\n",
    "The competition solution workflow goes through seven stages described in the Data Science Solutions book.\n",
    "\n",
    "    1. Question or problem definition.\n",
    "    2. Acquire training and testing data.\n",
    "    3. Wrangle, prepare, cleanse the data.\n",
    "    4. Analyze, identify patterns, and explore the data.\n",
    "    5. Model, predict and solve the problem.\n",
    "    6. Visualize, report, and present the problem solving steps and final solution.\n",
    "    7. Supply or submit the results.\n",
    "    \n",
    "## Workflow Goals\n",
    "\n",
    "The data science solutions workflow solves for seven major goals.\n",
    "\n",
    "1. **Classifying**. We may want to classify or categorize our samples. We may also want to understand the implications or correlation of different classes with our solution goal.\n",
    "\n",
    "2. **Correlating**. One can approach the problem based on available features within the training dataset. Which features within the dataset contribute significantly to our solution goal? Statistically speaking is there a correlation among a feature and solution goal? As the feature values change does the solution state change as well, and visa-versa? This can be tested both for numerical and categorical features in the given dataset. We may also want to determine correlation among features other than survival for subsequent goals and workflow stages. Correlating certain features may help in creating, completing, or correcting features.\n",
    "\n",
    "3. **Converting**. For modeling stage, one needs to prepare the data. Depending on the choice of model algorithm one may require all features to be converted to numerical equivalent values. So for instance converting text categorical values to numeric values.\n",
    "\n",
    "4. **Completing**. Data preparation may also require us to estimate any missing values within a feature. Model algorithms may work best when there are no missing values.\n",
    "\n",
    "5. **Correcting**. We may also analyze the given training dataset for errors or possibly innacurate values within features and try to corrent these values or exclude the samples containing the errors. One way to do this is to detect any outliers among our samples or features. We may also completely discard a feature if it is not contribting to the analysis or may significantly skew the results.\n",
    "\n",
    "6. **Creating**. Can we create new features based on an existing feature or a set of features, such that the new feature follows the correlation, conversion, completeness goals.\n",
    "\n",
    "7. **Charting**. How to select the right visualization plots and charts depending on nature of the data and the solution goals.\n",
    "\n",
    "\n",
    "## 1. Question (Problem Definition)\n",
    "\n",
    "Knowing from a training set of samples listing passengers who survived or did not survive the Titanic disaster, can our model determine based on a given test dataset not containing the survival information, if these passengers in the test dataset survived or not."
   ]
  },
  {
   "cell_type": "markdown",
   "metadata": {},
   "source": [
    "# Let's load the data, describe what we have, etc....\n",
    "1. load data (headers, column names, parse dates, etc...)\n",
    "2. describe dataframe (head, describe, info, NaNs, type, ....)\n",
    "3. ??"
   ]
  },
  {
   "cell_type": "code",
   "execution_count": 24,
   "metadata": {},
   "outputs": [
    {
     "name": "stdout",
     "output_type": "stream",
     "text": [
      "Shape: \n",
      " (891, 12) \n",
      "\n",
      "The Dataframe... \n",
      "    PassengerId  Survived  Pclass  \\\n",
      "0            1         0       3   \n",
      "1            2         1       1   \n",
      "2            3         1       3   \n",
      "3            4         1       1   \n",
      "4            5         0       3   \n",
      "\n",
      "                                                Name     Sex   Age  SibSp  \\\n",
      "0                            Braund, Mr. Owen Harris    male  22.0      1   \n",
      "1  Cumings, Mrs. John Bradley (Florence Briggs Th...  female  38.0      1   \n",
      "2                             Heikkinen, Miss. Laina  female  26.0      0   \n",
      "3       Futrelle, Mrs. Jacques Heath (Lily May Peel)  female  35.0      1   \n",
      "4                           Allen, Mr. William Henry    male  35.0      0   \n",
      "\n",
      "   Parch            Ticket     Fare Cabin Embarked  \n",
      "0      0         A/5 21171   7.2500   NaN        S  \n",
      "1      0          PC 17599  71.2833   C85        C  \n",
      "2      0  STON/O2. 3101282   7.9250   NaN        S  \n",
      "3      0            113803  53.1000  C123        S  \n",
      "4      0            373450   8.0500   NaN        S   \n",
      " ________________________________\n",
      "\n",
      "The columns types... \n",
      " PassengerId      int64\n",
      "Survived         int64\n",
      "Pclass           int64\n",
      "Name            object\n",
      "Sex             object\n",
      "Age            float64\n",
      "SibSp            int64\n",
      "Parch            int64\n",
      "Ticket          object\n",
      "Fare           float64\n",
      "Cabin           object\n",
      "Embarked        object\n",
      "dtype: object \n",
      " ________________________________\n",
      "\n",
      "Some statistics: \n",
      "        PassengerId    Survived      Pclass         Age       SibSp  \\\n",
      "count   891.000000  891.000000  891.000000  714.000000  891.000000   \n",
      "mean    446.000000    0.383838    2.308642   29.699118    0.523008   \n",
      "std     257.353842    0.486592    0.836071   14.526497    1.102743   \n",
      "min       1.000000    0.000000    1.000000    0.420000    0.000000   \n",
      "25%     223.500000    0.000000    2.000000   20.125000    0.000000   \n",
      "50%     446.000000    0.000000    3.000000   28.000000    0.000000   \n",
      "75%     668.500000    1.000000    3.000000   38.000000    1.000000   \n",
      "max     891.000000    1.000000    3.000000   80.000000    8.000000   \n",
      "\n",
      "            Parch        Fare  \n",
      "count  891.000000  891.000000  \n",
      "mean     0.381594   32.204208  \n",
      "std      0.806057   49.693429  \n",
      "min      0.000000    0.000000  \n",
      "25%      0.000000    7.910400  \n",
      "50%      0.000000   14.454200  \n",
      "75%      0.000000   31.000000  \n",
      "max      6.000000  512.329200   \n",
      " ________________________________\n",
      "\n",
      "Where are the null values:  PassengerId    False\n",
      "Survived       False\n",
      "Pclass         False\n",
      "Name           False\n",
      "Sex            False\n",
      "Age             True\n",
      "SibSp          False\n",
      "Parch          False\n",
      "Ticket         False\n",
      "Fare           False\n",
      "Cabin           True\n",
      "Embarked        True\n",
      "dtype: bool \n",
      " ________________________________\n",
      "\n"
     ]
    }
   ],
   "source": [
    "# load modules\n",
    "import numpy as np\n",
    "import matplotlib.pyplot as plt\n",
    "import seaborn as sns\n",
    "import pandas as pd\n",
    "\n",
    "%matplotlib inline \n",
    "\n",
    "#load data \n",
    "df_train = pd.read_csv('train.csv')\n",
    "\n",
    "# methods to see df and get some info\n",
    "print ('Shape: \\n', df_train.shape,'\\n')\n",
    "print ('The Dataframe... \\n', df_train.head(), '\\n ________________________________\\n')\n",
    "print ('The columns types... \\n', df_train.dtypes, '\\n ________________________________\\n')\n",
    "print ('Some statistics: \\n', df_train.describe(), '\\n ________________________________\\n')\n",
    "print ('Where are the null values: ',df_train.isnull().any(), '\\n ________________________________\\n')\n"
   ]
  },
  {
   "cell_type": "markdown",
   "metadata": {},
   "source": [
    "There are 11 features, we can try to know how many different values have each of the features..(binary, categorical, conitnuous)"
   ]
  },
  {
   "cell_type": "code",
   "execution_count": 55,
   "metadata": {},
   "outputs": [
    {
     "name": "stdout",
     "output_type": "stream",
     "text": [
      "Values of Survived:  [0 1] \n",
      " ________________________________\n",
      "\n",
      "Values of PClass:  [3 1 2] \n",
      " ________________________________\n",
      "\n",
      "Values of Age:  [0.83, 2.0, 3.0, 4.0, 5.0, 7.0, 8.0, 11.0, 14.0, 15.0, 16.0, 17.0, 18.0, 19.0, 20.0, 21.0, 22.0, 23.0, 24.0, 25.0, 26.0, 27.0, 28.0, 28.5, 29.0, 30.0, 31.0, 32.0, 33.0, 34.0, 35.0, 38.0, nan, 0.42, 0.67, 0.75, 0.92, 1.0, 6.0, 9.0, 10.0, 12.0, 13.0, 14.5, 20.5, 23.5, 24.5, 30.5, 32.5, 34.5, 36.0, 36.5, 37.0, 39.0, 40.0, 40.5, 41.0, 42.0, 43.0, 44.0, 45.0, 45.5, 46.0, 47.0, 48.0, 49.0, 50.0, 51.0, 52.0, 53.0, 54.0, 55.0, 55.5, 56.0, 57.0, 58.0, 59.0, 60.0, 61.0, 62.0, 63.0, 64.0, 65.0, 66.0, 70.0, 70.5, 71.0, 74.0, 80.0] \n",
      " ________________________________\n",
      "\n",
      "Values of Sex:  ['male' 'female'] \n",
      " ________________________________\n",
      "\n",
      "Values of SibSp:  [0, 1, 2, 3, 4, 5, 8] \n",
      " ________________________________\n",
      "\n",
      "Values of Parch:  [0 1 2 5 3 4 6] \n",
      " ________________________________\n",
      "\n",
      "Values of Fare:  [0.0, 4.0125, 5.0, 6.2375, 6.4375, 6.45, 6.4958, 6.75, 6.8583, 6.95, 6.975, 7.0458, 7.05, 7.0542, 7.125, 7.1417, 7.225, 7.2292, 7.25, 7.3125, 7.4958, 7.5208, 7.55, 7.6292, 7.65, 7.725, 7.7292, 7.7333, 7.7375, 7.7417, 7.75, 7.775, 7.7875, 7.7958, 7.8, 7.8292, 7.8542, 7.875, 7.8792, 7.8875, 7.8958, 7.925, 8.0292, 8.05, 8.1125, 8.1375, 8.1583, 8.3, 8.3625, 8.4042, 8.4333, 8.4583, 8.5167, 8.6542, 8.6625, 8.6833, 8.7125, 8.85, 9.0, 9.2167, 9.225, 9.35, 9.475, 9.4833, 9.5, 9.5875, 9.825, 9.8375, 9.8417, 9.8458, 10.1708, 10.4625, 10.5, 10.5167, 11.1333, 11.2417, 11.5, 12.0, 12.275, 12.2875, 12.35, 12.475, 12.525, 12.65, 12.875, 13.0, 13.4167, 13.5, 13.7917, 13.8583, 13.8625, 14.0, 14.1083, 14.4, 14.4542, 14.4583, 14.5, 15.0, 15.0458, 15.05, 15.1, 15.2458, 15.5, 15.55, 15.7417, 15.75, 15.85, 15.9, 16.0, 16.1, 16.7, 17.4, 17.8, 18.0, 18.75, 18.7875, 19.2583, 19.5, 19.9667, 20.2125, 20.25, 20.525, 20.575, 21.0, 21.075, 21.6792, 22.025, 22.3583, 22.525, 23.0, 23.25, 23.45, 24.0, 24.15, 25.4667, 25.5875, 25.925, 25.9292, 26.0, 26.25, 26.2833, 26.2875, 26.3875, 26.55, 27.0, 27.7208, 27.75, 27.9, 28.5, 28.7125, 29.0, 29.125, 29.7, 30.0, 30.0708, 30.5, 30.6958, 31.0, 31.275, 31.3875, 32.3208, 32.5, 33.0, 33.5, 34.0208, 34.375, 34.6542, 35.0, 35.5, 36.75, 37.0042, 38.5, 39.0, 39.4, 39.6, 39.6875, 40.125, 41.5792, 42.4, 46.9, 47.1, 49.5, 49.5042, 50.0, 50.4958, 51.4792, 51.8625, 52.0, 52.5542, 53.1, 55.0, 55.4417, 55.9, 56.4958, 56.9292, 57.0, 57.9792, 59.4, 61.175, 61.3792, 61.9792, 63.3583, 65.0, 66.6, 69.3, 69.55, 71.0, 71.2833, 73.5, 75.25, 76.2917, 76.7292, 77.2875, 77.9583, 78.2667, 78.85, 79.2, 79.65, 80.0, 81.8583, 82.1708, 83.1583, 83.475, 86.5, 89.1042, 90.0, 91.0792, 93.5, 106.425, 108.9, 110.8833, 113.275, 120.0, 133.65, 134.5, 135.6333, 146.5208, 151.55, 153.4625, 164.8667, 211.3375, 211.5, 221.7792, 227.525, 247.5208, 262.375, 263.0, 512.3292] \n",
      " ________________________________\n",
      "\n",
      "Values of Cabin:  [nan 'C85' 'C123' 'E46' 'G6' 'C103' 'D56' 'A6' 'C23 C25 C27' 'B78' 'D33'\n",
      " 'B30' 'C52' 'B28' 'C83' 'F33' 'F G73' 'E31' 'A5' 'D10 D12' 'D26' 'C110'\n",
      " 'B58 B60' 'E101' 'F E69' 'D47' 'B86' 'F2' 'C2' 'E33' 'B19' 'A7' 'C49'\n",
      " 'F4' 'A32' 'B4' 'B80' 'A31' 'D36' 'D15' 'C93' 'C78' 'D35' 'C87' 'B77'\n",
      " 'E67' 'B94' 'C125' 'C99' 'C118' 'D7' 'A19' 'B49' 'D' 'C22 C26' 'C106'\n",
      " 'C65' 'E36' 'C54' 'B57 B59 B63 B66' 'C7' 'E34' 'C32' 'B18' 'C124' 'C91'\n",
      " 'E40' 'T' 'C128' 'D37' 'B35' 'E50' 'C82' 'B96 B98' 'E10' 'E44' 'A34'\n",
      " 'C104' 'C111' 'C92' 'E38' 'D21' 'E12' 'E63' 'A14' 'B37' 'C30' 'D20' 'B79'\n",
      " 'E25' 'D46' 'B73' 'C95' 'B38' 'B39' 'B22' 'C86' 'C70' 'A16' 'C101' 'C68'\n",
      " 'A10' 'E68' 'B41' 'A20' 'D19' 'D50' 'D9' 'A23' 'B50' 'A26' 'D48' 'E58'\n",
      " 'C126' 'B71' 'B51 B53 B55' 'D49' 'B5' 'B20' 'F G63' 'C62 C64' 'E24' 'C90'\n",
      " 'C45' 'E8' 'B101' 'D45' 'C46' 'D30' 'E121' 'D11' 'E77' 'F38' 'B3' 'D6'\n",
      " 'B82 B84' 'D17' 'A36' 'B102' 'B69' 'E49' 'C47' 'D28' 'E17' 'A24' 'C50'\n",
      " 'B42' 'C148'] \n",
      " ________________________________\n",
      "\n",
      "Values of Embarked:  ['S' 'C' 'Q' nan] \n",
      " ________________________________\n",
      "\n"
     ]
    }
   ],
   "source": [
    "print ('Values of Survived: ', df_train.Survived.unique(), '\\n ________________________________\\n')\n",
    "print ('Values of PClass: ', df_train.Pclass.unique(), '\\n ________________________________\\n')\n",
    "print ('Values of Age: ', sorted(df_train.Age.unique()), '\\n ________________________________\\n')\n",
    "print ('Values of Sex: ', df_train.Sex.unique(), '\\n ________________________________\\n')\n",
    "print ('Values of SibSp: ', sorted(df_train.SibSp.unique()), '\\n ________________________________\\n')\n",
    "print ('Values of Parch: ', df_train.Parch.unique(), '\\n ________________________________\\n')\n",
    "#print ('Values of Ticket: ', df_train.Ticket.unique())\n",
    "print ('Values of Fare: ', sorted(df_train.Fare.unique()), '\\n ________________________________\\n')\n",
    "print ('Values of Cabin: ', df_train.Cabin.unique(), '\\n ________________________________\\n')\n",
    "print ('Values of Embarked: ', df_train.Embarked.unique(), '\\n ________________________________\\n')"
   ]
  },
  {
   "cell_type": "markdown",
   "metadata": {},
   "source": [
    "## what we have?\n",
    "1. 12 columns: PassengerId + 11 features\n",
    "    1. **Survived**: int64, [0-1] (binary), no Null values, the mean indicates the % of survival (in the df_train is 38%). Comparing this with the survival rate of the entire data ( 1-1502/2224 = 0.32) indicates that **train_df is not well balanced (around 6% more of survival rate than the real one)**\n",
    "    2. **PClass**: int64, [1,2,3], no Null Values. It indicates the ticket class\n",
    "    3. **Age**: float64, [0:42 to 80, continuos], **with nan values**, under 1 the fraction is real, If the **age is estimated, is it in the form of xx.5** (info from Kaggle)\n",
    "    4. **Sex**: object, ['male','female'], no Null Values, ¿shouldn't we pass it to categorical?\n",
    "    5. **SibSp**: int64, [0, 1,2,3,4,5,8], **I have doubts with this** because in the Kaggle doumentation: The dataset defines family relations in this way... Sibling = brother, sister, stepbrother, stepsister / Spouse = husband, wife (mistresses and fiancés were ignored). **So, does it means number of people related? (through sibling..)**\n",
    "    6. **Parch**: int64, [0, 1, 2, 3, 4, 5, 6], this is direct relationship: The dataset defines family relations in this way... Parent = mother, father / Child = daughter, son, stepdaughter, stepson / Some children travelled only with a nanny, therefore parch=0 for them.\n",
    "    7. **Cabin**: object, letter indicating Deck (A, B, C, D, E) + number. There are NaNs!, **Letter A is for more luxury Deck??** And the numbers indicate location also? \n",
    "    8. **Ticket**: Ticket number, object, letters + numbers, no null data, without evident pattern\n",
    "    9. **Fare**: float64, [0 to 512.3292], no null data, Passenger fare,\n",
    "    10. **Name**: object, ¿string?, [Surname, Name (what is inside the () ?)]. Can we use this to relate people?\n",
    "    11. **Embarked**: object, ['S','C','Q',nan], with null values, can we use Ticket number to obtain Embarked null data?\n",
    "    \n",
    "    \n",
    "**NaNs or missing Values** --> Cabin, Age and Embarked"
   ]
  },
  {
   "cell_type": "markdown",
   "metadata": {},
   "source": [
    "# Let's do some basic pivot tables and see what we have"
   ]
  },
  {
   "cell_type": "code",
   "execution_count": 84,
   "metadata": {},
   "outputs": [],
   "source": [
    "# Passem 'Sex' to categorical\n",
    "df_train['Sex']=df_train['Sex'].astype('category')"
   ]
  },
  {
   "cell_type": "code",
   "execution_count": 100,
   "metadata": {},
   "outputs": [
    {
     "name": "stdout",
     "output_type": "stream",
     "text": [
      "                     Age        Fare     Parch     SibSp  Survived\n",
      "Pclass Sex                                                        \n",
      "1      female  34.611765  106.125798  0.457447  0.553191  0.968085\n",
      "       male    41.281386   67.226127  0.278689  0.311475  0.368852\n",
      "2      female  28.722973   21.970121  0.605263  0.486842  0.921053\n",
      "       male    30.740707   19.741782  0.222222  0.342593  0.157407\n",
      "3      female  21.750000   16.118810  0.798611  0.895833  0.500000\n",
      "       male    26.507589   12.661633  0.224784  0.498559  0.135447\n"
     ]
    }
   ],
   "source": [
    "table1 = pd.pivot_table(df_train, index=['Pclass','Sex'],values=['Age','Fare','Parch','SibSp','Survived'],aggfunc=np.mean)\n",
    "print(table1)"
   ]
  },
  {
   "cell_type": "markdown",
   "metadata": {},
   "source": [
    "Aquesta taula es molt interessant, i mostra com:\n",
    "1. Hi han diferencies notables de valors mitjans d'**edat, fare, survived en funcio sexe i pclass**.\n",
    "    1. Aixo ens pot servir per omplir missing values d'Edat --> podem agafar la mitjana que correspon a la Pclass i el sexe\n",
    "    2. Hi ha un gradient clar amb el fare\n",
    "2. Molt interessant la relacio entre **Pclass i Sexe amb Survived**"
   ]
  },
  {
   "cell_type": "markdown",
   "metadata": {},
   "source": [
    "¿Com podries afegir una columna amb el total d'individus a per cada classe?"
   ]
  },
  {
   "cell_type": "code",
   "execution_count": 103,
   "metadata": {},
   "outputs": [
    {
     "name": "stdout",
     "output_type": "stream",
     "text": [
      "Survived aqui son els que si i els que no: \n",
      "                Survived\n",
      "Pclass Sex             \n",
      "1      female        94\n",
      "       male         122\n",
      "2      female        76\n",
      "       male         108\n",
      "3      female       144\n",
      "       male         347\n"
     ]
    }
   ],
   "source": [
    "table1 = pd.pivot_table(df_train, index=['Pclass','Sex'],aggfunc=len, values='Survived')\n",
    "print('Survived aqui son els que si i els que no: \\n',table1)"
   ]
  },
  {
   "cell_type": "markdown",
   "metadata": {},
   "source": []
  },
  {
   "cell_type": "code",
   "execution_count": 109,
   "metadata": {},
   "outputs": [
    {
     "name": "stdout",
     "output_type": "stream",
     "text": [
      "                       Age                              Fare             \\\n",
      "Pclass                   1          2          3           1          2   \n",
      "Survived Sex                                                              \n",
      "0        female  25.666667  36.000000  23.818182  110.604167  18.250000   \n",
      "         male    44.581967  33.369048  27.255814   62.894910  19.488965   \n",
      "1        female  34.939024  28.080882  19.329787  105.978159  22.288989   \n",
      "         male    36.248000  16.022000  22.274211   74.637320  21.095100   \n",
      "\n",
      "                               Parch                     PassengerId  \\\n",
      "Pclass                   3         1         2         3           1   \n",
      "Survived Sex                                                           \n",
      "0        female  19.773093  1.333333  0.166667  1.097222  325.000000   \n",
      "         male    12.204469  0.259740  0.142857  0.213333  413.623377   \n",
      "1        female  12.464526  0.428571  0.642857  0.500000  473.967033   \n",
      "         male    15.579696  0.311111  0.647059  0.297872  527.777778   \n",
      "\n",
      "                                            SibSp                      \n",
      "Pclass                    2           3         1         2         3  \n",
      "Survived Sex                                                           \n",
      "0        female  423.500000  440.375000  0.666667  0.500000  1.291667  \n",
      "         male    454.010989  456.750000  0.272727  0.307692  0.523333  \n",
      "1        female  444.785714  359.083333  0.549451  0.485714  0.500000  \n",
      "         male    415.588235  447.638298  0.377778  0.529412  0.340426  \n"
     ]
    }
   ],
   "source": [
    "table1 = pd.pivot_table(df_train, index=['Survived','Sex'],columns='Pclass',aggfunc=np.mean)\n",
    "print(table1)"
   ]
  },
  {
   "cell_type": "markdown",
   "metadata": {},
   "source": []
  },
  {
   "cell_type": "code",
   "execution_count": null,
   "metadata": {},
   "outputs": [],
   "source": []
  }
 ],
 "metadata": {
  "kernelspec": {
   "display_name": "Python 3",
   "language": "python",
   "name": "python3"
  },
  "language_info": {
   "codemirror_mode": {
    "name": "ipython",
    "version": 3
   },
   "file_extension": ".py",
   "mimetype": "text/x-python",
   "name": "python",
   "nbconvert_exporter": "python",
   "pygments_lexer": "ipython3",
   "version": "3.7.1"
  }
 },
 "nbformat": 4,
 "nbformat_minor": 2
}
