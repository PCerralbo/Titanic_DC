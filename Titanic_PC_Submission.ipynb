{
 "cells": [
  {
   "cell_type": "code",
   "execution_count": 8,
   "metadata": {},
   "outputs": [],
   "source": [
    "# load modules\n",
    "import numpy as np\n",
    "import matplotlib.pyplot as plt\n",
    "import seaborn as sns\n",
    "import pandas as pd\n",
    "\n",
    "%matplotlib inline \n",
    "\n",
    "#load data \n",
    "df_train = pd.read_csv('train.csv')\n",
    "df_test = pd.read_csv('test.csv')"
   ]
  },
  {
   "cell_type": "markdown",
   "metadata": {},
   "source": [
    "There are 11 features, we can try to know how many different values have each of the features..(binary, categorical, conitnuous)"
   ]
  },
  {
   "cell_type": "markdown",
   "metadata": {},
   "source": [
    "# Mirem correlacions en plan bestia, viam que hi veiem a les dades brutes"
   ]
  },
  {
   "cell_type": "markdown",
   "metadata": {},
   "source": [
    "hombreeeee!, ja es veuen un parell de coses interessants: **Survived esta directament correlacionat amb Fare (mes fare, mes survived) i inversament amb Pclass (pclas 1, mes survival)**"
   ]
  },
  {
   "cell_type": "markdown",
   "metadata": {},
   "source": [
    "# Let's do some basic pivot tables and see what we have"
   ]
  },
  {
   "cell_type": "markdown",
   "metadata": {},
   "source": [
    "Destriem Deck i numero de la cabina"
   ]
  },
  {
   "cell_type": "code",
   "execution_count": 9,
   "metadata": {},
   "outputs": [
    {
     "name": "stderr",
     "output_type": "stream",
     "text": [
      "C:\\Users\\Pablo\\Anaconda3\\lib\\site-packages\\ipykernel_launcher.py:4: SettingWithCopyWarning: \n",
      "A value is trying to be set on a copy of a slice from a DataFrame\n",
      "\n",
      "See the caveats in the documentation: http://pandas.pydata.org/pandas-docs/stable/indexing.html#indexing-view-versus-copy\n",
      "  after removing the cwd from sys.path.\n",
      "C:\\Users\\Pablo\\Anaconda3\\lib\\site-packages\\ipykernel_launcher.py:8: SettingWithCopyWarning: \n",
      "A value is trying to be set on a copy of a slice from a DataFrame\n",
      "\n",
      "See the caveats in the documentation: http://pandas.pydata.org/pandas-docs/stable/indexing.html#indexing-view-versus-copy\n",
      "  \n"
     ]
    }
   ],
   "source": [
    "# Ara podem aplicar el slice al df_train original i reomplir els NaNs del Deck amb X\n",
    "df_train[\"Deck\"] = df_train[\"Cabin\"].str.slice(0,1)\n",
    "df_train[\"Number\"] = df_train[\"Cabin\"].str.slice(1,4).str.extract('([0-9]+)').astype('float')\n",
    "df_train['Deck'][df_train['Deck'].isnull()]='X'\n",
    "\n",
    "df_test[\"Deck\"] = df_test[\"Cabin\"].str.slice(0,1)\n",
    "df_test[\"Number\"] = df_test[\"Cabin\"].str.slice(1,4).str.extract('([0-9]+)').astype('float')\n",
    "df_test['Deck'][df_test['Deck'].isnull()]='X'"
   ]
  },
  {
   "cell_type": "markdown",
   "metadata": {},
   "source": [
    "### Provem un hot-encoding per obtenir una taula amb 1 i 0s per cada columna de Desk\n",
    "Haurem de fer una altra per si es home-dona, una altra per P-Class i edat? (abans hem de categoritzar-la)\n",
    "info de: https://towardsdatascience.com/smarter-ways-to-encode-categorical-data-for-machine-learning-part-1-of-3-6dca2f71b159\n"
   ]
  },
  {
   "cell_type": "code",
   "execution_count": 10,
   "metadata": {},
   "outputs": [],
   "source": [
    "#!pip install category_encoders\n",
    "from numpy import array\n",
    "from sklearn.preprocessing import LabelEncoder\n",
    "from sklearn.preprocessing import OneHotEncoder"
   ]
  },
  {
   "cell_type": "code",
   "execution_count": 11,
   "metadata": {},
   "outputs": [],
   "source": [
    "# funcio hot encoding. Es tracta d'una funcio que agafa una variable categorica (passada a array) i crea un array on cada categoria es una columna amb 0 o 1\n",
    "def hot_encode_PC(value_array):\n",
    "    \"\"\"Utility function convert variable to columns with 0 and 1, after you have to pass it manually de column names\n",
    "    \"\"\"\n",
    "    label_encoder = LabelEncoder()\n",
    "    integer_encoded = label_encoder.fit_transform(values)\n",
    "    print(integer_encoded)\n",
    "    # binary encode\n",
    "    onehot_encoder = OneHotEncoder(sparse=False)\n",
    "    integer_encoded = integer_encoded.reshape(len(integer_encoded), 1)\n",
    "    onehot_encoded = onehot_encoder.fit_transform(integer_encoded)\n",
    "    return onehot_encoded"
   ]
  },
  {
   "cell_type": "markdown",
   "metadata": {},
   "source": [
    "La Deck T es un error, no existeix, nomes hi ha un passatger i dificulat analisi posterior perque al test no n'hi han. Per "
   ]
  },
  {
   "cell_type": "code",
   "execution_count": 13,
   "metadata": {},
   "outputs": [
    {
     "name": "stdout",
     "output_type": "stream",
     "text": [
      "['X' 'C' 'X' 'C' 'X' 'X' 'E' 'X' 'X' 'X' 'G' 'C' 'X' 'X' 'X' 'X' 'X' 'X'\n",
      " 'X' 'X' 'X' 'D' 'X' 'A' 'X' 'X' 'X' 'C' 'X' 'X' 'X' 'B' 'X' 'X' 'X' 'X'\n",
      " 'X' 'X' 'X' 'X' 'X' 'X' 'X' 'X' 'X' 'X' 'X' 'X' 'X' 'X' 'X' 'X' 'D' 'X'\n",
      " 'B' 'C' 'X' 'X' 'X' 'X' 'X' 'B' 'C' 'X' 'X' 'X' 'F' 'X' 'X' 'X' 'X' 'X'\n",
      " 'X' 'X' 'X' 'F' 'X' 'X' 'X' 'X' 'X' 'X' 'X' 'X' 'X' 'X' 'X' 'X' 'C' 'X'\n",
      " 'X' 'X' 'E' 'X' 'X' 'X' 'A' 'D' 'X' 'X' 'X' 'X' 'D' 'X' 'X' 'X' 'X' 'X'\n",
      " 'X' 'X' 'C' 'X' 'X' 'X' 'X' 'X' 'X' 'X' 'B' 'X' 'X' 'X' 'X' 'E' 'D' 'X'\n",
      " 'X' 'X' 'F' 'X' 'X' 'X' 'X' 'X' 'X' 'X' 'D' 'C' 'X' 'B' 'X' 'X' 'X' 'X'\n",
      " 'X' 'X' 'X' 'X' 'F' 'X' 'X' 'C' 'X' 'X' 'X' 'X' 'X' 'X' 'X' 'X' 'X' 'X'\n",
      " 'X' 'X' 'X' 'X' 'E' 'X' 'X' 'X' 'B' 'X' 'X' 'X' 'A' 'X' 'X' 'C' 'X' 'X'\n",
      " 'X' 'X' 'X' 'F' 'X' 'A' 'X' 'X' 'X' 'X' 'X' 'X' 'X' 'F' 'B' 'B' 'X' 'X'\n",
      " 'X' 'X' 'X' 'X' 'X' 'X' 'X' 'G' 'X' 'X' 'X' 'A' 'X' 'X' 'X' 'X' 'X' 'D'\n",
      " 'X' 'X' 'D' 'X' 'X' 'X' 'X' 'X' 'C' 'X' 'X' 'X' 'X' 'X' 'C' 'X' 'X' 'X'\n",
      " 'X' 'X' 'X' 'X' 'X' 'X' 'X' 'X' 'X' 'X' 'X' 'C' 'X' 'X' 'D' 'X' 'X' 'G'\n",
      " 'C' 'X' 'X' 'X' 'X' 'B' 'X' 'X' 'X' 'X' 'E' 'B' 'X' 'X' 'X' 'X' 'C' 'C'\n",
      " 'X' 'X' 'X' 'C' 'X' 'D' 'X' 'X' 'X' 'X' 'X' 'X' 'X' 'X' 'A' 'X' 'X' 'X'\n",
      " 'X' 'X' 'X' 'B' 'D' 'X' 'X' 'X' 'X' 'C' 'C' 'B' 'X' 'X' 'X' 'E' 'X' 'C'\n",
      " 'X' 'C' 'X' 'E' 'C' 'B' 'X' 'X' 'X' 'X' 'X' 'X' 'C' 'E' 'X' 'X' 'X' 'X'\n",
      " 'X' 'C' 'X' 'D' 'X' 'B' 'X' 'C' 'C' 'X' 'X' 'X' 'C' 'E' 'X' 'T' 'F' 'C'\n",
      " 'X' 'X' 'X' 'F' 'X' 'X' 'X' 'X' 'X' 'C' 'X' 'X' 'X' 'X' 'E' 'X' 'X' 'X'\n",
      " 'X' 'X' 'X' 'X' 'X' 'X' 'D' 'X' 'X' 'B' 'E' 'X' 'X' 'X' 'X' 'X' 'X' 'C'\n",
      " 'X' 'X' 'X' 'X' 'X' 'X' 'X' 'X' 'X' 'X' 'X' 'X' 'B' 'X' 'X' 'D' 'G' 'X'\n",
      " 'X' 'X' 'X' 'X' 'X' 'X' 'X' 'X' 'X' 'X' 'X' 'X' 'X' 'X' 'X' 'X' 'C' 'X'\n",
      " 'X' 'X' 'X' 'X' 'X' 'X' 'X' 'X' 'X' 'X' 'X' 'X' 'X' 'X' 'X' 'E' 'C' 'X'\n",
      " 'X' 'X' 'E' 'B' 'X' 'X' 'C' 'X' 'X' 'X' 'X' 'X' 'X' 'A' 'X' 'X' 'X' 'C'\n",
      " 'X' 'X' 'C' 'C' 'X' 'X' 'E' 'D' 'X' 'X' 'E' 'X' 'E' 'X' 'X' 'X' 'X' 'X'\n",
      " 'X' 'X' 'X' 'X' 'X' 'D' 'X' 'A' 'X' 'X' 'X' 'X' 'X' 'X' 'X' 'X' 'B' 'X'\n",
      " 'C' 'B' 'X' 'X' 'X' 'X' 'C' 'X' 'X' 'X' 'D' 'X' 'C' 'X' 'X' 'X' 'X' 'X'\n",
      " 'B' 'C' 'X' 'X' 'X' 'X' 'X' 'X' 'E' 'X' 'X' 'D' 'F' 'X' 'X' 'X' 'B' 'X'\n",
      " 'X' 'B' 'X' 'X' 'X' 'C' 'X' 'X' 'X' 'X' 'X' 'X' 'X' 'X' 'B' 'X' 'X' 'B'\n",
      " 'B' 'X' 'X' 'X' 'C' 'X' 'X' 'X' 'X' 'X' 'C' 'X' 'X' 'X' 'X' 'X' 'A' 'X'\n",
      " 'E' 'X' 'X' 'X' 'X' 'X' 'X' 'X' 'X' 'X' 'X' 'X' 'X' 'C' 'E' 'X' 'X' 'X'\n",
      " 'X' 'E' 'X' 'X' 'X' 'C' 'X' 'A' 'X' 'E' 'X' 'B' 'X' 'X' 'X' 'D' 'X' 'X'\n",
      " 'X' 'X' 'X' 'X' 'X' 'A' 'X' 'X' 'X' 'X' 'X' 'X' 'X' 'X' 'X' 'C' 'X' 'X'\n",
      " 'X' 'X' 'X' 'X' 'X' 'X' 'F' 'X' 'X' 'D' 'X' 'X' 'X' 'D' 'X' 'D' 'X' 'X'\n",
      " 'A' 'X' 'B' 'X' 'X' 'X' 'X' 'X' 'X' 'X' 'X' 'B' 'X' 'X' 'X' 'D' 'X' 'A'\n",
      " 'X' 'X' 'X' 'X' 'X' 'X' 'X' 'X' 'X' 'X' 'X' 'D' 'X' 'X' 'E' 'X' 'X' 'X'\n",
      " 'X' 'X' 'X' 'C' 'X' 'B' 'X' 'X' 'X' 'X' 'X' 'X' 'X' 'B' 'X' 'D' 'X' 'X'\n",
      " 'X' 'X' 'X' 'X' 'X' 'B' 'B' 'X' 'X' 'X' 'X' 'X' 'X' 'X' 'C' 'F' 'C' 'E'\n",
      " 'X' 'X' 'X' 'X' 'X' 'E' 'X' 'X' 'C' 'C' 'C' 'X' 'X' 'F' 'C' 'E' 'X' 'X'\n",
      " 'X' 'X' 'X' 'X' 'E' 'X' 'X' 'X' 'X' 'X' 'B' 'X' 'X' 'X' 'X' 'X' 'X' 'B'\n",
      " 'X' 'X' 'D' 'C' 'B' 'X' 'X' 'B' 'X' 'X' 'D' 'X' 'X' 'E' 'X' 'X' 'X' 'X'\n",
      " 'X' 'X' 'X' 'B' 'X' 'X' 'X' 'B' 'X' 'D' 'X' 'X' 'X' 'X' 'X' 'X' 'E' 'X'\n",
      " 'X' 'X' 'F' 'X' 'X' 'B' 'X' 'B' 'D' 'X' 'X' 'X' 'X' 'X' 'X' 'B' 'X' 'X'\n",
      " 'X' 'X' 'X' 'X' 'D' 'X' 'X' 'X' 'X' 'X' 'B' 'X' 'X' 'X' 'A' 'X' 'X' 'E'\n",
      " 'X' 'X' 'X' 'X' 'X' 'B' 'X' 'X' 'X' 'X' 'B' 'X' 'X' 'E' 'X' 'X' 'X' 'X'\n",
      " 'X' 'B' 'X' 'X' 'X' 'X' 'X' 'E' 'X' 'X' 'X' 'C' 'X' 'X' 'X' 'X' 'X' 'X'\n",
      " 'X' 'X' 'X' 'C' 'X' 'X' 'X' 'D' 'X' 'X' 'X' 'E' 'X' 'X' 'X' 'X' 'D' 'X'\n",
      " 'X' 'X' 'X' 'A' 'X' 'X' 'X' 'D' 'B' 'X' 'X' 'X' 'X' 'X' 'X' 'C' 'X' 'X'\n",
      " 'X' 'X' 'X' 'X' 'X' 'B' 'X' 'C' 'X']\n",
      "[8 2 8 2 8 8 4 8 8 8 6 2 8 8 8 8 8 8 8 8 8 3 8 0 8 8 8 2 8 8 8 1 8 8 8 8 8\n",
      " 8 8 8 8 8 8 8 8 8 8 8 8 8 8 8 3 8 1 2 8 8 8 8 8 1 2 8 8 8 5 8 8 8 8 8 8 8\n",
      " 8 5 8 8 8 8 8 8 8 8 8 8 8 8 2 8 8 8 4 8 8 8 0 3 8 8 8 8 3 8 8 8 8 8 8 8 2\n",
      " 8 8 8 8 8 8 8 1 8 8 8 8 4 3 8 8 8 5 8 8 8 8 8 8 8 3 2 8 1 8 8 8 8 8 8 8 8\n",
      " 5 8 8 2 8 8 8 8 8 8 8 8 8 8 8 8 8 8 4 8 8 8 1 8 8 8 0 8 8 2 8 8 8 8 8 5 8\n",
      " 0 8 8 8 8 8 8 8 5 1 1 8 8 8 8 8 8 8 8 8 6 8 8 8 0 8 8 8 8 8 3 8 8 3 8 8 8\n",
      " 8 8 2 8 8 8 8 8 2 8 8 8 8 8 8 8 8 8 8 8 8 8 8 2 8 8 3 8 8 6 2 8 8 8 8 1 8\n",
      " 8 8 8 4 1 8 8 8 8 2 2 8 8 8 2 8 3 8 8 8 8 8 8 8 8 0 8 8 8 8 8 8 1 3 8 8 8\n",
      " 8 2 2 1 8 8 8 4 8 2 8 2 8 4 2 1 8 8 8 8 8 8 2 4 8 8 8 8 8 2 8 3 8 1 8 2 2\n",
      " 8 8 8 2 4 8 7 5 2 8 8 8 5 8 8 8 8 8 2 8 8 8 8 4 8 8 8 8 8 8 8 8 8 3 8 8 1\n",
      " 4 8 8 8 8 8 8 2 8 8 8 8 8 8 8 8 8 8 8 8 1 8 8 3 6 8 8 8 8 8 8 8 8 8 8 8 8\n",
      " 8 8 8 8 8 2 8 8 8 8 8 8 8 8 8 8 8 8 8 8 8 8 4 2 8 8 8 4 1 8 8 2 8 8 8 8 8\n",
      " 8 0 8 8 8 2 8 8 2 2 8 8 4 3 8 8 4 8 4 8 8 8 8 8 8 8 8 8 8 3 8 0 8 8 8 8 8\n",
      " 8 8 8 1 8 2 1 8 8 8 8 2 8 8 8 3 8 2 8 8 8 8 8 1 2 8 8 8 8 8 8 4 8 8 3 5 8\n",
      " 8 8 1 8 8 1 8 8 8 2 8 8 8 8 8 8 8 8 1 8 8 1 1 8 8 8 2 8 8 8 8 8 2 8 8 8 8\n",
      " 8 0 8 4 8 8 8 8 8 8 8 8 8 8 8 8 2 4 8 8 8 8 4 8 8 8 2 8 0 8 4 8 1 8 8 8 3\n",
      " 8 8 8 8 8 8 8 0 8 8 8 8 8 8 8 8 8 2 8 8 8 8 8 8 8 8 5 8 8 3 8 8 8 3 8 3 8\n",
      " 8 0 8 1 8 8 8 8 8 8 8 8 1 8 8 8 3 8 0 8 8 8 8 8 8 8 8 8 8 8 3 8 8 4 8 8 8\n",
      " 8 8 8 2 8 1 8 8 8 8 8 8 8 1 8 3 8 8 8 8 8 8 8 1 1 8 8 8 8 8 8 8 2 5 2 4 8\n",
      " 8 8 8 8 4 8 8 2 2 2 8 8 5 2 4 8 8 8 8 8 8 4 8 8 8 8 8 1 8 8 8 8 8 8 1 8 8\n",
      " 3 2 1 8 8 1 8 8 3 8 8 4 8 8 8 8 8 8 8 1 8 8 8 1 8 3 8 8 8 8 8 8 4 8 8 8 5\n",
      " 8 8 1 8 1 3 8 8 8 8 8 8 1 8 8 8 8 8 8 3 8 8 8 8 8 1 8 8 8 0 8 8 4 8 8 8 8\n",
      " 8 1 8 8 8 8 1 8 8 4 8 8 8 8 8 1 8 8 8 8 8 4 8 8 8 2 8 8 8 8 8 8 8 8 8 2 8\n",
      " 8 8 3 8 8 8 4 8 8 8 8 3 8 8 8 8 0 8 8 8 3 1 8 8 8 8 8 8 2 8 8 8 8 8 8 8 1\n",
      " 8 2 8]\n"
     ]
    }
   ],
   "source": [
    "values = array(df_train['Deck'])\n",
    "print(values)\n",
    "onehot_encoded = hot_encode_PC(values)\n",
    "\n",
    "# ara el one hhot encode es A(0), B, C(2), D, E(4), F, G(6), T(7) i X(8)\n",
    "df_train['Deck_A']=onehot_encoded[:,0]\n",
    "df_train['Deck_B']=onehot_encoded[:,1]\n",
    "df_train['Deck_C']=onehot_encoded[:,2]\n",
    "df_train['Deck_D']=onehot_encoded[:,3]\n",
    "df_train['Deck_E']=onehot_encoded[:,4]\n",
    "df_train['Deck_F']=onehot_encoded[:,5]\n",
    "df_train['Deck_G']=onehot_encoded[:,6]\n",
    "df_train['Deck_X']=onehot_encoded[:,8]"
   ]
  },
  {
   "cell_type": "code",
   "execution_count": 14,
   "metadata": {},
   "outputs": [
    {
     "name": "stdout",
     "output_type": "stream",
     "text": [
      "['X' 'X' 'X' 'X' 'X' 'X' 'X' 'X' 'X' 'X' 'X' 'X' 'B' 'X' 'E' 'X' 'X' 'X'\n",
      " 'X' 'X' 'X' 'X' 'X' 'X' 'B' 'X' 'B' 'X' 'A' 'X' 'X' 'X' 'X' 'X' 'C' 'X'\n",
      " 'X' 'X' 'X' 'X' 'X' 'D' 'X' 'X' 'D' 'X' 'A' 'X' 'D' 'X' 'C' 'X' 'X' 'C'\n",
      " 'X' 'X' 'X' 'F' 'X' 'B' 'X' 'X' 'X' 'X' 'B' 'X' 'X' 'X' 'C' 'C' 'X' 'X'\n",
      " 'X' 'D' 'C' 'C' 'X' 'C' 'X' 'X' 'X' 'C' 'X' 'X' 'X' 'X' 'X' 'X' 'X' 'X'\n",
      " 'X' 'X' 'B' 'X' 'X' 'X' 'C' 'X' 'X' 'X' 'C' 'X' 'X' 'X' 'X' 'X' 'X' 'X'\n",
      " 'X' 'F' 'X' 'X' 'A' 'X' 'C' 'X' 'X' 'G' 'C' 'X' 'X' 'X' 'C' 'X' 'X' 'X'\n",
      " 'X' 'X' 'X' 'X' 'X' 'C' 'X' 'X' 'X' 'X' 'X' 'X' 'X' 'X' 'X' 'X' 'B' 'X'\n",
      " 'X' 'X' 'E' 'X' 'X' 'X' 'C' 'X' 'X' 'X' 'X' 'X' 'C' 'X' 'D' 'X' 'X' 'X'\n",
      " 'X' 'X' 'X' 'X' 'B' 'X' 'X' 'X' 'X' 'X' 'X' 'X' 'X' 'X' 'X' 'C' 'F' 'E'\n",
      " 'X' 'E' 'D' 'X' 'B' 'X' 'X' 'X' 'X' 'X' 'X' 'X' 'X' 'X' 'X' 'X' 'E' 'X'\n",
      " 'X' 'X' 'X' 'X' 'C' 'X' 'X' 'X' 'X' 'X' 'A' 'X' 'X' 'X' 'X' 'X' 'X' 'B'\n",
      " 'X' 'X' 'C' 'X' 'X' 'X' 'F' 'X' 'X' 'X' 'X' 'X' 'X' 'X' 'X' 'X' 'X' 'X'\n",
      " 'C' 'X' 'D' 'X' 'X' 'C' 'X' 'X' 'E' 'X' 'X' 'D' 'X' 'X' 'X' 'X' 'X' 'X'\n",
      " 'C' 'X' 'X' 'X' 'X' 'X' 'X' 'X' 'X' 'X' 'X' 'X' 'X' 'X' 'X' 'X' 'X' 'X'\n",
      " 'C' 'X' 'C' 'X' 'X' 'X' 'X' 'X' 'X' 'X' 'X' 'X' 'X' 'X' 'X' 'X' 'X' 'B'\n",
      " 'F' 'X' 'X' 'X' 'X' 'A' 'X' 'X' 'X' 'X' 'X' 'X' 'X' 'D' 'X' 'X' 'X' 'B'\n",
      " 'C' 'X' 'B' 'X' 'X' 'X' 'X' 'X' 'C' 'X' 'B' 'X' 'X' 'X' 'X' 'F' 'F' 'X'\n",
      " 'X' 'X' 'F' 'X' 'X' 'X' 'X' 'A' 'X' 'X' 'X' 'C' 'X' 'X' 'X' 'X' 'X' 'X'\n",
      " 'X' 'B' 'X' 'X' 'X' 'X' 'X' 'X' 'D' 'X' 'X' 'X' 'X' 'E' 'C' 'X' 'X' 'X'\n",
      " 'X' 'X' 'X' 'X' 'E' 'X' 'X' 'X' 'X' 'X' 'X' 'E' 'B' 'X' 'A' 'X' 'X' 'X'\n",
      " 'C' 'X' 'X' 'X' 'X' 'X' 'X' 'X' 'X' 'X' 'X' 'X' 'B' 'D' 'X' 'X' 'X' 'C'\n",
      " 'X' 'B' 'X' 'X' 'C' 'X' 'X' 'X' 'D' 'D' 'X' 'C' 'X' 'X' 'X' 'C' 'X' 'X'\n",
      " 'C' 'X' 'X' 'X']\n",
      "[7 7 7 7 7 7 7 7 7 7 7 7 1 7 4 7 7 7 7 7 7 7 7 7 1 7 1 7 0 7 7 7 7 7 2 7 7\n",
      " 7 7 7 7 3 7 7 3 7 0 7 3 7 2 7 7 2 7 7 7 5 7 1 7 7 7 7 1 7 7 7 2 2 7 7 7 3\n",
      " 2 2 7 2 7 7 7 2 7 7 7 7 7 7 7 7 7 7 1 7 7 7 2 7 7 7 2 7 7 7 7 7 7 7 7 5 7\n",
      " 7 0 7 2 7 7 6 2 7 7 7 2 7 7 7 7 7 7 7 7 2 7 7 7 7 7 7 7 7 7 7 1 7 7 7 4 7\n",
      " 7 7 2 7 7 7 7 7 2 7 3 7 7 7 7 7 7 7 1 7 7 7 7 7 7 7 7 7 7 2 5 4 7 4 3 7 1\n",
      " 7 7 7 7 7 7 7 7 7 7 7 4 7 7 7 7 7 2 7 7 7 7 7 0 7 7 7 7 7 7 1 7 7 2 7 7 7\n",
      " 5 7 7 7 7 7 7 7 7 7 7 7 2 7 3 7 7 2 7 7 4 7 7 3 7 7 7 7 7 7 2 7 7 7 7 7 7\n",
      " 7 7 7 7 7 7 7 7 7 7 7 2 7 2 7 7 7 7 7 7 7 7 7 7 7 7 7 7 1 5 7 7 7 7 0 7 7\n",
      " 7 7 7 7 7 3 7 7 7 1 2 7 1 7 7 7 7 7 2 7 1 7 7 7 7 5 5 7 7 7 5 7 7 7 7 0 7\n",
      " 7 7 2 7 7 7 7 7 7 7 1 7 7 7 7 7 7 3 7 7 7 7 4 2 7 7 7 7 7 7 7 4 7 7 7 7 7\n",
      " 7 4 1 7 0 7 7 7 2 7 7 7 7 7 7 7 7 7 7 7 1 3 7 7 7 2 7 1 7 7 2 7 7 7 3 3 7\n",
      " 2 7 7 7 2 7 7 2 7 7 7]\n"
     ]
    }
   ],
   "source": [
    "values = array(df_test['Deck'])\n",
    "print(values)\n",
    "onehot_encoded = hot_encode_PC(values)\n",
    "\n",
    "# ara el one hhot encode es A(0), B, C(2), D, E(4), F, G(6), T(7) i X(8)\n",
    "df_test['Deck_A']=onehot_encoded[:,0]\n",
    "df_test['Deck_B']=onehot_encoded[:,1]\n",
    "df_test['Deck_C']=onehot_encoded[:,2]\n",
    "df_test['Deck_D']=onehot_encoded[:,3]\n",
    "df_test['Deck_E']=onehot_encoded[:,4]\n",
    "df_test['Deck_F']=onehot_encoded[:,5]\n",
    "df_test['Deck_G']=onehot_encoded[:,6]\n",
    "df_test['Deck_X']=onehot_encoded[:,7]"
   ]
  },
  {
   "cell_type": "markdown",
   "metadata": {},
   "source": [
    "# La part de la Cabin i la Deck ja està feta.\n",
    "\n",
    "# El seguent punt seria categoritzar edat? \n",
    "Resulta que en aquella època eren molt etsrictes amb el tema de dones i nens primer. Com categoritzem edat?\n",
    "1. Trams de 4 en 4? (sortirien uns 20 grups)\n",
    "2. o directament establir grups: 0-2 (bebe), 2-10(infant), 10-16 (nen), 16-20 (jove), 20-60 (Adult), 60-100 (Vell) i veure si hi ha relacio amb supervivencia?"
   ]
  },
  {
   "cell_type": "markdown",
   "metadata": {},
   "source": [
    "#### Abans pero hem d'omplir les edats sense dades no?\n",
    "La Age te una rlacio important amb la Pclass i la SibSp"
   ]
  },
  {
   "cell_type": "code",
   "execution_count": 15,
   "metadata": {},
   "outputs": [
    {
     "name": "stderr",
     "output_type": "stream",
     "text": [
      "C:\\Users\\Pablo\\Anaconda3\\lib\\site-packages\\ipykernel_launcher.py:1: SettingWithCopyWarning: \n",
      "A value is trying to be set on a copy of a slice from a DataFrame\n",
      "\n",
      "See the caveats in the documentation: http://pandas.pydata.org/pandas-docs/stable/indexing.html#indexing-view-versus-copy\n",
      "  \"\"\"Entry point for launching an IPython kernel.\n",
      "C:\\Users\\Pablo\\Anaconda3\\lib\\site-packages\\ipykernel_launcher.py:3: SettingWithCopyWarning: \n",
      "A value is trying to be set on a copy of a slice from a DataFrame\n",
      "\n",
      "See the caveats in the documentation: http://pandas.pydata.org/pandas-docs/stable/indexing.html#indexing-view-versus-copy\n",
      "  This is separate from the ipykernel package so we can avoid doing imports until\n"
     ]
    }
   ],
   "source": [
    "df_train['Age'][df_train['Age'].isnull()] = df_train['Age'].mean()\n",
    "\n",
    "df_test['Age'][df_test['Age'].isnull()] = df_test['Age'].mean()"
   ]
  },
  {
   "cell_type": "code",
   "execution_count": 17,
   "metadata": {},
   "outputs": [],
   "source": [
    "# en aquest bloc definim una columna categoritzant les edats\n",
    "bins= [0,2,10,16,20,60,100]\n",
    "labels = ['bebe','infant','nen','jove','adult','vell']\n",
    "df_train['AgeGroup'] = pd.cut(df_train['Age'], bins=bins, labels=labels, right=False)\n",
    "df_test['AgeGroup'] = pd.cut(df_test['Age'], bins=bins, labels=labels, right=False)"
   ]
  },
  {
   "cell_type": "code",
   "execution_count": 18,
   "metadata": {},
   "outputs": [
    {
     "name": "stdout",
     "output_type": "stream",
     "text": [
      "['adult' 'adult' 'adult' 'adult' 'adult' 'adult' 'adult' 'infant' 'adult'\n",
      " 'nen' 'infant' 'adult' 'adult' 'adult' 'nen' 'adult' 'infant' 'adult'\n",
      " 'adult' 'adult' 'adult' 'adult' 'nen' 'adult' 'infant' 'adult' 'adult'\n",
      " 'jove' 'adult' 'adult' 'adult' 'adult' 'adult' 'vell' 'adult' 'adult'\n",
      " 'adult' 'adult' 'jove' 'nen' 'adult' 'adult' 'adult' 'infant' 'jove'\n",
      " 'adult' 'adult' 'adult' 'adult' 'jove' 'infant' 'adult' 'adult' 'adult'\n",
      " 'vell' 'adult' 'adult' 'adult' 'infant' 'nen' 'adult' 'adult' 'adult'\n",
      " 'infant' 'adult' 'adult' 'adult' 'jove' 'jove' 'adult' 'adult' 'jove'\n",
      " 'adult' 'adult' 'adult' 'adult' 'adult' 'adult' 'bebe' 'adult' 'adult'\n",
      " 'adult' 'adult' 'adult' 'jove' 'adult' 'jove' 'adult' 'adult' 'adult'\n",
      " 'adult' 'adult' 'adult' 'adult' 'adult' 'adult' 'vell' 'adult' 'adult'\n",
      " 'adult' 'adult' 'adult' 'adult' 'adult' 'adult' 'adult' 'adult' 'adult'\n",
      " 'adult' 'adult' 'adult' 'nen' 'adult' 'adult' 'jove' 'adult' 'vell'\n",
      " 'adult' 'adult' 'infant' 'adult' 'adult' 'adult' 'adult' 'adult' 'nen'\n",
      " 'adult' 'adult' 'adult' 'adult' 'adult' 'adult' 'adult' 'adult' 'adult'\n",
      " 'adult' 'jove' 'adult' 'jove' 'adult' 'adult' 'adult' 'adult' 'jove'\n",
      " 'jove' 'jove' 'adult' 'infant' 'adult' 'adult' 'adult' 'adult' 'adult'\n",
      " 'adult' 'adult' 'adult' 'jove' 'adult' 'adult' 'adult' 'adult' 'adult'\n",
      " 'adult' 'jove' 'bebe' 'infant' 'adult' 'adult' 'adult' 'adult' 'vell'\n",
      " 'infant' 'bebe' 'adult' 'adult' 'jove' 'adult' 'adult' 'adult' 'adult'\n",
      " 'adult' 'adult' 'infant' 'bebe' 'infant' 'adult' 'adult' 'adult' 'adult'\n",
      " 'adult' 'adult' 'jove' 'jove' 'infant' 'adult' 'adult' 'adult' 'adult'\n",
      " 'adult' 'adult' 'adult' 'adult' 'adult' 'adult' 'jove' 'infant' 'adult'\n",
      " 'adult' 'jove' 'adult' 'adult' 'adult' 'adult' 'adult' 'adult' 'adult'\n",
      " 'adult' 'adult' 'adult' 'adult' 'jove' 'adult' 'adult' 'adult' 'adult'\n",
      " 'adult' 'jove' 'adult' 'jove' 'adult' 'adult' 'adult' 'adult' 'infant'\n",
      " 'adult' 'adult' 'adult' 'infant' 'jove' 'adult' 'adult' 'adult' 'adult'\n",
      " 'adult' 'adult' 'adult' 'adult' 'adult' 'adult' 'adult' 'adult' 'adult'\n",
      " 'vell' 'adult' 'adult' 'adult' 'adult' 'adult' 'adult' 'adult' 'adult'\n",
      " 'infant' 'adult' 'adult' 'adult' 'adult' 'jove' 'adult' 'adult' 'adult'\n",
      " 'adult' 'adult' 'adult' 'adult' 'adult' 'vell' 'adult' 'adult' 'infant'\n",
      " 'adult' 'vell' 'adult' 'jove' 'jove' 'adult' 'adult' 'adult' 'adult'\n",
      " 'adult' 'adult' 'adult' 'jove' 'adult' 'adult' 'adult' 'adult' 'adult'\n",
      " 'infant' 'adult' 'adult' 'adult' 'adult' 'jove' 'adult' 'adult' 'bebe'\n",
      " 'adult' 'jove' 'adult' 'adult' 'adult' 'jove' 'adult' 'adult' 'adult'\n",
      " 'adult' 'adult' 'adult' 'adult' 'adult' 'adult' 'adult' 'adult' 'adult'\n",
      " 'adult' 'adult' 'vell' 'adult' 'adult' 'jove' 'adult' 'adult' 'adult'\n",
      " 'jove' 'adult' 'adult' 'adult' 'adult' 'adult' 'adult' 'infant' 'adult'\n",
      " 'adult' 'adult' 'adult' 'adult' 'adult' 'adult' 'infant' 'adult' 'adult'\n",
      " 'adult' 'nen' 'adult' 'adult' 'adult' 'adult' 'adult' 'adult' 'adult'\n",
      " 'adult' 'adult' 'adult' 'adult' 'adult' 'adult' 'vell' 'adult' 'adult'\n",
      " 'adult' 'adult' 'jove' 'jove' 'adult' 'infant' 'adult' 'adult' 'adult'\n",
      " 'adult' 'jove' 'adult' 'bebe' 'adult' 'adult' 'adult' 'jove' 'bebe'\n",
      " 'adult' 'adult' 'jove' 'adult' 'adult' 'adult' 'adult' 'adult' 'adult'\n",
      " 'adult' 'adult' 'adult' 'adult' 'adult' 'adult' 'adult' 'adult' 'adult'\n",
      " 'adult' 'adult' 'infant' 'adult' 'adult' 'adult' 'adult' 'adult' 'adult'\n",
      " 'adult' 'adult' 'adult' 'jove' 'adult' 'nen' 'adult' 'adult' 'adult'\n",
      " 'adult' 'jove' 'adult' 'adult' 'jove' 'adult' 'adult' 'adult' 'adult'\n",
      " 'adult' 'jove' 'adult' 'nen' 'adult' 'adult' 'vell' 'adult' 'adult'\n",
      " 'adult' 'adult' 'adult' 'adult' 'infant' 'nen' 'adult' 'infant' 'adult'\n",
      " 'adult' 'adult' 'adult' 'adult' 'adult' 'adult' 'vell' 'adult' 'adult'\n",
      " 'adult' 'adult' 'adult' 'adult' 'adult' 'adult' 'adult' 'adult' 'adult'\n",
      " 'adult' 'bebe' 'adult' 'adult' 'adult' 'adult' 'adult' 'adult' 'adult'\n",
      " 'adult' 'adult' 'infant' 'infant' 'adult' 'adult' 'vell' 'adult' 'adult'\n",
      " 'adult' 'adult' 'adult' 'infant' 'adult' 'adult' 'adult' 'vell' 'adult'\n",
      " 'adult' 'adult' 'adult' 'adult' 'adult' 'jove' 'adult' 'adult' 'adult'\n",
      " 'jove' 'jove' 'adult' 'adult' 'adult' 'adult' 'adult' 'adult' 'adult'\n",
      " 'adult' 'adult' 'adult' 'adult' 'adult' 'adult' 'adult' 'adult' 'adult'\n",
      " 'adult' 'adult' 'adult' 'adult' 'adult' 'adult' 'adult' 'adult' 'infant'\n",
      " 'adult' 'jove' 'adult' 'adult' 'infant' 'adult' 'adult' 'adult' 'adult'\n",
      " 'adult' 'infant' 'nen' 'adult' 'adult' 'vell' 'jove' 'adult' 'adult'\n",
      " 'infant' 'jove' 'adult' 'adult' 'adult' 'adult' 'vell' 'adult' 'adult'\n",
      " 'adult' 'adult' 'adult' 'adult' 'adult' 'adult' 'adult' 'adult' 'jove'\n",
      " 'adult' 'adult' 'adult' 'vell' 'adult' 'adult' 'adult' 'jove' 'jove'\n",
      " 'adult' 'adult' 'adult' 'adult' 'adult' 'adult' 'adult' 'adult' 'adult'\n",
      " 'jove' 'adult' 'vell' 'adult' 'adult' 'adult' 'adult' 'adult' 'adult'\n",
      " 'adult' 'adult' 'adult' 'adult' 'adult' 'adult' 'adult' 'adult' 'adult'\n",
      " 'adult' 'adult' 'adult' 'adult' 'adult' 'adult' 'adult' 'adult' 'adult'\n",
      " 'adult' 'adult' 'adult' 'adult' 'adult' 'adult' 'infant' 'adult' 'adult'\n",
      " 'adult' 'adult' 'adult' 'adult' 'vell' 'adult' 'adult' 'adult' 'adult'\n",
      " 'vell' 'adult' 'adult' 'adult' 'infant' 'adult' 'adult' 'adult' 'adult'\n",
      " 'adult' 'adult' 'adult' 'infant' 'adult' 'bebe' 'adult' 'jove' 'adult'\n",
      " 'adult' 'adult' 'adult' 'jove' 'adult' 'adult' 'jove' 'adult' 'adult'\n",
      " 'adult' 'adult' 'adult' 'adult' 'adult' 'adult' 'adult' 'adult' 'adult'\n",
      " 'adult' 'adult' 'adult' 'adult' 'adult' 'adult' 'vell' 'adult' 'adult'\n",
      " 'jove' 'adult' 'jove' 'adult' 'adult' 'adult' 'adult' 'adult' 'nen'\n",
      " 'vell' 'adult' 'nen' 'jove' 'jove' 'nen' 'adult' 'infant' 'adult' 'adult'\n",
      " 'vell' 'adult' 'adult' 'adult' 'adult' 'adult' 'jove' 'adult' 'jove'\n",
      " 'adult' 'adult' 'adult' 'adult' 'adult' 'adult' 'adult' 'adult' 'adult'\n",
      " 'adult' 'adult' 'adult' 'jove' 'adult' 'adult' 'adult' 'adult' 'infant'\n",
      " 'jove' 'adult' 'adult' 'adult' 'adult' 'adult' 'adult' 'adult' 'adult'\n",
      " 'adult' 'nen' 'adult' 'adult' 'adult' 'adult' 'adult' 'adult' 'adult'\n",
      " 'adult' 'adult' 'adult' 'adult' 'adult' 'adult' 'vell' 'jove' 'adult'\n",
      " 'jove' 'adult' 'infant' 'infant' 'adult' 'adult' 'adult' 'bebe' 'adult'\n",
      " 'jove' 'adult' 'adult' 'adult' 'adult' 'adult' 'adult' 'jove' 'adult'\n",
      " 'adult' 'adult' 'adult' 'adult' 'adult' 'adult' 'adult' 'adult' 'adult'\n",
      " 'jove' 'adult' 'infant' 'adult' 'adult' 'nen' 'jove' 'adult' 'adult'\n",
      " 'adult' 'adult' 'jove' 'infant' 'bebe' 'adult' 'adult' 'jove' 'adult'\n",
      " 'adult' 'adult' 'adult' 'adult' 'adult' 'adult' 'adult' 'adult' 'adult'\n",
      " 'nen' 'bebe' 'adult' 'adult' 'adult' 'jove' 'adult' 'adult' 'adult'\n",
      " 'adult' 'adult' 'infant' 'adult' 'adult' 'adult' 'adult' 'adult' 'nen'\n",
      " 'adult' 'adult' 'adult' 'adult' 'infant' 'adult' 'adult' 'bebe' 'adult'\n",
      " 'vell' 'nen' 'bebe' 'adult' 'adult' 'jove' 'adult' 'adult' 'adult'\n",
      " 'adult' 'adult' 'adult' 'jove' 'adult' 'adult' 'jove' 'adult' 'adult'\n",
      " 'adult' 'adult' 'adult' 'infant' 'vell' 'infant' 'jove' 'adult' 'jove'\n",
      " 'adult' 'adult' 'adult' 'adult' 'adult' 'adult' 'adult' 'adult' 'adult'\n",
      " 'adult' 'adult' 'adult' 'adult' 'infant' 'adult' 'adult' 'adult' 'adult'\n",
      " 'adult' 'nen' 'adult' 'jove' 'adult' 'adult' 'adult' 'adult' 'adult'\n",
      " 'adult' 'adult' 'adult' 'adult' 'jove' 'adult' 'adult' 'adult']\n",
      "[0 0 0 0 0 0 0 2 0 4 2 0 0 0 4 0 2 0 0 0 0 0 4 0 2 0 0 3 0 0 0 0 0 5 0 0 0\n",
      " 0 3 4 0 0 0 2 3 0 0 0 0 3 2 0 0 0 5 0 0 0 2 4 0 0 0 2 0 0 0 3 3 0 0 3 0 0\n",
      " 0 0 0 0 1 0 0 0 0 0 3 0 3 0 0 0 0 0 0 0 0 0 5 0 0 0 0 0 0 0 0 0 0 0 0 0 0\n",
      " 4 0 0 3 0 5 0 0 2 0 0 0 0 0 4 0 0 0 0 0 0 0 0 0 0 3 0 3 0 0 0 0 3 3 3 0 2\n",
      " 0 0 0 0 0 0 0 0 3 0 0 0 0 0 0 3 1 2 0 0 0 0 5 2 1 0 0 3 0 0 0 0 0 0 2 1 2\n",
      " 0 0 0 0 0 0 3 3 2 0 0 0 0 0 0 0 0 0 0 3 2 0 0 3 0 0 0 0 0 0 0 0 0 0 0 3 0\n",
      " 0 0 0 0 3 0 3 0 0 0 0 2 0 0 0 2 3 0 0 0 0 0 0 0 0 0 0 0 0 0 5 0 0 0 0 0 0\n",
      " 0 0 2 0 0 0 0 3 0 0 0 0 0 0 0 0 5 0 0 2 0 5 0 3 3 0 0 0 0 0 0 0 3 0 0 0 0\n",
      " 0 2 0 0 0 0 3 0 0 1 0 3 0 0 0 3 0 0 0 0 0 0 0 0 0 0 0 0 0 0 5 0 0 3 0 0 0\n",
      " 3 0 0 0 0 0 0 2 0 0 0 0 0 0 0 2 0 0 0 4 0 0 0 0 0 0 0 0 0 0 0 0 0 5 0 0 0\n",
      " 0 3 3 0 2 0 0 0 0 3 0 1 0 0 0 3 1 0 0 3 0 0 0 0 0 0 0 0 0 0 0 0 0 0 0 0 0\n",
      " 2 0 0 0 0 0 0 0 0 0 3 0 4 0 0 0 0 3 0 0 3 0 0 0 0 0 3 0 4 0 0 5 0 0 0 0 0\n",
      " 0 2 4 0 2 0 0 0 0 0 0 0 5 0 0 0 0 0 0 0 0 0 0 0 0 1 0 0 0 0 0 0 0 0 0 2 2\n",
      " 0 0 5 0 0 0 0 0 2 0 0 0 5 0 0 0 0 0 0 3 0 0 0 3 3 0 0 0 0 0 0 0 0 0 0 0 0\n",
      " 0 0 0 0 0 0 0 0 0 0 0 0 2 0 3 0 0 2 0 0 0 0 0 2 4 0 0 5 3 0 0 2 3 0 0 0 0\n",
      " 5 0 0 0 0 0 0 0 0 0 0 3 0 0 0 5 0 0 0 3 3 0 0 0 0 0 0 0 0 0 3 0 5 0 0 0 0\n",
      " 0 0 0 0 0 0 0 0 0 0 0 0 0 0 0 0 0 0 0 0 0 0 0 0 0 0 2 0 0 0 0 0 0 5 0 0 0\n",
      " 0 5 0 0 0 2 0 0 0 0 0 0 0 2 0 1 0 3 0 0 0 0 3 0 0 3 0 0 0 0 0 0 0 0 0 0 0\n",
      " 0 0 0 0 0 0 5 0 0 3 0 3 0 0 0 0 0 4 5 0 4 3 3 4 0 2 0 0 5 0 0 0 0 0 3 0 3\n",
      " 0 0 0 0 0 0 0 0 0 0 0 0 3 0 0 0 0 2 3 0 0 0 0 0 0 0 0 0 4 0 0 0 0 0 0 0 0\n",
      " 0 0 0 0 0 5 3 0 3 0 2 2 0 0 0 1 0 3 0 0 0 0 0 0 3 0 0 0 0 0 0 0 0 0 0 3 0\n",
      " 2 0 0 4 3 0 0 0 0 3 2 1 0 0 3 0 0 0 0 0 0 0 0 0 0 4 1 0 0 0 3 0 0 0 0 0 2\n",
      " 0 0 0 0 0 4 0 0 0 0 2 0 0 1 0 5 4 1 0 0 3 0 0 0 0 0 0 3 0 0 3 0 0 0 0 0 2\n",
      " 5 2 3 0 3 0 0 0 0 0 0 0 0 0 0 0 0 0 2 0 0 0 0 0 4 0 3 0 0 0 0 0 0 0 0 0 3\n",
      " 0 0 0]\n"
     ]
    }
   ],
   "source": [
    "# ara tornem a fer un hot encoding pels grups d'edats\n",
    "values = array(df_train['AgeGroup'])\n",
    "print(values)\n",
    "onehot_encoded = hot_encode_PC(values)\n",
    "\n",
    "df_train['adult']=onehot_encoded[:,0]\n",
    "df_train['bebe']=onehot_encoded[:,1]\n",
    "df_train['infant']=onehot_encoded[:,2]\n",
    "df_train['jove']=onehot_encoded[:,3]\n",
    "df_train['nen']=onehot_encoded[:,4]\n",
    "df_train['vell']=onehot_encoded[:,5]"
   ]
  },
  {
   "cell_type": "markdown",
   "metadata": {},
   "source": [
    "llegenda --> adult:0, bebe:1 , infant:2, jove=3, nen=4,  vell=5"
   ]
  },
  {
   "cell_type": "code",
   "execution_count": 19,
   "metadata": {},
   "outputs": [
    {
     "name": "stdout",
     "output_type": "stream",
     "text": [
      "['adult' 'adult' 'vell' 'adult' 'adult' 'nen' 'adult' 'adult' 'jove'\n",
      " 'adult' 'adult' 'adult' 'adult' 'vell' 'adult' 'adult' 'adult' 'adult'\n",
      " 'adult' 'adult' 'adult' 'infant' 'adult' 'adult' 'adult' 'adult' 'adult'\n",
      " 'adult' 'adult' 'adult' 'adult' 'adult' 'adult' 'adult' 'adult' 'jove'\n",
      " 'adult' 'adult' 'adult' 'adult' 'adult' 'adult' 'adult' 'adult' 'adult'\n",
      " 'adult' 'adult' 'adult' 'vell' 'adult' 'adult' 'adult' 'adult' 'adult'\n",
      " 'adult' 'nen' 'adult' 'adult' 'adult' 'adult' 'jove' 'adult' 'jove'\n",
      " 'adult' 'nen' 'adult' 'jove' 'adult' 'adult' 'vell' 'adult' 'adult'\n",
      " 'adult' 'adult' 'adult' 'adult' 'adult' 'adult' 'adult' 'adult' 'infant'\n",
      " 'vell' 'adult' 'adult' 'adult' 'adult' 'adult' 'jove' 'adult' 'infant'\n",
      " 'adult' 'adult' 'adult' 'adult' 'adult' 'adult' 'vell' 'adult' 'adult'\n",
      " 'adult' 'adult' 'adult' 'adult' 'adult' 'jove' 'adult' 'adult' 'adult'\n",
      " 'adult' 'jove' 'adult' 'adult' 'adult' 'jove' 'vell' 'jove' 'adult'\n",
      " 'bebe' 'adult' 'adult' 'nen' 'adult' 'adult' 'adult' 'adult' 'jove'\n",
      " 'adult' 'adult' 'adult' 'adult' 'adult' 'adult' 'adult' 'adult' 'adult'\n",
      " 'adult' 'adult' 'adult' 'adult' 'adult' 'nen' 'adult' 'vell' 'adult'\n",
      " 'adult' 'adult' 'adult' 'adult' 'adult' 'adult' 'adult' 'adult' 'vell'\n",
      " 'adult' 'nen' 'adult' 'adult' 'adult' 'adult' 'adult' 'adult' 'infant'\n",
      " 'adult' 'adult' 'adult' 'adult' 'adult' 'jove' 'adult' 'adult' 'adult'\n",
      " 'adult' 'adult' 'adult' 'adult' 'nen' 'adult' 'adult' 'adult' 'vell'\n",
      " 'adult' 'adult' 'jove' 'adult' 'adult' 'adult' 'adult' 'jove' 'adult'\n",
      " 'adult' 'adult' 'adult' 'nen' 'vell' 'infant' 'adult' 'infant' 'jove'\n",
      " 'adult' 'adult' 'adult' 'bebe' 'adult' 'infant' 'adult' 'adult' 'adult'\n",
      " 'adult' 'adult' 'adult' 'adult' 'adult' 'jove' 'vell' 'adult' 'adult'\n",
      " 'adult' 'adult' 'adult' 'adult' 'adult' 'adult' 'adult' 'adult' 'adult'\n",
      " 'adult' 'adult' 'adult' 'adult' 'adult' 'nen' 'adult' 'adult' 'adult'\n",
      " 'adult' 'adult' 'vell' 'adult' 'jove' 'adult' 'adult' 'adult' 'adult'\n",
      " 'adult' 'adult' 'adult' 'adult' 'adult' 'adult' 'adult' 'bebe' 'adult'\n",
      " 'adult' 'adult' 'adult' 'adult' 'adult' 'adult' 'jove' 'adult' 'adult'\n",
      " 'adult' 'adult' 'bebe' 'adult' 'adult' 'adult' 'adult' 'adult' 'jove'\n",
      " 'adult' 'adult' 'adult' 'adult' 'adult' 'adult' 'adult' 'adult' 'adult'\n",
      " 'adult' 'adult' 'bebe' 'adult' 'infant' 'infant' 'adult' 'adult' 'adult'\n",
      " 'adult' 'adult' 'adult' 'adult' 'adult' 'adult' 'adult' 'adult' 'bebe'\n",
      " 'adult' 'adult' 'adult' 'adult' 'adult' 'adult' 'adult' 'adult' 'vell'\n",
      " 'adult' 'bebe' 'adult' 'adult' 'jove' 'adult' 'adult' 'adult' 'adult'\n",
      " 'jove' 'adult' 'jove' 'adult' 'adult' 'adult' 'adult' 'adult' 'adult'\n",
      " 'adult' 'adult' 'nen' 'adult' 'adult' 'adult' 'adult' 'adult' 'adult'\n",
      " 'jove' 'adult' 'adult' 'adult' 'adult' 'adult' 'adult' 'jove' 'adult'\n",
      " 'adult' 'adult' 'adult' 'jove' 'adult' 'adult' 'adult' 'adult' 'adult'\n",
      " 'adult' 'jove' 'adult' 'bebe' 'adult' 'adult' 'adult' 'adult' 'adult'\n",
      " 'nen' 'adult' 'adult' 'adult' 'adult' 'adult' 'adult' 'adult' 'adult'\n",
      " 'adult' 'adult' 'adult' 'adult' 'adult' 'adult' 'adult' 'adult' 'adult'\n",
      " 'adult' 'infant' 'adult' 'adult' 'adult' 'jove' 'adult' 'adult' 'adult'\n",
      " 'adult' 'adult' 'infant' 'adult' 'adult' 'nen' 'adult' 'adult' 'jove'\n",
      " 'adult' 'adult' 'adult' 'adult' 'adult' 'adult' 'adult' 'jove' 'adult'\n",
      " 'adult' 'adult' 'adult' 'adult' 'infant' 'adult' 'adult' 'adult' 'adult'\n",
      " 'adult' 'adult' 'adult' 'adult']\n",
      "[0 0 5 0 0 4 0 0 3 0 0 0 0 5 0 0 0 0 0 0 0 2 0 0 0 0 0 0 0 0 0 0 0 0 0 3 0\n",
      " 0 0 0 0 0 0 0 0 0 0 0 5 0 0 0 0 0 0 4 0 0 0 0 3 0 3 0 4 0 3 0 0 5 0 0 0 0\n",
      " 0 0 0 0 0 0 2 5 0 0 0 0 0 3 0 2 0 0 0 0 0 0 5 0 0 0 0 0 0 0 3 0 0 0 0 3 0\n",
      " 0 0 3 5 3 0 1 0 0 4 0 0 0 0 3 0 0 0 0 0 0 0 0 0 0 0 0 0 0 4 0 5 0 0 0 0 0\n",
      " 0 0 0 0 5 0 4 0 0 0 0 0 0 2 0 0 0 0 0 3 0 0 0 0 0 0 0 4 0 0 0 5 0 0 3 0 0\n",
      " 0 0 3 0 0 0 0 4 5 2 0 2 3 0 0 0 1 0 2 0 0 0 0 0 0 0 0 3 5 0 0 0 0 0 0 0 0\n",
      " 0 0 0 0 0 0 0 0 4 0 0 0 0 0 5 0 3 0 0 0 0 0 0 0 0 0 0 0 1 0 0 0 0 0 0 0 3\n",
      " 0 0 0 0 1 0 0 0 0 0 3 0 0 0 0 0 0 0 0 0 0 0 1 0 2 2 0 0 0 0 0 0 0 0 0 0 0\n",
      " 1 0 0 0 0 0 0 0 0 5 0 1 0 0 3 0 0 0 0 3 0 3 0 0 0 0 0 0 0 0 4 0 0 0 0 0 0\n",
      " 3 0 0 0 0 0 0 3 0 0 0 0 3 0 0 0 0 0 0 3 0 1 0 0 0 0 0 4 0 0 0 0 0 0 0 0 0\n",
      " 0 0 0 0 0 0 0 0 0 2 0 0 0 3 0 0 0 0 0 2 0 0 4 0 0 3 0 0 0 0 0 0 0 3 0 0 0\n",
      " 0 0 2 0 0 0 0 0 0 0 0]\n"
     ]
    }
   ],
   "source": [
    "# ara tornem a fer un hot encoding pels grups d'edats\n",
    "values = array(df_test['AgeGroup'])\n",
    "print(values)\n",
    "onehot_encoded = hot_encode_PC(values)\n",
    "\n",
    "df_test['adult']=onehot_encoded[:,0]\n",
    "df_test['bebe']=onehot_encoded[:,1]\n",
    "df_test['infant']=onehot_encoded[:,2]\n",
    "df_test['jove']=onehot_encoded[:,3]\n",
    "df_test['nen']=onehot_encoded[:,4]\n",
    "df_test['vell']=onehot_encoded[:,5]"
   ]
  },
  {
   "cell_type": "markdown",
   "metadata": {},
   "source": [
    "# Ara faria el hot encoding pel Pclass, Sexe, fare, SibSp i Parch"
   ]
  },
  {
   "cell_type": "code",
   "execution_count": 20,
   "metadata": {},
   "outputs": [
    {
     "name": "stdout",
     "output_type": "stream",
     "text": [
      "['male' 'female' 'female' 'female' 'male' 'male' 'male' 'male' 'female'\n",
      " 'female' 'female' 'female' 'male' 'male' 'female' 'female' 'male' 'male'\n",
      " 'female' 'female' 'male' 'male' 'female' 'male' 'female' 'female' 'male'\n",
      " 'male' 'female' 'male' 'male' 'female' 'female' 'male' 'male' 'male'\n",
      " 'male' 'male' 'female' 'female' 'female' 'female' 'male' 'female'\n",
      " 'female' 'male' 'male' 'female' 'male' 'female' 'male' 'male' 'female'\n",
      " 'female' 'male' 'male' 'female' 'male' 'female' 'male' 'male' 'female'\n",
      " 'male' 'male' 'male' 'male' 'female' 'male' 'female' 'male' 'male'\n",
      " 'female' 'male' 'male' 'male' 'male' 'male' 'male' 'male' 'female' 'male'\n",
      " 'male' 'female' 'male' 'female' 'female' 'male' 'male' 'female' 'male'\n",
      " 'male' 'male' 'male' 'male' 'male' 'male' 'male' 'male' 'female' 'male'\n",
      " 'female' 'male' 'male' 'male' 'male' 'male' 'female' 'male' 'male'\n",
      " 'female' 'male' 'female' 'male' 'female' 'female' 'male' 'male' 'male'\n",
      " 'male' 'female' 'male' 'male' 'male' 'female' 'male' 'male' 'male' 'male'\n",
      " 'female' 'male' 'male' 'male' 'female' 'female' 'male' 'male' 'female'\n",
      " 'male' 'male' 'male' 'female' 'female' 'female' 'male' 'male' 'male'\n",
      " 'male' 'female' 'male' 'male' 'male' 'female' 'male' 'male' 'male' 'male'\n",
      " 'female' 'male' 'male' 'male' 'male' 'female' 'male' 'male' 'male' 'male'\n",
      " 'female' 'female' 'male' 'male' 'male' 'male' 'female' 'male' 'male'\n",
      " 'male' 'male' 'female' 'male' 'male' 'female' 'male' 'male' 'male'\n",
      " 'female' 'male' 'female' 'male' 'male' 'male' 'female' 'male' 'female'\n",
      " 'male' 'female' 'female' 'male' 'male' 'female' 'female' 'male' 'male'\n",
      " 'male' 'male' 'male' 'female' 'male' 'male' 'female' 'male' 'male'\n",
      " 'female' 'male' 'male' 'male' 'female' 'female' 'male' 'female' 'male'\n",
      " 'male' 'male' 'male' 'male' 'male' 'male' 'male' 'male' 'male' 'female'\n",
      " 'female' 'male' 'male' 'female' 'male' 'female' 'male' 'female' 'male'\n",
      " 'male' 'female' 'female' 'male' 'male' 'male' 'male' 'female' 'female'\n",
      " 'male' 'male' 'male' 'female' 'male' 'male' 'female' 'female' 'female'\n",
      " 'female' 'female' 'female' 'male' 'male' 'male' 'male' 'female' 'male'\n",
      " 'male' 'male' 'female' 'female' 'male' 'male' 'female' 'male' 'female'\n",
      " 'female' 'female' 'male' 'male' 'female' 'male' 'male' 'male' 'male'\n",
      " 'male' 'male' 'male' 'male' 'male' 'female' 'female' 'female' 'male'\n",
      " 'female' 'male' 'male' 'male' 'female' 'male' 'female' 'female' 'male'\n",
      " 'male' 'female' 'male' 'male' 'female' 'female' 'male' 'female' 'female'\n",
      " 'female' 'female' 'male' 'male' 'female' 'female' 'male' 'female'\n",
      " 'female' 'male' 'male' 'female' 'female' 'male' 'female' 'male' 'female'\n",
      " 'female' 'female' 'female' 'male' 'male' 'male' 'female' 'male' 'male'\n",
      " 'female' 'male' 'male' 'male' 'female' 'male' 'male' 'male' 'female'\n",
      " 'female' 'female' 'male' 'male' 'male' 'male' 'male' 'male' 'male' 'male'\n",
      " 'female' 'female' 'female' 'female' 'male' 'male' 'female' 'male' 'male'\n",
      " 'male' 'female' 'female' 'female' 'female' 'male' 'male' 'male' 'male'\n",
      " 'female' 'female' 'female' 'male' 'male' 'male' 'female' 'female' 'male'\n",
      " 'female' 'male' 'male' 'male' 'female' 'male' 'female' 'male' 'male'\n",
      " 'male' 'female' 'female' 'male' 'female' 'male' 'male' 'female' 'male'\n",
      " 'male' 'female' 'male' 'female' 'male' 'male' 'male' 'male' 'female'\n",
      " 'male' 'male' 'female' 'male' 'male' 'female' 'female' 'female' 'male'\n",
      " 'female' 'male' 'male' 'male' 'female' 'male' 'male' 'female' 'female'\n",
      " 'male' 'male' 'male' 'female' 'female' 'male' 'male' 'female' 'female'\n",
      " 'female' 'male' 'male' 'female' 'male' 'male' 'female' 'male' 'male'\n",
      " 'female' 'male' 'female' 'male' 'male' 'male' 'male' 'male' 'male' 'male'\n",
      " 'male' 'female' 'female' 'male' 'male' 'male' 'male' 'male' 'male' 'male'\n",
      " 'male' 'male' 'male' 'female' 'male' 'male' 'female' 'female' 'female'\n",
      " 'male' 'male' 'male' 'male' 'female' 'male' 'male' 'male' 'female' 'male'\n",
      " 'female' 'female' 'male' 'male' 'male' 'male' 'male' 'male' 'male' 'male'\n",
      " 'male' 'female' 'male' 'female' 'male' 'male' 'female' 'female' 'female'\n",
      " 'female' 'male' 'female' 'male' 'male' 'male' 'male' 'male' 'male'\n",
      " 'female' 'male' 'male' 'female' 'male' 'female' 'male' 'female' 'male'\n",
      " 'male' 'female' 'male' 'male' 'female' 'male' 'male' 'male' 'female'\n",
      " 'male' 'male' 'female' 'female' 'female' 'male' 'female' 'male' 'female'\n",
      " 'female' 'female' 'female' 'male' 'male' 'male' 'female' 'male' 'male'\n",
      " 'male' 'male' 'male' 'male' 'male' 'female' 'male' 'female' 'male'\n",
      " 'female' 'female' 'male' 'male' 'male' 'male' 'female' 'male' 'male'\n",
      " 'female' 'male' 'male' 'male' 'female' 'male' 'female' 'male' 'male'\n",
      " 'female' 'female' 'female' 'male' 'female' 'female' 'male' 'male' 'male'\n",
      " 'female' 'male' 'male' 'male' 'male' 'male' 'female' 'male' 'female'\n",
      " 'male' 'male' 'female' 'male' 'male' 'male' 'female' 'male' 'male' 'male'\n",
      " 'male' 'male' 'male' 'male' 'female' 'female' 'female' 'male' 'female'\n",
      " 'male' 'male' 'female' 'male' 'female' 'female' 'male' 'male' 'male'\n",
      " 'male' 'male' 'male' 'male' 'male' 'female' 'male' 'male' 'male' 'male'\n",
      " 'male' 'male' 'female' 'female' 'male' 'male' 'female' 'male' 'male'\n",
      " 'female' 'female' 'male' 'female' 'male' 'male' 'male' 'male' 'female'\n",
      " 'male' 'female' 'male' 'female' 'female' 'male' 'male' 'female' 'male'\n",
      " 'male' 'male' 'male' 'male' 'male' 'male' 'male' 'male' 'male' 'male'\n",
      " 'female' 'female' 'male' 'male' 'male' 'male' 'male' 'male' 'female'\n",
      " 'female' 'male' 'female' 'male' 'male' 'male' 'male' 'male' 'male' 'male'\n",
      " 'male' 'female' 'male' 'female' 'male' 'male' 'male' 'male' 'male'\n",
      " 'female' 'male' 'male' 'female' 'male' 'female' 'male' 'male' 'male'\n",
      " 'female' 'male' 'female' 'male' 'female' 'male' 'male' 'male' 'male'\n",
      " 'male' 'female' 'female' 'male' 'male' 'female' 'male' 'male' 'male'\n",
      " 'male' 'male' 'female' 'female' 'male' 'female' 'female' 'male' 'male'\n",
      " 'male' 'male' 'male' 'female' 'male' 'male' 'male' 'male' 'male' 'female'\n",
      " 'male' 'male' 'male' 'male' 'female' 'male' 'male' 'female' 'male' 'male'\n",
      " 'male' 'female' 'male' 'male' 'male' 'male' 'female' 'male' 'male' 'male'\n",
      " 'female' 'male' 'female' 'male' 'female' 'male' 'male' 'male' 'male'\n",
      " 'female' 'male' 'female' 'male' 'male' 'female' 'male' 'female' 'female'\n",
      " 'female' 'male' 'male' 'male' 'male' 'female' 'male' 'male' 'male' 'male'\n",
      " 'male' 'female' 'male' 'male' 'male' 'female' 'female' 'male' 'female'\n",
      " 'male' 'female' 'male' 'male' 'male' 'male' 'male' 'female' 'male'\n",
      " 'female' 'male' 'male' 'male' 'female' 'male' 'male' 'female' 'male'\n",
      " 'male' 'male' 'female' 'male' 'male' 'female' 'male' 'male' 'male' 'male'\n",
      " 'male' 'female' 'female' 'male' 'male' 'male' 'male' 'female' 'male'\n",
      " 'male' 'male' 'male' 'male' 'male' 'female' 'male' 'male' 'male' 'male'\n",
      " 'male' 'male' 'female' 'male' 'male' 'female' 'female' 'female' 'female'\n",
      " 'female' 'male' 'female' 'male' 'male' 'male' 'female' 'female' 'male'\n",
      " 'female' 'female' 'male' 'male' 'male' 'male' 'female' 'male' 'male'\n",
      " 'female' 'female' 'male' 'male' 'male' 'female' 'female' 'male' 'female'\n",
      " 'male' 'male' 'female' 'male' 'female' 'female' 'male' 'male']\n",
      "[1 0 0 0 1 1 1 1 0 0 0 0 1 1 0 0 1 1 0 0 1 1 0 1 0 0 1 1 0 1 1 0 0 1 1 1 1\n",
      " 1 0 0 0 0 1 0 0 1 1 0 1 0 1 1 0 0 1 1 0 1 0 1 1 0 1 1 1 1 0 1 0 1 1 0 1 1\n",
      " 1 1 1 1 1 0 1 1 0 1 0 0 1 1 0 1 1 1 1 1 1 1 1 1 0 1 0 1 1 1 1 1 0 1 1 0 1\n",
      " 0 1 0 0 1 1 1 1 0 1 1 1 0 1 1 1 1 0 1 1 1 0 0 1 1 0 1 1 1 0 0 0 1 1 1 1 0\n",
      " 1 1 1 0 1 1 1 1 0 1 1 1 1 0 1 1 1 1 0 0 1 1 1 1 0 1 1 1 1 0 1 1 0 1 1 1 0\n",
      " 1 0 1 1 1 0 1 0 1 0 0 1 1 0 0 1 1 1 1 1 0 1 1 0 1 1 0 1 1 1 0 0 1 0 1 1 1\n",
      " 1 1 1 1 1 1 1 0 0 1 1 0 1 0 1 0 1 1 0 0 1 1 1 1 0 0 1 1 1 0 1 1 0 0 0 0 0\n",
      " 0 1 1 1 1 0 1 1 1 0 0 1 1 0 1 0 0 0 1 1 0 1 1 1 1 1 1 1 1 1 0 0 0 1 0 1 1\n",
      " 1 0 1 0 0 1 1 0 1 1 0 0 1 0 0 0 0 1 1 0 0 1 0 0 1 1 0 0 1 0 1 0 0 0 0 1 1\n",
      " 1 0 1 1 0 1 1 1 0 1 1 1 0 0 0 1 1 1 1 1 1 1 1 0 0 0 0 1 1 0 1 1 1 0 0 0 0\n",
      " 1 1 1 1 0 0 0 1 1 1 0 0 1 0 1 1 1 0 1 0 1 1 1 0 0 1 0 1 1 0 1 1 0 1 0 1 1\n",
      " 1 1 0 1 1 0 1 1 0 0 0 1 0 1 1 1 0 1 1 0 0 1 1 1 0 0 1 1 0 0 0 1 1 0 1 1 0\n",
      " 1 1 0 1 0 1 1 1 1 1 1 1 1 0 0 1 1 1 1 1 1 1 1 1 1 0 1 1 0 0 0 1 1 1 1 0 1\n",
      " 1 1 0 1 0 0 1 1 1 1 1 1 1 1 1 0 1 0 1 1 0 0 0 0 1 0 1 1 1 1 1 1 0 1 1 0 1\n",
      " 0 1 0 1 1 0 1 1 0 1 1 1 0 1 1 0 0 0 1 0 1 0 0 0 0 1 1 1 0 1 1 1 1 1 1 1 0\n",
      " 1 0 1 0 0 1 1 1 1 0 1 1 0 1 1 1 0 1 0 1 1 0 0 0 1 0 0 1 1 1 0 1 1 1 1 1 0\n",
      " 1 0 1 1 0 1 1 1 0 1 1 1 1 1 1 1 0 0 0 1 0 1 1 0 1 0 0 1 1 1 1 1 1 1 1 0 1\n",
      " 1 1 1 1 1 0 0 1 1 0 1 1 0 0 1 0 1 1 1 1 0 1 0 1 0 0 1 1 0 1 1 1 1 1 1 1 1\n",
      " 1 1 1 0 0 1 1 1 1 1 1 0 0 1 0 1 1 1 1 1 1 1 1 0 1 0 1 1 1 1 1 0 1 1 0 1 0\n",
      " 1 1 1 0 1 0 1 0 1 1 1 1 1 0 0 1 1 0 1 1 1 1 1 0 0 1 0 0 1 1 1 1 1 0 1 1 1\n",
      " 1 1 0 1 1 1 1 0 1 1 0 1 1 1 0 1 1 1 1 0 1 1 1 0 1 0 1 0 1 1 1 1 0 1 0 1 1\n",
      " 0 1 0 0 0 1 1 1 1 0 1 1 1 1 1 0 1 1 1 0 0 1 0 1 0 1 1 1 1 1 0 1 0 1 1 1 0\n",
      " 1 1 0 1 1 1 0 1 1 0 1 1 1 1 1 0 0 1 1 1 1 0 1 1 1 1 1 1 0 1 1 1 1 1 1 0 1\n",
      " 1 0 0 0 0 0 1 0 1 1 1 0 0 1 0 0 1 1 1 1 0 1 1 0 0 1 1 1 0 0 1 0 1 1 0 1 0\n",
      " 0 1 1]\n"
     ]
    }
   ],
   "source": [
    "# ---------SEX---\n",
    "values = array(df_train['Sex'])\n",
    "print(values)\n",
    "onehot_encoded = hot_encode_PC(values)\n",
    "\n",
    "df_train['female']=onehot_encoded[:,0]\n",
    "df_train['male']=onehot_encoded[:,1]"
   ]
  },
  {
   "cell_type": "code",
   "execution_count": 21,
   "metadata": {},
   "outputs": [
    {
     "name": "stdout",
     "output_type": "stream",
     "text": [
      "['male' 'female' 'male' 'male' 'female' 'male' 'female' 'male' 'female'\n",
      " 'male' 'male' 'male' 'female' 'male' 'female' 'female' 'male' 'male'\n",
      " 'female' 'female' 'male' 'male' 'female' 'male' 'female' 'male' 'female'\n",
      " 'male' 'male' 'male' 'male' 'male' 'female' 'female' 'male' 'male'\n",
      " 'female' 'female' 'male' 'male' 'male' 'male' 'male' 'female' 'female'\n",
      " 'male' 'male' 'male' 'female' 'female' 'male' 'male' 'female' 'female'\n",
      " 'male' 'male' 'male' 'male' 'male' 'female' 'male' 'male' 'male' 'female'\n",
      " 'male' 'female' 'female' 'male' 'male' 'female' 'female' 'male' 'female'\n",
      " 'male' 'female' 'male' 'male' 'female' 'male' 'female' 'male' 'male'\n",
      " 'male' 'male' 'male' 'male' 'female' 'female' 'female' 'male' 'female'\n",
      " 'male' 'female' 'male' 'male' 'male' 'female' 'male' 'female' 'male'\n",
      " 'female' 'male' 'male' 'male' 'female' 'male' 'male' 'male' 'male' 'male'\n",
      " 'male' 'female' 'female' 'female' 'female' 'male' 'male' 'female' 'male'\n",
      " 'female' 'female' 'male' 'female' 'male' 'male' 'female' 'male' 'female'\n",
      " 'male' 'male' 'male' 'male' 'female' 'male' 'male' 'male' 'male' 'male'\n",
      " 'female' 'male' 'female' 'female' 'male' 'male' 'male' 'male' 'male'\n",
      " 'male' 'male' 'male' 'female' 'male' 'male' 'female' 'male' 'male'\n",
      " 'female' 'female' 'male' 'female' 'female' 'male' 'female' 'male' 'male'\n",
      " 'female' 'male' 'male' 'female' 'female' 'male' 'male' 'male' 'male'\n",
      " 'male' 'female' 'female' 'male' 'female' 'female' 'male' 'male' 'female'\n",
      " 'male' 'female' 'male' 'female' 'male' 'female' 'male' 'male' 'male'\n",
      " 'male' 'male' 'male' 'male' 'male' 'female' 'male' 'female' 'female'\n",
      " 'male' 'male' 'female' 'male' 'male' 'female' 'male' 'female' 'male'\n",
      " 'male' 'male' 'male' 'female' 'female' 'male' 'female' 'male' 'female'\n",
      " 'male' 'female' 'male' 'female' 'male' 'female' 'female' 'male' 'female'\n",
      " 'male' 'male' 'male' 'female' 'male' 'male' 'male' 'male' 'male' 'male'\n",
      " 'female' 'female' 'female' 'female' 'male' 'male' 'male' 'male' 'female'\n",
      " 'male' 'female' 'female' 'female' 'male' 'male' 'male' 'male' 'male'\n",
      " 'male' 'male' 'female' 'male' 'male' 'male' 'female' 'female' 'male'\n",
      " 'male' 'male' 'male' 'female' 'male' 'male' 'male' 'female' 'female'\n",
      " 'male' 'female' 'male' 'male' 'male' 'male' 'female' 'male' 'female'\n",
      " 'female' 'female' 'male' 'male' 'male' 'male' 'male' 'male' 'female'\n",
      " 'male' 'male' 'male' 'male' 'female' 'male' 'male' 'male' 'male' 'male'\n",
      " 'male' 'male' 'female' 'female' 'male' 'male' 'male' 'female' 'male'\n",
      " 'male' 'male' 'female' 'female' 'female' 'male' 'male' 'male' 'male'\n",
      " 'male' 'male' 'male' 'male' 'female' 'male' 'female' 'male' 'male' 'male'\n",
      " 'female' 'male' 'male' 'female' 'male' 'male' 'male' 'male' 'male' 'male'\n",
      " 'male' 'male' 'male' 'female' 'male' 'female' 'male' 'female' 'male'\n",
      " 'female' 'female' 'male' 'male' 'male' 'female' 'male' 'female' 'male'\n",
      " 'male' 'female' 'male' 'female' 'female' 'male' 'female' 'female' 'male'\n",
      " 'female' 'female' 'male' 'male' 'female' 'male' 'male' 'female' 'female'\n",
      " 'female' 'male' 'male' 'male' 'male' 'male' 'female' 'female' 'male'\n",
      " 'female' 'male' 'male' 'male' 'male' 'male' 'female' 'male' 'male' 'male'\n",
      " 'female' 'male' 'female' 'male' 'male' 'female' 'male' 'female' 'male'\n",
      " 'male' 'male' 'male' 'male' 'female' 'female' 'female' 'female' 'female'\n",
      " 'male' 'female' 'male' 'male' 'male']\n",
      "[1 0 1 1 0 1 0 1 0 1 1 1 0 1 0 0 1 1 0 0 1 1 0 1 0 1 0 1 1 1 1 1 0 0 1 1 0\n",
      " 0 1 1 1 1 1 0 0 1 1 1 0 0 1 1 0 0 1 1 1 1 1 0 1 1 1 0 1 0 0 1 1 0 0 1 0 1\n",
      " 0 1 1 0 1 0 1 1 1 1 1 1 0 0 0 1 0 1 0 1 1 1 0 1 0 1 0 1 1 1 0 1 1 1 1 1 1\n",
      " 0 0 0 0 1 1 0 1 0 0 1 0 1 1 0 1 0 1 1 1 1 0 1 1 1 1 1 0 1 0 0 1 1 1 1 1 1\n",
      " 1 1 0 1 1 0 1 1 0 0 1 0 0 1 0 1 1 0 1 1 0 0 1 1 1 1 1 0 0 1 0 0 1 1 0 1 0\n",
      " 1 0 1 0 1 1 1 1 1 1 1 1 0 1 0 0 1 1 0 1 1 0 1 0 1 1 1 1 0 0 1 0 1 0 1 0 1\n",
      " 0 1 0 0 1 0 1 1 1 0 1 1 1 1 1 1 0 0 0 0 1 1 1 1 0 1 0 0 0 1 1 1 1 1 1 1 0\n",
      " 1 1 1 0 0 1 1 1 1 0 1 1 1 0 0 1 0 1 1 1 1 0 1 0 0 0 1 1 1 1 1 1 0 1 1 1 1\n",
      " 0 1 1 1 1 1 1 1 0 0 1 1 1 0 1 1 1 0 0 0 1 1 1 1 1 1 1 1 0 1 0 1 1 1 0 1 1\n",
      " 0 1 1 1 1 1 1 1 1 1 0 1 0 1 0 1 0 0 1 1 1 0 1 0 1 1 0 1 0 0 1 0 0 1 0 0 1\n",
      " 1 0 1 1 0 0 0 1 1 1 1 1 0 0 1 0 1 1 1 1 1 0 1 1 1 0 1 0 1 1 0 1 0 1 1 1 1\n",
      " 1 0 0 0 0 0 1 0 1 1 1]\n"
     ]
    }
   ],
   "source": [
    "# ---------SEX---\n",
    "values = array(df_test['Sex'])\n",
    "print(values)\n",
    "onehot_encoded = hot_encode_PC(values)\n",
    "\n",
    "df_test['female']=onehot_encoded[:,0]\n",
    "df_test['male']=onehot_encoded[:,1]"
   ]
  },
  {
   "cell_type": "code",
   "execution_count": 22,
   "metadata": {},
   "outputs": [
    {
     "name": "stdout",
     "output_type": "stream",
     "text": [
      "[3 1 3 1 3 3 1 3 3 2 3 1 3 3 3 2 3 2 3 3 2 2 3 1 3 3 3 1 3 3 1 1 3 2 1 1 3\n",
      " 3 3 3 3 2 3 2 3 3 3 3 3 3 3 3 1 2 1 1 2 3 2 3 3 1 1 3 1 3 2 3 3 3 2 3 2 3\n",
      " 3 3 3 3 2 3 3 3 3 1 2 3 3 3 1 3 3 3 1 3 3 3 1 1 2 2 3 3 1 3 3 3 3 3 3 3 1\n",
      " 3 3 3 3 3 3 2 1 3 2 3 2 2 1 3 3 3 3 3 3 3 3 2 2 2 1 1 3 1 3 3 3 3 2 2 3 3\n",
      " 2 2 2 1 3 3 3 1 3 3 3 3 3 2 3 3 3 3 1 3 1 3 1 3 3 3 1 3 3 1 2 3 3 2 3 2 3\n",
      " 1 3 1 3 3 2 2 3 2 1 1 3 3 3 2 3 3 3 3 3 3 3 3 3 1 3 2 3 2 3 1 3 2 1 2 3 2\n",
      " 3 3 1 3 2 3 2 3 1 3 2 3 2 3 2 2 2 2 3 3 2 3 3 1 3 2 1 2 3 3 1 3 3 3 1 1 1\n",
      " 2 3 3 1 1 3 2 3 3 1 1 1 3 2 1 3 1 3 2 3 3 3 3 3 3 1 3 3 3 2 3 1 1 2 3 3 1\n",
      " 3 1 1 1 3 3 3 2 3 1 1 1 2 1 1 1 2 3 2 3 2 2 1 1 3 3 2 2 3 1 3 2 3 1 3 1 1\n",
      " 3 1 3 1 1 3 1 2 1 2 2 2 2 2 3 3 3 3 1 3 3 3 3 1 2 3 3 3 2 3 3 3 3 1 3 3 1\n",
      " 1 3 3 1 3 1 3 1 3 3 1 3 3 1 3 2 3 2 3 2 1 3 3 1 3 3 3 2 2 2 3 3 3 3 3 2 3\n",
      " 2 3 3 3 3 1 2 3 3 2 2 2 3 3 3 3 3 3 3 2 2 3 3 1 3 2 3 1 1 3 2 1 2 2 3 3 2\n",
      " 3 1 2 1 3 1 2 3 1 1 3 3 1 1 2 3 1 3 1 2 3 3 2 1 3 3 3 3 2 2 3 1 2 3 3 3 3\n",
      " 2 3 3 1 3 1 1 3 3 3 3 1 1 3 3 1 3 1 3 3 3 3 3 1 1 2 1 3 3 3 3 1 1 3 1 2 3\n",
      " 2 3 1 3 3 1 3 3 2 1 3 2 2 3 3 3 3 2 1 1 3 1 1 3 3 2 1 1 2 2 3 2 1 2 3 3 3\n",
      " 1 1 1 1 3 3 3 2 3 3 3 3 3 3 3 2 1 1 3 3 3 2 1 3 3 2 1 2 1 3 1 2 1 3 3 3 1\n",
      " 3 3 2 3 2 3 3 1 2 3 1 3 1 3 3 1 2 1 3 3 3 3 3 2 3 3 2 2 3 1 3 3 3 1 2 1 3\n",
      " 3 1 3 1 1 3 2 3 2 3 3 3 1 3 3 3 1 3 1 3 3 3 2 3 3 3 2 3 3 2 1 1 3 1 3 3 2\n",
      " 2 3 3 1 2 1 2 2 2 3 3 3 3 1 3 1 3 3 2 2 3 3 3 1 1 3 3 3 1 2 3 3 1 3 1 1 3\n",
      " 3 3 2 2 1 1 3 1 1 1 3 2 3 1 2 3 3 2 3 2 2 1 3 2 3 2 3 1 3 2 2 2 3 3 1 3 3\n",
      " 1 1 1 3 3 1 3 2 1 3 2 3 3 3 2 2 3 2 3 1 3 3 3 1 3 1 1 3 3 3 3 3 2 3 2 3 3\n",
      " 3 3 1 3 1 1 3 3 3 3 3 3 1 3 2 3 1 3 2 1 3 3 3 2 2 1 3 3 3 1 3 2 1 3 3 2 3\n",
      " 3 1 3 2 3 3 1 3 1 3 3 3 3 2 3 1 3 2 3 3 3 1 3 3 3 1 3 2 1 3 3 3 3 3 2 1 3\n",
      " 3 3 1 2 3 1 1 3 3 3 2 1 3 2 2 2 1 3 3 3 1 1 3 2 3 3 3 3 1 2 3 3 2 3 3 2 1\n",
      " 3 1 3]\n",
      "[2 0 2 0 2 2 0 2 2 1 2 0 2 2 2 1 2 1 2 2 1 1 2 0 2 2 2 0 2 2 0 0 2 1 0 0 2\n",
      " 2 2 2 2 1 2 1 2 2 2 2 2 2 2 2 0 1 0 0 1 2 1 2 2 0 0 2 0 2 1 2 2 2 1 2 1 2\n",
      " 2 2 2 2 1 2 2 2 2 0 1 2 2 2 0 2 2 2 0 2 2 2 0 0 1 1 2 2 0 2 2 2 2 2 2 2 0\n",
      " 2 2 2 2 2 2 1 0 2 1 2 1 1 0 2 2 2 2 2 2 2 2 1 1 1 0 0 2 0 2 2 2 2 1 1 2 2\n",
      " 1 1 1 0 2 2 2 0 2 2 2 2 2 1 2 2 2 2 0 2 0 2 0 2 2 2 0 2 2 0 1 2 2 1 2 1 2\n",
      " 0 2 0 2 2 1 1 2 1 0 0 2 2 2 1 2 2 2 2 2 2 2 2 2 0 2 1 2 1 2 0 2 1 0 1 2 1\n",
      " 2 2 0 2 1 2 1 2 0 2 1 2 1 2 1 1 1 1 2 2 1 2 2 0 2 1 0 1 2 2 0 2 2 2 0 0 0\n",
      " 1 2 2 0 0 2 1 2 2 0 0 0 2 1 0 2 0 2 1 2 2 2 2 2 2 0 2 2 2 1 2 0 0 1 2 2 0\n",
      " 2 0 0 0 2 2 2 1 2 0 0 0 1 0 0 0 1 2 1 2 1 1 0 0 2 2 1 1 2 0 2 1 2 0 2 0 0\n",
      " 2 0 2 0 0 2 0 1 0 1 1 1 1 1 2 2 2 2 0 2 2 2 2 0 1 2 2 2 1 2 2 2 2 0 2 2 0\n",
      " 0 2 2 0 2 0 2 0 2 2 0 2 2 0 2 1 2 1 2 1 0 2 2 0 2 2 2 1 1 1 2 2 2 2 2 1 2\n",
      " 1 2 2 2 2 0 1 2 2 1 1 1 2 2 2 2 2 2 2 1 1 2 2 0 2 1 2 0 0 2 1 0 1 1 2 2 1\n",
      " 2 0 1 0 2 0 1 2 0 0 2 2 0 0 1 2 0 2 0 1 2 2 1 0 2 2 2 2 1 1 2 0 1 2 2 2 2\n",
      " 1 2 2 0 2 0 0 2 2 2 2 0 0 2 2 0 2 0 2 2 2 2 2 0 0 1 0 2 2 2 2 0 0 2 0 1 2\n",
      " 1 2 0 2 2 0 2 2 1 0 2 1 1 2 2 2 2 1 0 0 2 0 0 2 2 1 0 0 1 1 2 1 0 1 2 2 2\n",
      " 0 0 0 0 2 2 2 1 2 2 2 2 2 2 2 1 0 0 2 2 2 1 0 2 2 1 0 1 0 2 0 1 0 2 2 2 0\n",
      " 2 2 1 2 1 2 2 0 1 2 0 2 0 2 2 0 1 0 2 2 2 2 2 1 2 2 1 1 2 0 2 2 2 0 1 0 2\n",
      " 2 0 2 0 0 2 1 2 1 2 2 2 0 2 2 2 0 2 0 2 2 2 1 2 2 2 1 2 2 1 0 0 2 0 2 2 1\n",
      " 1 2 2 0 1 0 1 1 1 2 2 2 2 0 2 0 2 2 1 1 2 2 2 0 0 2 2 2 0 1 2 2 0 2 0 0 2\n",
      " 2 2 1 1 0 0 2 0 0 0 2 1 2 0 1 2 2 1 2 1 1 0 2 1 2 1 2 0 2 1 1 1 2 2 0 2 2\n",
      " 0 0 0 2 2 0 2 1 0 2 1 2 2 2 1 1 2 1 2 0 2 2 2 0 2 0 0 2 2 2 2 2 1 2 1 2 2\n",
      " 2 2 0 2 0 0 2 2 2 2 2 2 0 2 1 2 0 2 1 0 2 2 2 1 1 0 2 2 2 0 2 1 0 2 2 1 2\n",
      " 2 0 2 1 2 2 0 2 0 2 2 2 2 1 2 0 2 1 2 2 2 0 2 2 2 0 2 1 0 2 2 2 2 2 1 0 2\n",
      " 2 2 0 1 2 0 0 2 2 2 1 0 2 1 1 1 0 2 2 2 0 0 2 1 2 2 2 2 0 1 2 2 1 2 2 1 0\n",
      " 2 0 2]\n"
     ]
    }
   ],
   "source": [
    "# ---------Pclass---\n",
    "values = array(df_train['Pclass'])\n",
    "print(values)\n",
    "onehot_encoded = hot_encode_PC(values)\n",
    "\n",
    "df_train['Pclass1']=onehot_encoded[:,0]\n",
    "df_train['Pclass2']=onehot_encoded[:,1]\n",
    "df_train['Pclass3']=onehot_encoded[:,2]"
   ]
  },
  {
   "cell_type": "code",
   "execution_count": 23,
   "metadata": {},
   "outputs": [
    {
     "name": "stdout",
     "output_type": "stream",
     "text": [
      "[3 3 2 3 3 3 3 2 3 3 3 1 1 2 1 2 2 3 3 3 1 3 1 1 1 3 1 3 1 3 2 2 3 3 1 3 3\n",
      " 3 3 3 3 1 3 2 1 3 1 3 1 3 1 2 2 1 2 3 3 3 3 1 3 2 3 3 1 2 3 1 1 1 3 3 3 1\n",
      " 1 1 3 1 2 3 3 1 1 3 2 3 3 3 3 2 3 3 1 3 1 3 1 3 3 3 1 2 3 3 3 3 3 3 3 2 2\n",
      " 3 1 3 1 3 3 3 1 2 2 3 1 3 3 3 3 3 2 3 3 1 3 3 3 3 3 2 3 3 3 1 1 2 1 3 1 3\n",
      " 1 2 1 3 3 3 3 3 1 3 1 3 3 3 2 3 2 3 1 3 1 3 3 3 3 3 3 2 2 1 2 1 2 1 1 3 1\n",
      " 2 2 3 3 2 2 1 3 2 2 3 1 3 2 3 3 3 1 2 2 1 3 2 1 3 3 3 2 2 3 1 3 1 1 3 2 3\n",
      " 2 3 1 3 3 3 3 2 2 1 3 3 1 3 1 3 2 1 1 2 1 3 3 1 2 2 2 3 2 3 1 3 3 3 3 3 2\n",
      " 3 3 3 2 3 2 3 1 3 3 3 1 3 1 3 3 2 2 2 2 2 3 3 3 3 3 3 3 1 3 3 1 3 3 1 3 3\n",
      " 2 3 1 3 3 2 2 3 3 1 1 3 1 3 3 3 3 3 1 3 1 2 3 2 3 3 2 1 1 3 2 1 2 2 2 1 3\n",
      " 3 3 1 2 3 2 3 2 3 3 1 3 3 2 3 2 2 1 2 2 2 3 1 1 3 3 3 3 2 2 3 1 3 3 3 1 2\n",
      " 2 1 1 2 1 1 3 2 1 3 3 3 3 3 2 2 3 2 3 3 1 1 3 2 3 1 3 1 3 3 1 2 1 1 1 2 2\n",
      " 1 3 3 3 1 3 3 1 3 3 3]\n",
      "[2 2 1 2 2 2 2 1 2 2 2 0 0 1 0 1 1 2 2 2 0 2 0 0 0 2 0 2 0 2 1 1 2 2 0 2 2\n",
      " 2 2 2 2 0 2 1 0 2 0 2 0 2 0 1 1 0 1 2 2 2 2 0 2 1 2 2 0 1 2 0 0 0 2 2 2 0\n",
      " 0 0 2 0 1 2 2 0 0 2 1 2 2 2 2 1 2 2 0 2 0 2 0 2 2 2 0 1 2 2 2 2 2 2 2 1 1\n",
      " 2 0 2 0 2 2 2 0 1 1 2 0 2 2 2 2 2 1 2 2 0 2 2 2 2 2 1 2 2 2 0 0 1 0 2 0 2\n",
      " 0 1 0 2 2 2 2 2 0 2 0 2 2 2 1 2 1 2 0 2 0 2 2 2 2 2 2 1 1 0 1 0 1 0 0 2 0\n",
      " 1 1 2 2 1 1 0 2 1 1 2 0 2 1 2 2 2 0 1 1 0 2 1 0 2 2 2 1 1 2 0 2 0 0 2 1 2\n",
      " 1 2 0 2 2 2 2 1 1 0 2 2 0 2 0 2 1 0 0 1 0 2 2 0 1 1 1 2 1 2 0 2 2 2 2 2 1\n",
      " 2 2 2 1 2 1 2 0 2 2 2 0 2 0 2 2 1 1 1 1 1 2 2 2 2 2 2 2 0 2 2 0 2 2 0 2 2\n",
      " 1 2 0 2 2 1 1 2 2 0 0 2 0 2 2 2 2 2 0 2 0 1 2 1 2 2 1 0 0 2 1 0 1 1 1 0 2\n",
      " 2 2 0 1 2 1 2 1 2 2 0 2 2 1 2 1 1 0 1 1 1 2 0 0 2 2 2 2 1 1 2 0 2 2 2 0 1\n",
      " 1 0 0 1 0 0 2 1 0 2 2 2 2 2 1 1 2 1 2 2 0 0 2 1 2 0 2 0 2 2 0 1 0 0 0 1 1\n",
      " 0 2 2 2 0 2 2 0 2 2 2]\n"
     ]
    }
   ],
   "source": [
    "# ---------Pclass---\n",
    "values = array(df_test['Pclass'])\n",
    "print(values)\n",
    "onehot_encoded = hot_encode_PC(values)\n",
    "\n",
    "df_test['Pclass1']=onehot_encoded[:,0]\n",
    "df_test['Pclass2']=onehot_encoded[:,1]\n",
    "df_test['Pclass3']=onehot_encoded[:,2]"
   ]
  },
  {
   "cell_type": "code",
   "execution_count": 24,
   "metadata": {},
   "outputs": [
    {
     "name": "stdout",
     "output_type": "stream",
     "text": [
      "[1 0 3 4 2 5 8]\n",
      "[1 1 0 1 0 0 0 3 0 1 1 0 0 1 0 0 4 0 1 0 0 0 0 0 3 1 0 3 0 0 0 1 0 0 1 1 0\n",
      " 0 2 1 1 1 0 1 0 0 1 0 2 1 4 0 1 1 0 0 0 0 1 5 0 0 1 3 0 1 0 0 4 2 0 5 0 1\n",
      " 0 0 0 0 0 0 0 0 0 0 0 3 1 0 3 0 0 0 1 1 0 0 0 0 0 1 0 0 0 0 2 0 0 0 0 1 0\n",
      " 1 0 1 0 0 0 1 0 4 2 0 1 0 0 1 0 0 1 0 0 0 1 1 0 0 0 1 0 0 0 0 1 0 0 1 0 2\n",
      " 0 0 0 1 0 0 0 0 0 0 0 8 0 0 0 0 4 0 0 1 0 0 0 4 1 0 0 1 3 0 0 0 8 0 4 2 0\n",
      " 0 1 0 1 0 0 0 1 1 0 0 0 0 0 0 0 8 0 0 0 0 1 0 0 0 0 0 0 0 1 1 0 1 0 0 0 0\n",
      " 0 0 1 0 0 0 0 3 1 0 0 4 0 0 1 0 0 0 1 1 0 0 0 2 0 0 1 1 0 1 0 1 0 0 0 0 0\n",
      " 0 0 4 1 0 0 0 4 1 0 0 0 0 0 0 0 1 0 0 4 1 0 0 0 0 0 0 0 0 0 0 0 1 0 0 0 0\n",
      " 0 1 0 0 0 2 0 0 0 1 0 1 1 0 0 2 1 0 1 0 1 0 0 1 0 0 0 1 8 0 0 0 1 0 2 0 0\n",
      " 2 1 0 1 0 0 0 1 3 0 0 0 0 0 1 1 0 0 0 1 1 0 0 0 0 0 0 1 1 0 0 1 0 1 0 0 0\n",
      " 1 1 0 0 3 1 0 0 0 0 0 0 0 1 0 0 5 0 0 0 1 0 2 1 0 0 0 0 0 0 0 0 1 1 0 1 0\n",
      " 1 0 3 0 0 1 0 0 0 1 0 0 0 0 0 0 1 1 0 1 0 0 0 0 1 1 0 1 1 2 2 1 0 1 0 1 0\n",
      " 0 0 0 0 2 0 1 1 0 1 0 0 0 1 0 0 0 0 0 0 0 0 0 0 0 2 0 0 1 0 0 0 1 1 0 0 5\n",
      " 0 0 0 1 3 1 0 0 1 1 0 0 0 0 0 1 0 1 0 0 0 0 0 0 1 0 0 0 0 0 0 0 1 0 0 0 0\n",
      " 1 0 0 0 0 0 0 0 0 0 0 2 1 0 1 0 0 0 0 0 0 0 0 4 4 1 1 0 1 0 1 1 0 0 0 0 0\n",
      " 0 1 0 1 1 0 0 0 0 0 2 0 0 0 0 0 2 0 0 0 0 0 1 1 0 1 1 0 0 0 0 0 1 0 0 0 1\n",
      " 0 0 1 1 0 0 0 1 2 0 0 0 0 1 0 0 1 0 1 0 1 0 0 1 1 1 2 0 1 1 1 0 0 0 0 0 0\n",
      " 0 0 0 0 0 3 0 0 1 0 1 0 0 3 0 2 1 0 0 0 0 0 0 0 0 0 2 0 1 0 0 2 0 0 0 1 2\n",
      " 0 0 0 1 1 1 0 0 0 0 0 0 1 0 0 0 0 5 1 1 4 0 0 0 1 0 0 0 0 0 0 0 1 0 1 0 0\n",
      " 0 1 0 0 0 0 1 0 0 1 0 0 0 0 0 0 0 0 1 0 0 1 0 3 0 1 1 0 0 0 0 0 0 1 0 0 0\n",
      " 0 1 2 1 0 1 1 0 1 0 1 0 0 0 1 1 0 0 0 0 0 0 0 1 0 1 0 0 1 0 0 0 0 0 1 0 0\n",
      " 0 0 0 0 1 0 1 0 0 0 4 1 0 0 0 8 0 0 0 0 0 0 1 0 1 1 0 0 0 0 0 0 1 0 0 0 4\n",
      " 0 0 0 1 0 3 1 0 0 0 4 0 0 0 0 0 1 1 0 0 0 1 0 0 0 0 0 0 0 0 0 0 8 0 0 1 4\n",
      " 0 1 0 1 0 1 0 0 0 2 1 0 8 0 0 1 0 0 1 0 1 0 0 1 0 0 0 0 0 0 0 0 0 0 0 0 0\n",
      " 1 0 0]\n",
      "[1 1 0 1 0 0 0 3 0 1 1 0 0 1 0 0 4 0 1 0 0 0 0 0 3 1 0 3 0 0 0 1 0 0 1 1 0\n",
      " 0 2 1 1 1 0 1 0 0 1 0 2 1 4 0 1 1 0 0 0 0 1 5 0 0 1 3 0 1 0 0 4 2 0 5 0 1\n",
      " 0 0 0 0 0 0 0 0 0 0 0 3 1 0 3 0 0 0 1 1 0 0 0 0 0 1 0 0 0 0 2 0 0 0 0 1 0\n",
      " 1 0 1 0 0 0 1 0 4 2 0 1 0 0 1 0 0 1 0 0 0 1 1 0 0 0 1 0 0 0 0 1 0 0 1 0 2\n",
      " 0 0 0 1 0 0 0 0 0 0 0 6 0 0 0 0 4 0 0 1 0 0 0 4 1 0 0 1 3 0 0 0 6 0 4 2 0\n",
      " 0 1 0 1 0 0 0 1 1 0 0 0 0 0 0 0 6 0 0 0 0 1 0 0 0 0 0 0 0 1 1 0 1 0 0 0 0\n",
      " 0 0 1 0 0 0 0 3 1 0 0 4 0 0 1 0 0 0 1 1 0 0 0 2 0 0 1 1 0 1 0 1 0 0 0 0 0\n",
      " 0 0 4 1 0 0 0 4 1 0 0 0 0 0 0 0 1 0 0 4 1 0 0 0 0 0 0 0 0 0 0 0 1 0 0 0 0\n",
      " 0 1 0 0 0 2 0 0 0 1 0 1 1 0 0 2 1 0 1 0 1 0 0 1 0 0 0 1 6 0 0 0 1 0 2 0 0\n",
      " 2 1 0 1 0 0 0 1 3 0 0 0 0 0 1 1 0 0 0 1 1 0 0 0 0 0 0 1 1 0 0 1 0 1 0 0 0\n",
      " 1 1 0 0 3 1 0 0 0 0 0 0 0 1 0 0 5 0 0 0 1 0 2 1 0 0 0 0 0 0 0 0 1 1 0 1 0\n",
      " 1 0 3 0 0 1 0 0 0 1 0 0 0 0 0 0 1 1 0 1 0 0 0 0 1 1 0 1 1 2 2 1 0 1 0 1 0\n",
      " 0 0 0 0 2 0 1 1 0 1 0 0 0 1 0 0 0 0 0 0 0 0 0 0 0 2 0 0 1 0 0 0 1 1 0 0 5\n",
      " 0 0 0 1 3 1 0 0 1 1 0 0 0 0 0 1 0 1 0 0 0 0 0 0 1 0 0 0 0 0 0 0 1 0 0 0 0\n",
      " 1 0 0 0 0 0 0 0 0 0 0 2 1 0 1 0 0 0 0 0 0 0 0 4 4 1 1 0 1 0 1 1 0 0 0 0 0\n",
      " 0 1 0 1 1 0 0 0 0 0 2 0 0 0 0 0 2 0 0 0 0 0 1 1 0 1 1 0 0 0 0 0 1 0 0 0 1\n",
      " 0 0 1 1 0 0 0 1 2 0 0 0 0 1 0 0 1 0 1 0 1 0 0 1 1 1 2 0 1 1 1 0 0 0 0 0 0\n",
      " 0 0 0 0 0 3 0 0 1 0 1 0 0 3 0 2 1 0 0 0 0 0 0 0 0 0 2 0 1 0 0 2 0 0 0 1 2\n",
      " 0 0 0 1 1 1 0 0 0 0 0 0 1 0 0 0 0 5 1 1 4 0 0 0 1 0 0 0 0 0 0 0 1 0 1 0 0\n",
      " 0 1 0 0 0 0 1 0 0 1 0 0 0 0 0 0 0 0 1 0 0 1 0 3 0 1 1 0 0 0 0 0 0 1 0 0 0\n",
      " 0 1 2 1 0 1 1 0 1 0 1 0 0 0 1 1 0 0 0 0 0 0 0 1 0 1 0 0 1 0 0 0 0 0 1 0 0\n",
      " 0 0 0 0 1 0 1 0 0 0 4 1 0 0 0 6 0 0 0 0 0 0 1 0 1 1 0 0 0 0 0 0 1 0 0 0 4\n",
      " 0 0 0 1 0 3 1 0 0 0 4 0 0 0 0 0 1 1 0 0 0 1 0 0 0 0 0 0 0 0 0 0 6 0 0 1 4\n",
      " 0 1 0 1 0 1 0 0 0 2 1 0 6 0 0 1 0 0 1 0 1 0 0 1 0 0 0 0 0 0 0 0 0 0 0 0 0\n",
      " 1 0 0]\n"
     ]
    }
   ],
   "source": [
    "# ---------SibSP--- TRAIN\n",
    "del values\n",
    "print (df_train['SibSp'].unique())\n",
    "values = array(df_train['SibSp'])\n",
    "print(values)\n",
    "onehot_encoded = hot_encode_PC(values)\n",
    "\n",
    "df_train['SibSp0']=onehot_encoded[:,0]\n",
    "df_train['SibSp1']=onehot_encoded[:,1]\n",
    "df_train['SibSp2']=onehot_encoded[:,2]\n",
    "df_train['SibSp3']=onehot_encoded[:,3]\n",
    "df_train['SibSp4']=onehot_encoded[:,4]\n",
    "df_train['SibSp5']=onehot_encoded[:,5]\n",
    "df_train['SibSp8']=onehot_encoded[:,6]"
   ]
  },
  {
   "cell_type": "code",
   "execution_count": 25,
   "metadata": {},
   "outputs": [
    {
     "name": "stdout",
     "output_type": "stream",
     "text": [
      "[0 1 2 3 4 5 8]\n",
      "[0 1 0 0 1 0 0 1 0 2 0 0 1 1 1 1 0 0 1 0 1 0 0 0 1 1 0 0 0 2 1 2 1 1 1 0 0\n",
      " 0 0 0 0 0 0 0 1 0 0 0 0 0 1 0 2 3 0 4 0 0 1 0 0 0 0 0 2 0 0 0 0 1 0 0 0 0\n",
      " 0 0 0 2 0 0 1 1 0 0 0 1 0 0 0 1 1 0 1 0 0 0 1 0 0 0 1 1 0 0 1 0 0 0 0 0 0\n",
      " 0 0 0 1 1 0 1 0 1 0 1 1 0 0 0 0 2 0 0 0 0 0 1 0 0 0 0 0 1 5 0 1 0 0 3 0 0\n",
      " 0 1 0 0 0 0 4 0 0 0 0 0 0 1 0 0 0 1 0 2 0 0 0 0 1 0 1 0 0 1 0 0 0 1 1 0 1\n",
      " 0 0 2 8 0 1 0 1 0 0 0 0 0 0 0 0 0 1 1 0 0 0 0 0 0 0 0 0 1 4 0 0 1 1 0 1 0\n",
      " 0 0 0 0 0 0 0 0 0 0 1 0 1 0 1 0 1 1 0 0 1 0 1 1 0 1 1 1 1 0 1 0 0 0 0 0 0\n",
      " 0 1 0 0 1 0 0 0 0 0 0 0 0 1 1 0 1 0 1 1 0 0 1 0 1 1 0 0 1 0 0 0 0 0 1 0 0\n",
      " 1 2 0 0 0 0 0 0 0 1 1 0 1 1 0 0 0 0 0 0 1 0 0 2 0 0 0 0 0 0 2 0 1 0 0 0 0\n",
      " 1 0 0 0 0 0 0 0 0 1 0 1 0 0 0 0 0 0 0 0 1 1 0 2 0 0 1 8 1 0 0 1 1 1 0 0 0\n",
      " 1 0 0 0 1 0 2 0 0 4 0 0 0 1 0 1 0 0 0 3 0 0 0 0 3 1 0 1 0 0 0 1 0 0 1 0 1\n",
      " 1 0 1 0 1 0 0 0 0 0 1]\n",
      "[0 1 0 0 1 0 0 1 0 2 0 0 1 1 1 1 0 0 1 0 1 0 0 0 1 1 0 0 0 2 1 2 1 1 1 0 0\n",
      " 0 0 0 0 0 0 0 1 0 0 0 0 0 1 0 2 3 0 4 0 0 1 0 0 0 0 0 2 0 0 0 0 1 0 0 0 0\n",
      " 0 0 0 2 0 0 1 1 0 0 0 1 0 0 0 1 1 0 1 0 0 0 1 0 0 0 1 1 0 0 1 0 0 0 0 0 0\n",
      " 0 0 0 1 1 0 1 0 1 0 1 1 0 0 0 0 2 0 0 0 0 0 1 0 0 0 0 0 1 5 0 1 0 0 3 0 0\n",
      " 0 1 0 0 0 0 4 0 0 0 0 0 0 1 0 0 0 1 0 2 0 0 0 0 1 0 1 0 0 1 0 0 0 1 1 0 1\n",
      " 0 0 2 6 0 1 0 1 0 0 0 0 0 0 0 0 0 1 1 0 0 0 0 0 0 0 0 0 1 4 0 0 1 1 0 1 0\n",
      " 0 0 0 0 0 0 0 0 0 0 1 0 1 0 1 0 1 1 0 0 1 0 1 1 0 1 1 1 1 0 1 0 0 0 0 0 0\n",
      " 0 1 0 0 1 0 0 0 0 0 0 0 0 1 1 0 1 0 1 1 0 0 1 0 1 1 0 0 1 0 0 0 0 0 1 0 0\n",
      " 1 2 0 0 0 0 0 0 0 1 1 0 1 1 0 0 0 0 0 0 1 0 0 2 0 0 0 0 0 0 2 0 1 0 0 0 0\n",
      " 1 0 0 0 0 0 0 0 0 1 0 1 0 0 0 0 0 0 0 0 1 1 0 2 0 0 1 6 1 0 0 1 1 1 0 0 0\n",
      " 1 0 0 0 1 0 2 0 0 4 0 0 0 1 0 1 0 0 0 3 0 0 0 0 3 1 0 1 0 0 0 1 0 0 1 0 1\n",
      " 1 0 1 0 1 0 0 0 0 0 1]\n"
     ]
    }
   ],
   "source": [
    "# ---------SibSP--- TEST\n",
    "del values\n",
    "print (df_test['SibSp'].unique())\n",
    "values = array(df_test['SibSp'])\n",
    "print(values)\n",
    "onehot_encoded = hot_encode_PC(values)\n",
    "\n",
    "df_test['SibSp0']=onehot_encoded[:,0]\n",
    "df_test['SibSp1']=onehot_encoded[:,1]\n",
    "df_test['SibSp2']=onehot_encoded[:,2]\n",
    "df_test['SibSp3']=onehot_encoded[:,3]\n",
    "df_test['SibSp4']=onehot_encoded[:,4]\n",
    "df_test['SibSp5']=onehot_encoded[:,5]\n",
    "df_test['SibSp8']=onehot_encoded[:,6]"
   ]
  },
  {
   "cell_type": "code",
   "execution_count": 26,
   "metadata": {},
   "outputs": [
    {
     "name": "stdout",
     "output_type": "stream",
     "text": [
      "[0 1 2 5 3 4 6]\n",
      "[0 0 0 0 0 0 0 1 2 0 1 0 0 5 0 0 1 0 0 0 0 0 0 0 1 5 0 2 0 0 0 0 0 0 0 0 0\n",
      " 0 0 0 0 0 0 2 0 0 0 0 0 0 1 0 0 0 1 0 0 0 2 2 0 0 0 2 0 1 0 0 2 0 0 2 0 0\n",
      " 0 0 0 0 2 0 0 0 0 0 0 0 3 0 2 0 0 0 0 2 0 0 0 1 1 0 0 0 1 0 0 0 0 0 0 0 0\n",
      " 0 0 0 0 0 0 0 1 2 0 0 0 0 1 0 0 0 1 0 0 0 0 0 0 0 2 0 0 0 2 0 0 0 0 1 0 2\n",
      " 2 0 0 0 0 2 0 1 0 0 0 2 1 0 0 0 1 2 1 4 0 0 0 1 1 0 0 1 1 0 0 0 2 0 2 1 2\n",
      " 0 0 0 1 0 0 0 0 1 0 0 0 1 0 0 0 2 0 0 0 1 0 0 0 0 0 0 0 0 0 0 0 0 0 0 0 0\n",
      " 0 0 0 0 0 0 0 1 0 0 0 2 0 0 0 2 0 0 0 0 0 0 0 0 0 2 1 0 0 1 0 0 2 2 0 0 0\n",
      " 1 0 2 1 0 0 0 1 0 1 0 0 0 1 1 0 0 0 0 1 1 0 0 0 0 0 0 0 0 0 0 0 0 0 0 0 0\n",
      " 0 2 0 1 0 0 0 0 0 2 0 0 0 0 0 2 1 0 1 0 0 0 2 1 0 0 0 1 2 0 0 0 1 1 0 0 1\n",
      " 0 0 0 0 0 0 0 1 2 0 0 0 0 0 0 1 0 0 0 1 0 0 0 1 0 0 0 4 0 1 0 0 0 0 0 0 0\n",
      " 0 0 0 0 1 0 0 2 0 0 0 2 0 0 0 0 2 0 0 0 2 0 0 0 2 0 0 0 0 0 0 0 0 0 0 0 0\n",
      " 1 0 1 0 0 0 0 0 0 1 2 0 2 0 0 0 1 1 0 0 0 0 0 0 0 0 0 0 2 2 3 4 0 1 0 0 0\n",
      " 0 2 1 0 1 0 2 0 0 0 0 0 0 0 0 0 0 0 0 0 0 0 0 0 0 1 0 0 2 0 0 0 0 0 0 1 2\n",
      " 0 0 0 0 1 0 0 0 1 0 0 0 0 0 0 0 0 2 0 0 0 0 0 0 0 2 0 0 0 0 0 0 0 0 0 0 0\n",
      " 0 0 0 0 0 1 0 0 0 0 0 1 1 0 1 2 0 2 0 0 0 2 2 2 2 0 0 0 0 0 1 1 2 0 0 0 0\n",
      " 0 0 0 1 0 0 0 0 0 0 0 0 4 0 0 0 0 0 0 0 0 0 0 0 0 1 1 0 0 0 2 0 1 0 0 0 0\n",
      " 0 2 0 1 0 0 0 0 1 0 0 0 0 0 0 0 2 0 5 0 0 0 0 2 1 0 1 0 0 0 1 0 0 0 0 0 0\n",
      " 0 0 0 0 0 2 0 0 1 5 0 0 0 2 0 1 0 0 0 0 0 0 1 0 0 0 0 0 1 0 2 0 0 0 0 0 0\n",
      " 0 0 0 0 1 0 0 0 0 0 0 0 6 1 0 0 0 2 1 2 1 0 0 1 0 1 0 0 0 0 0 0 1 0 0 0 1\n",
      " 0 0 0 0 0 0 1 0 0 0 0 0 0 0 0 0 0 1 0 0 0 0 0 0 0 0 0 0 0 0 0 0 0 3 0 0 0\n",
      " 0 0 2 0 0 1 1 0 0 0 1 1 0 0 2 1 0 0 0 0 0 0 0 2 0 0 0 0 0 0 0 0 0 0 3 0 0\n",
      " 0 0 1 0 0 0 2 0 0 0 1 2 0 0 0 2 0 0 0 0 0 0 1 0 1 2 1 0 0 0 0 0 0 0 0 0 2\n",
      " 0 0 0 1 0 2 1 0 0 1 1 0 0 2 0 0 0 1 0 0 0 1 0 0 0 0 0 0 0 0 0 0 2 0 1 0 2\n",
      " 0 1 1 0 1 1 0 3 0 0 0 0 2 0 0 0 0 0 1 0 1 0 0 0 0 0 0 0 1 1 0 0 0 0 5 0 0\n",
      " 2 0 0]\n",
      "[0 0 0 0 0 0 0 1 2 0 1 0 0 5 0 0 1 0 0 0 0 0 0 0 1 5 0 2 0 0 0 0 0 0 0 0 0\n",
      " 0 0 0 0 0 0 2 0 0 0 0 0 0 1 0 0 0 1 0 0 0 2 2 0 0 0 2 0 1 0 0 2 0 0 2 0 0\n",
      " 0 0 0 0 2 0 0 0 0 0 0 0 3 0 2 0 0 0 0 2 0 0 0 1 1 0 0 0 1 0 0 0 0 0 0 0 0\n",
      " 0 0 0 0 0 0 0 1 2 0 0 0 0 1 0 0 0 1 0 0 0 0 0 0 0 2 0 0 0 2 0 0 0 0 1 0 2\n",
      " 2 0 0 0 0 2 0 1 0 0 0 2 1 0 0 0 1 2 1 4 0 0 0 1 1 0 0 1 1 0 0 0 2 0 2 1 2\n",
      " 0 0 0 1 0 0 0 0 1 0 0 0 1 0 0 0 2 0 0 0 1 0 0 0 0 0 0 0 0 0 0 0 0 0 0 0 0\n",
      " 0 0 0 0 0 0 0 1 0 0 0 2 0 0 0 2 0 0 0 0 0 0 0 0 0 2 1 0 0 1 0 0 2 2 0 0 0\n",
      " 1 0 2 1 0 0 0 1 0 1 0 0 0 1 1 0 0 0 0 1 1 0 0 0 0 0 0 0 0 0 0 0 0 0 0 0 0\n",
      " 0 2 0 1 0 0 0 0 0 2 0 0 0 0 0 2 1 0 1 0 0 0 2 1 0 0 0 1 2 0 0 0 1 1 0 0 1\n",
      " 0 0 0 0 0 0 0 1 2 0 0 0 0 0 0 1 0 0 0 1 0 0 0 1 0 0 0 4 0 1 0 0 0 0 0 0 0\n",
      " 0 0 0 0 1 0 0 2 0 0 0 2 0 0 0 0 2 0 0 0 2 0 0 0 2 0 0 0 0 0 0 0 0 0 0 0 0\n",
      " 1 0 1 0 0 0 0 0 0 1 2 0 2 0 0 0 1 1 0 0 0 0 0 0 0 0 0 0 2 2 3 4 0 1 0 0 0\n",
      " 0 2 1 0 1 0 2 0 0 0 0 0 0 0 0 0 0 0 0 0 0 0 0 0 0 1 0 0 2 0 0 0 0 0 0 1 2\n",
      " 0 0 0 0 1 0 0 0 1 0 0 0 0 0 0 0 0 2 0 0 0 0 0 0 0 2 0 0 0 0 0 0 0 0 0 0 0\n",
      " 0 0 0 0 0 1 0 0 0 0 0 1 1 0 1 2 0 2 0 0 0 2 2 2 2 0 0 0 0 0 1 1 2 0 0 0 0\n",
      " 0 0 0 1 0 0 0 0 0 0 0 0 4 0 0 0 0 0 0 0 0 0 0 0 0 1 1 0 0 0 2 0 1 0 0 0 0\n",
      " 0 2 0 1 0 0 0 0 1 0 0 0 0 0 0 0 2 0 5 0 0 0 0 2 1 0 1 0 0 0 1 0 0 0 0 0 0\n",
      " 0 0 0 0 0 2 0 0 1 5 0 0 0 2 0 1 0 0 0 0 0 0 1 0 0 0 0 0 1 0 2 0 0 0 0 0 0\n",
      " 0 0 0 0 1 0 0 0 0 0 0 0 6 1 0 0 0 2 1 2 1 0 0 1 0 1 0 0 0 0 0 0 1 0 0 0 1\n",
      " 0 0 0 0 0 0 1 0 0 0 0 0 0 0 0 0 0 1 0 0 0 0 0 0 0 0 0 0 0 0 0 0 0 3 0 0 0\n",
      " 0 0 2 0 0 1 1 0 0 0 1 1 0 0 2 1 0 0 0 0 0 0 0 2 0 0 0 0 0 0 0 0 0 0 3 0 0\n",
      " 0 0 1 0 0 0 2 0 0 0 1 2 0 0 0 2 0 0 0 0 0 0 1 0 1 2 1 0 0 0 0 0 0 0 0 0 2\n",
      " 0 0 0 1 0 2 1 0 0 1 1 0 0 2 0 0 0 1 0 0 0 1 0 0 0 0 0 0 0 0 0 0 2 0 1 0 2\n",
      " 0 1 1 0 1 1 0 3 0 0 0 0 2 0 0 0 0 0 1 0 1 0 0 0 0 0 0 0 1 1 0 0 0 0 5 0 0\n",
      " 2 0 0]\n"
     ]
    }
   ],
   "source": [
    "# ---------Parch--- TRAIN\n",
    "del values\n",
    "print (df_train['Parch'].unique())\n",
    "values = array(df_train['Parch'])\n",
    "print(values)\n",
    "onehot_encoded = hot_encode_PC(values)\n",
    "\n",
    "df_train['Parch0']=onehot_encoded[:,0]\n",
    "df_train['Parch1']=onehot_encoded[:,1]\n",
    "df_train['Parch2']=onehot_encoded[:,2]\n",
    "df_train['Parch3']=onehot_encoded[:,3]\n",
    "df_train['Parch4']=onehot_encoded[:,4]\n",
    "df_train['Parch5']=onehot_encoded[:,5]\n",
    "df_train['Parch6']=onehot_encoded[:,6]"
   ]
  },
  {
   "cell_type": "code",
   "execution_count": 27,
   "metadata": {},
   "outputs": [
    {
     "name": "stdout",
     "output_type": "stream",
     "text": [
      "[0 1 3 2 4 6 5 9]\n",
      "[0 0 0 0 1 0 0 1 0 0 0 0 0 0 0 0 0 0 0 0 0 1 0 1 3 0 1 0 0 0 0 0 2 2 0 0 0\n",
      " 0 0 0 1 0 0 0 0 0 0 0 0 2 0 0 1 2 0 1 0 0 0 0 0 0 0 0 2 0 0 0 0 4 0 0 0 0\n",
      " 0 0 0 0 0 0 1 0 0 0 0 0 0 0 0 1 0 0 2 0 0 0 0 0 0 0 0 0 0 0 1 0 0 0 0 0 0\n",
      " 0 0 0 0 0 0 1 0 0 0 0 0 0 0 1 0 0 0 0 0 0 4 0 0 0 0 0 0 6 2 0 3 0 0 0 0 0\n",
      " 0 1 1 0 0 2 2 0 0 0 0 2 0 1 0 0 0 1 0 2 0 0 0 0 0 0 5 2 0 0 3 2 0 1 0 0 1\n",
      " 0 1 0 2 0 0 0 1 0 2 0 2 0 0 0 0 2 0 1 0 0 0 0 0 0 0 0 0 0 2 0 0 1 1 0 0 0\n",
      " 0 0 0 2 0 0 0 0 0 0 0 0 0 0 0 0 1 0 0 2 1 0 2 0 0 1 0 0 2 0 0 0 0 0 0 0 0\n",
      " 0 0 0 2 1 0 0 0 0 0 0 0 0 0 0 0 0 0 0 0 0 0 1 0 1 1 0 0 0 0 0 0 0 0 1 0 0\n",
      " 2 0 0 0 0 0 1 0 0 1 2 1 1 0 0 0 0 0 0 0 0 0 0 0 0 0 0 0 0 0 1 0 0 0 2 0 0\n",
      " 1 0 0 0 2 0 0 0 0 9 1 1 0 0 0 0 0 1 0 0 2 2 0 0 0 0 0 2 1 0 0 0 9 0 0 1 0\n",
      " 0 0 0 0 1 0 0 0 0 2 0 0 0 0 0 2 0 0 0 1 0 1 2 0 1 0 0 1 0 0 0 0 1 0 0 0 0\n",
      " 1 0 1 0 0 0 0 0 0 0 1]\n",
      "[0 0 0 0 1 0 0 1 0 0 0 0 0 0 0 0 0 0 0 0 0 1 0 1 3 0 1 0 0 0 0 0 2 2 0 0 0\n",
      " 0 0 0 1 0 0 0 0 0 0 0 0 2 0 0 1 2 0 1 0 0 0 0 0 0 0 0 2 0 0 0 0 4 0 0 0 0\n",
      " 0 0 0 0 0 0 1 0 0 0 0 0 0 0 0 1 0 0 2 0 0 0 0 0 0 0 0 0 0 0 1 0 0 0 0 0 0\n",
      " 0 0 0 0 0 0 1 0 0 0 0 0 0 0 1 0 0 0 0 0 0 4 0 0 0 0 0 0 6 2 0 3 0 0 0 0 0\n",
      " 0 1 1 0 0 2 2 0 0 0 0 2 0 1 0 0 0 1 0 2 0 0 0 0 0 0 5 2 0 0 3 2 0 1 0 0 1\n",
      " 0 1 0 2 0 0 0 1 0 2 0 2 0 0 0 0 2 0 1 0 0 0 0 0 0 0 0 0 0 2 0 0 1 1 0 0 0\n",
      " 0 0 0 2 0 0 0 0 0 0 0 0 0 0 0 0 1 0 0 2 1 0 2 0 0 1 0 0 2 0 0 0 0 0 0 0 0\n",
      " 0 0 0 2 1 0 0 0 0 0 0 0 0 0 0 0 0 0 0 0 0 0 1 0 1 1 0 0 0 0 0 0 0 0 1 0 0\n",
      " 2 0 0 0 0 0 1 0 0 1 2 1 1 0 0 0 0 0 0 0 0 0 0 0 0 0 0 0 0 0 1 0 0 0 2 0 0\n",
      " 1 0 0 0 2 0 0 0 0 7 1 1 0 0 0 0 0 1 0 0 2 2 0 0 0 0 0 2 1 0 0 0 7 0 0 1 0\n",
      " 0 0 0 0 1 0 0 0 0 2 0 0 0 0 0 2 0 0 0 1 0 1 2 0 1 0 0 1 0 0 0 0 1 0 0 0 0\n",
      " 1 0 1 0 0 0 0 0 0 0 1]\n"
     ]
    }
   ],
   "source": [
    "# ---------Parch--- TEST\n",
    "# Apareix un 9 que no se que es, aquest el deixarem sense omplir\n",
    "del values\n",
    "print (df_test['Parch'].unique())\n",
    "values = array(df_test['Parch'])\n",
    "print(values)\n",
    "onehot_encoded = hot_encode_PC(values)\n",
    "\n",
    "df_test['Parch0']=onehot_encoded[:,0]\n",
    "df_test['Parch1']=onehot_encoded[:,1]\n",
    "df_test['Parch2']=onehot_encoded[:,2]\n",
    "df_test['Parch3']=onehot_encoded[:,3]\n",
    "df_test['Parch4']=onehot_encoded[:,4]\n",
    "df_test['Parch5']=onehot_encoded[:,5]\n",
    "df_test['Parch6']=onehot_encoded[:,6]"
   ]
  },
  {
   "cell_type": "markdown",
   "metadata": {},
   "source": [
    "# ara afegiria una categoritzacio del FARE (sembla que te certa correlacio amb supervivencia)\n",
    "Al test, el Fare te 1 NaN... podriem veure quina classe es, i li posem la mitja en funcio de la classe?"
   ]
  },
  {
   "cell_type": "code",
   "execution_count": 30,
   "metadata": {},
   "outputs": [
    {
     "data": {
      "image/png": "[encoded data removed]",
      "text/plain": [
       "<Figure size 432x288 with 1 Axes>"
      ]
     },
     "metadata": {},
     "output_type": "display_data"
    }
   ],
   "source": [
    "sns.distplot(df_train['Fare'])\n",
    "plt.show()\n"
   ]
  },
  {
   "cell_type": "code",
   "execution_count": 52,
   "metadata": {},
   "outputs": [
    {
     "name": "stdout",
     "output_type": "stream",
     "text": [
      "35.6271884892086\n",
      "Pclass\n",
      "1    94.280297\n",
      "2    22.202104\n",
      "3    12.459678\n",
      "Name: Fare, dtype: float64\n"
     ]
    }
   ],
   "source": [
    "print (df_test['Fare'].mean())\n",
    "print (df_test.groupby(['Pclass'])['Fare'].mean())"
   ]
  },
  {
   "cell_type": "code",
   "execution_count": 37,
   "metadata": {},
   "outputs": [
    {
     "name": "stdout",
     "output_type": "stream",
     "text": [
      "     PassengerId  Pclass                Name   Sex   Age  SibSp  Parch Ticket  \\\n",
      "152         1044       3  Storey, Mr. Thomas  male  60.5      0      0   3701   \n",
      "\n",
      "     Fare Cabin Embarked Deck  Number  Deck_A  Deck_B  Deck_C  Deck_D  Deck_E  \\\n",
      "152   NaN   NaN        S    X     NaN     0.0     0.0     0.0     0.0     0.0   \n",
      "\n",
      "     Deck_F  Deck_G  Deck_X AgeGroup  adult  bebe  infant  jove  nen  vell  \\\n",
      "152     0.0     0.0     1.0     vell    0.0   0.0     0.0   0.0  0.0   1.0   \n",
      "\n",
      "     female  male  Pclass1  Pclass2  Pclass3  SibSp0  SibSp1  SibSp2  SibSp3  \\\n",
      "152     0.0   1.0      0.0      0.0      1.0     1.0     0.0     0.0     0.0   \n",
      "\n",
      "     SibSp4  SibSp5  SibSp8  Parch0  Parch1  Parch2  Parch3  Parch4  Parch5  \\\n",
      "152     0.0     0.0     0.0     1.0     0.0     0.0     0.0     0.0     0.0   \n",
      "\n",
      "     Parch6  \n",
      "152     0.0  \n"
     ]
    }
   ],
   "source": [
    "pd.set_option('display.max_columns', 47)\n",
    "print(df_test[df_test['Fare'].isnull()])"
   ]
  },
  {
   "cell_type": "markdown",
   "metadata": {},
   "source": [
    "El que tenim sense dades es de 3 classe, posem el valor de fare mig per pclass==3"
   ]
  },
  {
   "cell_type": "code",
   "execution_count": 53,
   "metadata": {},
   "outputs": [
    {
     "name": "stderr",
     "output_type": "stream",
     "text": [
      "C:\\Users\\Pablo\\Anaconda3\\lib\\site-packages\\ipykernel_launcher.py:1: SettingWithCopyWarning: \n",
      "A value is trying to be set on a copy of a slice from a DataFrame\n",
      "\n",
      "See the caveats in the documentation: http://pandas.pydata.org/pandas-docs/stable/indexing.html#indexing-view-versus-copy\n",
      "  \"\"\"Entry point for launching an IPython kernel.\n"
     ]
    }
   ],
   "source": [
    "df_test['Fare'][df_test['Fare'].isnull()] = 12.46"
   ]
  },
  {
   "cell_type": "code",
   "execution_count": 54,
   "metadata": {},
   "outputs": [
    {
     "name": "stdout",
     "output_type": "stream",
     "text": [
      "         Fare FareGroup\n",
      "0      7.2500        20\n",
      "1     71.2833        80\n",
      "2      7.9250        20\n",
      "3     53.1000        60\n",
      "4      8.0500        20\n",
      "5      8.4583        20\n",
      "6     51.8625        60\n",
      "7     21.0750        40\n",
      "8     11.1333        20\n",
      "9     30.0708        40\n",
      "10    16.7000        20\n",
      "11    26.5500        40\n",
      "12     8.0500        20\n",
      "13    31.2750        40\n",
      "14     7.8542        20\n",
      "15    16.0000        20\n",
      "16    29.1250        40\n",
      "17    13.0000        20\n",
      "18    18.0000        20\n",
      "19     7.2250        20\n",
      "20    26.0000        40\n",
      "21    13.0000        20\n",
      "22     8.0292        20\n",
      "23    35.5000        40\n",
      "24    21.0750        40\n",
      "25    31.3875        40\n",
      "26     7.2250        20\n",
      "27   263.0000       300\n",
      "28     7.8792        20\n",
      "29     7.8958        20\n",
      "..        ...       ...\n",
      "861   11.5000        20\n",
      "862   25.9292        40\n",
      "863   69.5500        80\n",
      "864   13.0000        20\n",
      "865   13.0000        20\n",
      "866   13.8583        20\n",
      "867   50.4958        60\n",
      "868    9.5000        20\n",
      "869   11.1333        20\n",
      "870    7.8958        20\n",
      "871   52.5542        60\n",
      "872    5.0000        20\n",
      "873    9.0000        20\n",
      "874   24.0000        40\n",
      "875    7.2250        20\n",
      "876    9.8458        20\n",
      "877    7.8958        20\n",
      "878    7.8958        20\n",
      "879   83.1583       100\n",
      "880   26.0000        40\n",
      "881    7.8958        20\n",
      "882   10.5167        20\n",
      "883   10.5000        20\n",
      "884    7.0500        20\n",
      "885   29.1250        40\n",
      "886   13.0000        20\n",
      "887   30.0000        40\n",
      "888   23.4500        40\n",
      "889   30.0000        40\n",
      "890    7.7500        20\n",
      "\n",
      "[891 rows x 2 columns]\n",
      "[20, 80, 60, 40, 300, 200, 100, 600]\n",
      "Categories (8, object): [20 < 40 < 60 < 80 < 100 < 200 < 300 < 600]\n",
      "['20' '80' '20' '60' '20' '20' '60' '40' '20' '40' '20' '40' '20' '40'\n",
      " '20' '20' '40' '20' '20' '20' '40' '20' '20' '40' '40' '40' '20' '300'\n",
      " '20' '20' '40' '200' '20' '20' '100' '60' '20' '20' '20' '20' '20' '40'\n",
      " '20' '60' '20' '20' '20' '20' '40' '20' '40' '20' '80' '40' '80' '40'\n",
      " '20' '20' '40' '60' '20' '100' '100' '40' '40' '20' '20' '20' '20' '20'\n",
      " '20' '60' '80' '20' '60' '20' '20' '20' '40' '20' '20' '20' '20' '60'\n",
      " '20' '20' '40' '20' '300' '20' '20' '20' '80' '40' '20' '20' '40' '80'\n",
      " '40' '40' '20' '20' '80' '20' '20' '20' '20' '20' '20' '40' '60' '20'\n",
      " '20' '20' '20' '20' '20' '40' '300' '40' '80' '20' '40' '20' '80' '20'\n",
      " '20' '20' '40' '20' '20' '20' '20' '40' '20' '20' '40' '60' '20' '80'\n",
      " '20' '20' '20' '20' '20' '40' '20' '40' '40' '20' '20' '80' '20' '20'\n",
      " '20' '80' '20' '20' '20' '80' '20' '20' '20' '20' '40' '40' '60' '40'\n",
      " '40' '60' '40' '40' '20' '20' '40' '20' '40' '40' '20' '20' '80' '20'\n",
      " '40' '40' '40' '60' '20' '40' '20' '20' '20' '20' '20' '40' '40' '200'\n",
      " '20' '20' '20' '20' '20' '80' '20' '20' '20' '20' '20' '20' '20' '40'\n",
      " '20' '40' '20' '20' '20' '200' '20' '40' '80' '20' '20' '20' '20' '20'\n",
      " '100' '20' '20' '20' '20' '40' '100' '20' '20' '40' '20' '20' '40' '40'\n",
      " '20' '20' '20' '20' '20' '20' '20' '100' '20' '20' '60' '40' '20' '20'\n",
      " '40' '20' '40' '20' '80' '100' '600' '40' '20' '40' '80' '20' '20' '20'\n",
      " '40' '20' '200' '200' '40' '20' '20' '40' '20' '80' '20' '20' '40' '40'\n",
      " '20' '20' '20' '20' '40' '20' '20' '20' '20' '20' '80' '100' '20' '20'\n",
      " '20' '40' '20' '200' '40' '300' '20' '40' '20' '20' '20' '200' '200'\n",
      " '200' '40' '60' '100' '300' '40' '20' '40' '20' '40' '20' '200' '200'\n",
      " '20' '20' '20' '40' '80' '200' '20' '20' '40' '60' '40' '40' '200' '20'\n",
      " '200' '20' '80' '200' '20' '40' '40' '300' '20' '20' '20' '20' '20' '20'\n",
      " '20' '20' '20' '40' '20' '20' '20' '20' '60' '20' '20' '20' '40' '40'\n",
      " '20' '20' '20' '20' '80' '20' '20' '80' '60' '20' '20' '200' '40' '100'\n",
      " '20' '300' '20' '20' '300' '20' '20' '60' '20' '80' '60' '20' '20' '20'\n",
      " '200' '20' '20' '200' '20' '20' '20' '40' '20' '20' '20' '20' '20' '20'\n",
      " '20' '40' '20' '20' '20' '40' '20' '20' '100' '20' '20' '20' '40' '20'\n",
      " '20' '40' '20' '20' '20' '20' '40' '20' '40' '40' '20' '20' '40' '20'\n",
      " '40' '20' '60' '200' '40' '20' '300' '20' '40' '20' '20' '20' '20' '100'\n",
      " '20' '40' '20' '40' '40' '20' '40' '100' '20' '20' '40' '60' '20' '20'\n",
      " '40' '20' '40' '20' '20' '20' '20' '40' '20' '20' '20' '20' '40' '20'\n",
      " '20' '60' '40' '20' '20' '20' '60' '20' '20' '20' '100' '40' '100' '40'\n",
      " '20' '20' '20' '20' '40' '60' '20' '20' '80' '20' '200' '20' '20' '20'\n",
      " '20' '20' '100' '200' '40' '40' '40' '60' '20' '20' '40' '60' '20' '40'\n",
      " '20' '40' '40' '20' '100' '20' '20' '60' '20' '20' '20' '300' '20' '20'\n",
      " '40' '20' '20' '40' '20' '40' '40' '200' '20' '60' '80' '40' '40' '40'\n",
      " '200' '40' '40' '20' '40' '40' '200' '40' '20' '20' '20' '40' '40' '300'\n",
      " '80' '20' '20' '20' '20' '20' '20' '40' '20' '40' '20' '20' '20' '60'\n",
      " '40' '20' '20' '20' '20' '60' '20' '20' '40' '200' '40' '60' '20' '80'\n",
      " '20' '80' '20' '20' '20' '80' '20' '20' '40' '40' '40' '20' '20' '60'\n",
      " '40' '20' '60' '20' '40' '20' '20' '40' '60' '200' '40' '20' '20' '20'\n",
      " '20' '80' '20' '20' '40' '20' '20' '60' '20' '20' '20' '40' '20' '80'\n",
      " '20' '20' '40' '20' '40' '20' '40' '20' '20' '40' '40' '20' '20' '80'\n",
      " '40' '60' '20' '80' '20' '40' '20' '20' '20' '40' '20' '20' '20' '80'\n",
      " '20' '20' '20' '200' '200' '20' '40' '20' '20' '80' '20' '20' '20' '60'\n",
      " '40' '60' '20' '20' '20' '20' '20' '20' '60' '600' '20' '80' '20' '60'\n",
      " '40' '60' '40' '20' '20' '300' '60' '20' '60' '20' '40' '20' '20' '20'\n",
      " '200' '20' '300' '40' '20' '20' '20' '40' '20' '40' '200' '20' '60' '40'\n",
      " '60' '20' '20' '20' '300' '20' '20' '20' '40' '20' '20' '20' '60' '20'\n",
      " '40' '20' '40' '20' '300' '20' '20' '20' '20' '20' '40' '600' '20' '20'\n",
      " '40' '80' '300' '20' '20' '80' '40' '20' '60' '20' '40' '20' '20' '20'\n",
      " '80' '20' '20' '20' '20' '100' '20' '20' '20' '200' '20' '80' '40' '20'\n",
      " '40' '20' '20' '20' '20' '20' '40' '20' '20' '20' '20' '300' '20' '60'\n",
      " '40' '40' '20' '20' '20' '40' '40' '80' '20' '40' '80' '40' '20' '20'\n",
      " '40' '20' '20' '40' '20' '40' '200' '20' '20' '20' '20' '20' '20' '60'\n",
      " '20' '40' '20' '40' '20' '20' '20' '40' '20' '40' '100' '20' '20' '20'\n",
      " '40' '20' '60' '40' '20' '100' '20' '20' '20' '20' '20' '100' '20' '20'\n",
      " '60' '40' '20' '20' '40' '20' '20' '20' '80' '20' '40' '100' '40' '20'\n",
      " '20' '40' '40' '20' '200' '40' '20' '20' '20' '20' '40' '80' '20' '20'\n",
      " '20' '60' '20' '20' '20' '60' '20' '20' '40' '20' '20' '20' '20' '100'\n",
      " '40' '20' '20' '20' '20' '40' '20' '40' '40' '40' '20']\n",
      "[1 7 1 5 1 1 5 4 1 4 1 4 1 4 1 1 4 1 1 1 4 1 1 4 4 4 1 3 1 1 4 2 1 1 0 5 1\n",
      " 1 1 1 1 4 1 5 1 1 1 1 4 1 4 1 7 4 7 4 1 1 4 5 1 0 0 4 4 1 1 1 1 1 1 5 7 1\n",
      " 5 1 1 1 4 1 1 1 1 5 1 1 4 1 3 1 1 1 7 4 1 1 4 7 4 4 1 1 7 1 1 1 1 1 1 4 5\n",
      " 1 1 1 1 1 1 4 3 4 7 1 4 1 7 1 1 1 4 1 1 1 1 4 1 1 4 5 1 7 1 1 1 1 1 4 1 4\n",
      " 4 1 1 7 1 1 1 7 1 1 1 7 1 1 1 1 4 4 5 4 4 5 4 4 1 1 4 1 4 4 1 1 7 1 4 4 4\n",
      " 5 1 4 1 1 1 1 1 4 4 2 1 1 1 1 1 7 1 1 1 1 1 1 1 4 1 4 1 1 1 2 1 4 7 1 1 1\n",
      " 1 1 0 1 1 1 1 4 0 1 1 4 1 1 4 4 1 1 1 1 1 1 1 0 1 1 5 4 1 1 4 1 4 1 7 0 6\n",
      " 4 1 4 7 1 1 1 4 1 2 2 4 1 1 4 1 7 1 1 4 4 1 1 1 1 4 1 1 1 1 1 7 0 1 1 1 4\n",
      " 1 2 4 3 1 4 1 1 1 2 2 2 4 5 0 3 4 1 4 1 4 1 2 2 1 1 1 4 7 2 1 1 4 5 4 4 2\n",
      " 1 2 1 7 2 1 4 4 3 1 1 1 1 1 1 1 1 1 4 1 1 1 1 5 1 1 1 4 4 1 1 1 1 7 1 1 7\n",
      " 5 1 1 2 4 0 1 3 1 1 3 1 1 5 1 7 5 1 1 1 2 1 1 2 1 1 1 4 1 1 1 1 1 1 1 4 1\n",
      " 1 1 4 1 1 0 1 1 1 4 1 1 4 1 1 1 1 4 1 4 4 1 1 4 1 4 1 5 2 4 1 3 1 4 1 1 1\n",
      " 1 0 1 4 1 4 4 1 4 0 1 1 4 5 1 1 4 1 4 1 1 1 1 4 1 1 1 1 4 1 1 5 4 1 1 1 5\n",
      " 1 1 1 0 4 0 4 1 1 1 1 4 5 1 1 7 1 2 1 1 1 1 1 0 2 4 4 4 5 1 1 4 5 1 4 1 4\n",
      " 4 1 0 1 1 5 1 1 1 3 1 1 4 1 1 4 1 4 4 2 1 5 7 4 4 4 2 4 4 1 4 4 2 4 1 1 1\n",
      " 4 4 3 7 1 1 1 1 1 1 4 1 4 1 1 1 5 4 1 1 1 1 5 1 1 4 2 4 5 1 7 1 7 1 1 1 7\n",
      " 1 1 4 4 4 1 1 5 4 1 5 1 4 1 1 4 5 2 4 1 1 1 1 7 1 1 4 1 1 5 1 1 1 4 1 7 1\n",
      " 1 4 1 4 1 4 1 1 4 4 1 1 7 4 5 1 7 1 4 1 1 1 4 1 1 1 7 1 1 1 2 2 1 4 1 1 7\n",
      " 1 1 1 5 4 5 1 1 1 1 1 1 5 6 1 7 1 5 4 5 4 1 1 3 5 1 5 1 4 1 1 1 2 1 3 4 1\n",
      " 1 1 4 1 4 2 1 5 4 5 1 1 1 3 1 1 1 4 1 1 1 5 1 4 1 4 1 3 1 1 1 1 1 4 6 1 1\n",
      " 4 7 3 1 1 7 4 1 5 1 4 1 1 1 7 1 1 1 1 0 1 1 1 2 1 7 4 1 4 1 1 1 1 1 4 1 1\n",
      " 1 1 3 1 5 4 4 1 1 1 4 4 7 1 4 7 4 1 1 4 1 1 4 1 4 2 1 1 1 1 1 1 5 1 4 1 4\n",
      " 1 1 1 4 1 4 0 1 1 1 4 1 5 4 1 0 1 1 1 1 1 0 1 1 5 4 1 1 4 1 1 1 7 1 4 0 4\n",
      " 1 1 4 4 1 2 4 1 1 1 1 4 7 1 1 1 5 1 1 1 5 1 1 4 1 1 1 1 0 4 1 1 1 1 4 1 4\n",
      " 4 4 1]\n"
     ]
    }
   ],
   "source": [
    "# fem grups de fare en plan: 0,20,40,60,80,100,200,300,400,500,600\n",
    "# en aquest bloc definim una columna categoritzant les edats\n",
    "bins= [0,20,40,60,80,100,200,300,400,500,600]\n",
    "labels = ['20','40','60','80','100','200','300','400','500','600']\n",
    "df_train['FareGroup'] = pd.cut(df_train['Fare'], bins=bins, labels=labels, right=False)\n",
    "print(df_train[['Fare','FareGroup']])\n",
    "\n",
    "del values\n",
    "print (df_train['FareGroup'].unique())\n",
    "values = array(df_train['FareGroup'])\n",
    "print(values)\n",
    "onehot_encoded = hot_encode_PC(values)\n",
    "\n",
    "\n",
    "# ha codificat aixi: 100-0, 20-1, 200-2, 300-3,  40-4, 60-5, 600-6, 80-7\n",
    "df_train['Fare20']=onehot_encoded[:,0]\n",
    "df_train['Fare40']=onehot_encoded[:,1]\n",
    "df_train['Fare60']=onehot_encoded[:,2]\n",
    "df_train['Fare80']=onehot_encoded[:,3]\n",
    "df_train['Fare100']=onehot_encoded[:,4]\n",
    "df_train['Fare200']=onehot_encoded[:,5]\n",
    "df_train['Fare300']=onehot_encoded[:,6]\n",
    "df_train['Fare600']=onehot_encoded[:,7]"
   ]
  },
  {
   "cell_type": "code",
   "execution_count": 55,
   "metadata": {},
   "outputs": [
    {
     "name": "stdout",
     "output_type": "stream",
     "text": [
      "         Fare FareGroup\n",
      "0      7.8292        20\n",
      "1      7.0000        20\n",
      "2      9.6875        20\n",
      "3      8.6625        20\n",
      "4     12.2875        20\n",
      "5      9.2250        20\n",
      "6      7.6292        20\n",
      "7     29.0000        40\n",
      "8      7.2292        20\n",
      "9     24.1500        40\n",
      "10     7.8958        20\n",
      "11    26.0000        40\n",
      "12    82.2667       100\n",
      "13    26.0000        40\n",
      "14    61.1750        80\n",
      "15    27.7208        40\n",
      "16    12.3500        20\n",
      "17     7.2250        20\n",
      "18     7.9250        20\n",
      "19     7.2250        20\n",
      "20    59.4000        60\n",
      "21     3.1708        20\n",
      "22    31.6833        40\n",
      "23    61.3792        80\n",
      "24   262.3750       300\n",
      "25    14.5000        20\n",
      "26    61.9792        80\n",
      "27     7.2250        20\n",
      "28    30.5000        40\n",
      "29    21.6792        40\n",
      "..        ...       ...\n",
      "388    7.7500        20\n",
      "389   21.0750        40\n",
      "390   93.5000       100\n",
      "391   39.4000        40\n",
      "392   20.2500        40\n",
      "393   10.5000        20\n",
      "394   22.0250        40\n",
      "395   60.0000        80\n",
      "396    7.2500        20\n",
      "397   79.2000        80\n",
      "398    7.7750        20\n",
      "399    7.7333        20\n",
      "400  164.8667       200\n",
      "401   21.0000        40\n",
      "402   59.4000        60\n",
      "403   47.1000        60\n",
      "404   27.7208        40\n",
      "405   13.8625        20\n",
      "406   10.5000        20\n",
      "407  211.5000       300\n",
      "408    7.7208        20\n",
      "409   13.7750        20\n",
      "410    7.7500        20\n",
      "411   90.0000       100\n",
      "412    7.7750        20\n",
      "413    8.0500        20\n",
      "414  108.9000       200\n",
      "415    7.2500        20\n",
      "416    8.0500        20\n",
      "417   22.3583        40\n",
      "\n",
      "[418 rows x 2 columns]\n",
      "[20, 40, 100, 80, 60, 300, 200, 600]\n",
      "Categories (8, object): [20 < 40 < 60 < 80 < 100 < 200 < 300 < 600]\n",
      "['20' '20' '20' '20' '20' '20' '20' '40' '20' '40' '20' '40' '100' '40'\n",
      " '80' '40' '20' '20' '20' '20' '60' '20' '40' '80' '300' '20' '80' '20'\n",
      " '40' '40' '40' '40' '40' '40' '60' '20' '20' '20' '20' '60' '20' '40'\n",
      " '20' '20' '60' '20' '40' '20' '80' '20' '80' '20' '40' '300' '20' '40'\n",
      " '20' '20' '20' '300' '20' '20' '20' '20' '300' '40' '20' '60' '40' '300'\n",
      " '20' '20' '20' '40' '300' '300' '20' '40' '20' '20' '20' '300' '40' '20'\n",
      " '20' '20' '20' '20' '20' '40' '20' '20' '60' '20' '40' '20' '80' '20'\n",
      " '20' '20' '60' '40' '20' '20' '20' '40' '20' '20' '20' '20' '20' '20'\n",
      " '40' '20' '300' '20' '20' '20' '80' '40' '20' '20' '60' '20' '20' '20'\n",
      " '20' '40' '20' '20' '20' '40' '40' '20' '20' '20' '20' '20' '20' '60'\n",
      " '60' '200' '300' '40' '40' '20' '60' '20' '40' '40' '100' '20' '20' '20'\n",
      " '40' '20' '300' '20' '40' '20' '20' '20' '20' '20' '20' '40' '60' '40'\n",
      " '40' '20' '20' '20' '20' '20' '40' '40' '40' '60' '40' '100' '20' '100'\n",
      " '60' '20' '300' '20' '40' '20' '80' '20' '40' '40' '20' '20' '40' '20'\n",
      " '200' '20' '20' '20' '20' '20' '300' '40' '20' '40' '20' '20' '40' '20'\n",
      " '40' '20' '80' '40' '20' '60' '20' '200' '300' '20' '20' '20' '20' '20'\n",
      " '40' '20' '20' '20' '20' '20' '80' '40' '20' '20' '80' '20' '80' '20'\n",
      " '20' '200' '40' '40' '200' '20' '40' '60' '40' '40' '40' '20' '40' '20'\n",
      " '200' '20' '20' '20' '20' '20' '20' '20' '20' '20' '40' '20' '20' '20'\n",
      " '20' '20' '20' '20' '80' '20' '200' '20' '20' '40' '20' '40' '40' '20'\n",
      " '20' '20' '20' '20' '40' '20' '20' '100' '20' '20' '40' '20' '20' '100'\n",
      " '20' '20' '60' '40' '60' '20' '20' '20' '40' '20' '20' '40' '200' '20'\n",
      " '100' '20' '20' '20' '20' '20' '200' '20' '200' '20' '20' '40' '20' '20'\n",
      " '20' '40' '300' '20' '40' '80' '40' '20' '40' '40' '20' '20' '20' '40'\n",
      " '20' '20' '40' '20' '20' '20' '80' '600' '20' '20' '20' '20' '20' '40'\n",
      " '80' '20' '80' '80' '40' '40' '60' '20' '20' '20' '80' '40' '40' '20'\n",
      " '60' '80' '20' '40' '60' '20' '20' '200' '20' '20' '100' '300' '20' '20'\n",
      " '60' '40' '20' '20' '20' '20' '20' '80' '20' '20' '20' '40' '100' '40'\n",
      " '40' '20' '40' '80' '20' '80' '20' '20' '200' '40' '60' '60' '40' '20'\n",
      " '20' '300' '20' '20' '20' '100' '20' '20' '200' '20' '20' '40']\n",
      "[1 1 1 1 1 1 1 4 1 4 1 4 0 4 7 4 1 1 1 1 5 1 4 7 3 1 7 1 4 4 4 4 4 4 5 1 1\n",
      " 1 1 5 1 4 1 1 5 1 4 1 7 1 7 1 4 3 1 4 1 1 1 3 1 1 1 1 3 4 1 5 4 3 1 1 1 4\n",
      " 3 3 1 4 1 1 1 3 4 1 1 1 1 1 1 4 1 1 5 1 4 1 7 1 1 1 5 4 1 1 1 4 1 1 1 1 1\n",
      " 1 4 1 3 1 1 1 7 4 1 1 5 1 1 1 1 4 1 1 1 4 4 1 1 1 1 1 1 5 5 2 3 4 4 1 5 1\n",
      " 4 4 0 1 1 1 4 1 3 1 4 1 1 1 1 1 1 4 5 4 4 1 1 1 1 1 4 4 4 5 4 0 1 0 5 1 3\n",
      " 1 4 1 7 1 4 4 1 1 4 1 2 1 1 1 1 1 3 4 1 4 1 1 4 1 4 1 7 4 1 5 1 2 3 1 1 1\n",
      " 1 1 4 1 1 1 1 1 7 4 1 1 7 1 7 1 1 2 4 4 2 1 4 5 4 4 4 1 4 1 2 1 1 1 1 1 1\n",
      " 1 1 1 4 1 1 1 1 1 1 1 7 1 2 1 1 4 1 4 4 1 1 1 1 1 4 1 1 0 1 1 4 1 1 0 1 1\n",
      " 5 4 5 1 1 1 4 1 1 4 2 1 0 1 1 1 1 1 2 1 2 1 1 4 1 1 1 4 3 1 4 7 4 1 4 4 1\n",
      " 1 1 4 1 1 4 1 1 1 7 6 1 1 1 1 1 4 7 1 7 7 4 4 5 1 1 1 7 4 4 1 5 7 1 4 5 1\n",
      " 1 2 1 1 0 3 1 1 5 4 1 1 1 1 1 7 1 1 1 4 0 4 4 1 4 7 1 7 1 1 2 4 5 5 4 1 1\n",
      " 3 1 1 1 0 1 1 2 1 1 4]\n"
     ]
    }
   ],
   "source": [
    "df_test['FareGroup'] = pd.cut(df_test['Fare'], bins=bins, labels=labels, right=False)\n",
    "print(df_test[['Fare','FareGroup']])\n",
    "\n",
    "del values\n",
    "print (df_test['FareGroup'].unique())\n",
    "values = array(df_test['FareGroup'])\n",
    "print(values)\n",
    "onehot_encoded = hot_encode_PC(values)\n",
    "\n",
    "\n",
    "# ha codificat aixi: 100-0, 20-1, 200-2, 300-3,  40-4, 60-5, 600-6, 80-7\n",
    "df_test['Fare20']=onehot_encoded[:,0]\n",
    "df_test['Fare40']=onehot_encoded[:,1]\n",
    "df_test['Fare60']=onehot_encoded[:,2]\n",
    "df_test['Fare80']=onehot_encoded[:,3]\n",
    "df_test['Fare100']=onehot_encoded[:,4]\n",
    "df_test['Fare200']=onehot_encoded[:,5]\n",
    "df_test['Fare300']=onehot_encoded[:,6]\n",
    "df_test['Fare600']=onehot_encoded[:,7]"
   ]
  },
  {
   "cell_type": "markdown",
   "metadata": {},
   "source": [
    "# el dataframe amb el que aplicarem el model: df_Titanic"
   ]
  },
  {
   "cell_type": "code",
   "execution_count": 58,
   "metadata": {},
   "outputs": [],
   "source": [
    "# ara ens quedem amb un dataframe amb nomes aquells labels que ens interssen pel model\n",
    "df_Titanic = df_train[['Survived','adult','bebe','infant','jove','nen','vell','female','male','Pclass1','Pclass2',\n",
    "                       'Pclass3','Deck_A','Deck_B','Deck_C','Deck_D','Deck_E','Deck_F','Deck_G','Deck_X',\n",
    "                       'SibSp0','SibSp1','SibSp2','SibSp3','SibSp4','SibSp5','SibSp8',\n",
    "                       'Parch0','Parch1','Parch2','Parch3','Parch4','Parch5','Parch6',\n",
    "                       'Fare20','Fare40','Fare60','Fare80','Fare100','Fare200','Fare300','Fare600']]\n",
    "\n",
    "df_Titanic_test = df_test[['adult','bebe','infant','jove','nen','vell','female','male','Pclass1','Pclass2',\n",
    "                       'Pclass3','Deck_A','Deck_B','Deck_C','Deck_D','Deck_E','Deck_F','Deck_G','Deck_X',\n",
    "                       'SibSp0','SibSp1','SibSp2','SibSp3','SibSp4','SibSp5','SibSp8',\n",
    "                       'Parch0','Parch1','Parch2','Parch3','Parch4','Parch5','Parch6',\n",
    "                       'Fare20','Fare40','Fare60','Fare80','Fare100','Fare200','Fare300','Fare600']]\n"
   ]
  },
  {
   "cell_type": "code",
   "execution_count": 59,
   "metadata": {},
   "outputs": [
    {
     "name": "stdout",
     "output_type": "stream",
     "text": [
      "Survived    1.000000\n",
      "adult      -0.073645\n",
      "bebe        0.122966\n",
      "infant      0.077441\n",
      "jove       -0.008758\n",
      "nen         0.044716\n",
      "vell       -0.040857\n",
      "female      0.543351\n",
      "male       -0.543351\n",
      "Pclass1     0.285904\n",
      "Pclass2     0.093349\n",
      "Pclass3    -0.322308\n",
      "Deck_A      0.022287\n",
      "Deck_B      0.175095\n",
      "Deck_C      0.114652\n",
      "Deck_D      0.150716\n",
      "Deck_E      0.145321\n",
      "Deck_F      0.057935\n",
      "Deck_G      0.016040\n",
      "Deck_X     -0.316912\n",
      "SibSp0     -0.115867\n",
      "SibSp1      0.173076\n",
      "SibSp2      0.029796\n",
      "SibSp3     -0.037215\n",
      "SibSp4     -0.064123\n",
      "SibSp5     -0.059292\n",
      "SibSp8     -0.070234\n",
      "Parch0     -0.147408\n",
      "Parch1      0.134174\n",
      "Parch2      0.075020\n",
      "Parch3      0.033391\n",
      "Parch4     -0.053002\n",
      "Parch5     -0.028398\n",
      "Parch6     -0.026456\n",
      "Fare20      0.162583\n",
      "Fare40     -0.255496\n",
      "Fare60      0.150716\n",
      "Fare80      0.075486\n",
      "Fare100     0.051066\n",
      "Fare200     0.099358\n",
      "Fare300     0.073642\n",
      "Fare600     0.055730\n",
      "Name: Survived, dtype: float64\n"
     ]
    }
   ],
   "source": [
    "cor=df_Titanic.corr()\n",
    "print(cor.Survived)"
   ]
  },
  {
   "cell_type": "markdown",
   "metadata": {},
   "source": [
    "# Primer test de model --> Sembla que el millor era LogisticRegression\n",
    "\n",
    "exemple: https://www.kaggle.com/gautham11/building-a-scikit-learn-classification-pipeline"
   ]
  },
  {
   "cell_type": "code",
   "execution_count": null,
   "metadata": {},
   "outputs": [],
   "source": []
  },
  {
   "cell_type": "code",
   "execution_count": null,
   "metadata": {},
   "outputs": [],
   "source": []
  },
  {
   "cell_type": "code",
   "execution_count": null,
   "metadata": {},
   "outputs": [],
   "source": [
    "# hem algunes proves i sembla que els millors resultats, per ara son sense considerar els Parch ni fare\n",
    "# Ara provare sense Parch nomes"
   ]
  },
  {
   "cell_type": "code",
   "execution_count": 125,
   "metadata": {},
   "outputs": [
    {
     "name": "stdout",
     "output_type": "stream",
     "text": [
      "(891, 28)\n",
      "(891, 26) (891,)\n"
     ]
    }
   ],
   "source": [
    "from sklearn.model_selection import train_test_split\n",
    "# fem un primer test..model?\n",
    "kk = array(df_Titanic)\n",
    "print (kk.shape)\n",
    "#kkx= kk[:,1:43] # amb aixo ho tenim tot en compte\n",
    "#kkx= kk[:,1:35] # sense el Fare\n",
    "kkx= kk[:,1:27] # sense Parch\n",
    "kky= kk[:,0]\n",
    "print (kkx.shape, kky.shape)\n",
    "\n",
    "X_train, X_test, y_train, y_test = train_test_split(kkx, kky, test_size=0.20)"
   ]
  },
  {
   "cell_type": "code",
   "execution_count": 126,
   "metadata": {},
   "outputs": [
    {
     "name": "stdout",
     "output_type": "stream",
     "text": [
      "---------------------------------\n",
      "LogisticRegression(C=1.0, class_weight=None, dual=False, fit_intercept=True,\n",
      "          intercept_scaling=1, max_iter=100, multi_class='ovr', n_jobs=1,\n",
      "          penalty='l2', random_state=None, solver='liblinear', tol=0.0001,\n",
      "          verbose=0, warm_start=False)\n",
      "-----------------------------------\n",
      "fit_time  mean  0.003000179926554362\n",
      "fit_time  std  2.08152148782552e-06\n",
      "score_time  mean  0.0010007222493489583\n",
      "score_time  std  4.052336624139774e-07\n",
      "test_score  mean  0.7795270006736872\n",
      "test_score  std  0.018543708432345322\n",
      "train_score  mean  0.8272485009993339\n",
      "train_score  std  0.0015743539651204817\n",
      "---------------------------------\n",
      "SVC(C=1.0, cache_size=200, class_weight=None, coef0=0.0,\n",
      "  decision_function_shape='ovr', degree=3, gamma='auto', kernel='rbf',\n",
      "  max_iter=-1, probability=False, random_state=None, shrinking=True,\n",
      "  tol=0.001, verbose=False)\n",
      "-----------------------------------\n",
      "fit_time  mean  0.016997416814168293\n",
      "fit_time  std  0.003558209880413971\n",
      "score_time  mean  0.007335742314656575\n",
      "score_time  std  0.003297851166324981\n",
      "test_score  mean  0.7809689276554503\n",
      "test_score  std  0.03526800478208268\n",
      "train_score  mean  0.7830216892442076\n",
      "train_score  std  0.016386606809151823\n",
      "---------------------------------\n",
      "GaussianNB(priors=None)\n",
      "-----------------------------------\n",
      "fit_time  mean  0.0043328603108723955\n",
      "fit_time  std  0.0016993013269448278\n",
      "score_time  mean  0.0016663869222005208\n",
      "score_time  std  0.0012465771185628239\n",
      "test_score  mean  0.5603304612984434\n",
      "test_score  std  0.12966094663726946\n",
      "train_score  mean  0.5920201347249981\n",
      "train_score  std  0.1441638496868732\n",
      "---------------------------------\n",
      "KNeighborsClassifier(algorithm='auto', leaf_size=30, metric='minkowski',\n",
      "           metric_params=None, n_jobs=1, n_neighbors=3, p=2,\n",
      "           weights='uniform')\n",
      "-----------------------------------\n",
      "fit_time  mean  0.00233308474222819\n",
      "fit_time  std  0.0012475960204325794\n",
      "score_time  mean  0.007999181747436523\n",
      "score_time  std  0.001633167023206261\n",
      "test_score  mean  0.8033778912408845\n",
      "test_score  std  0.010936865207221447\n",
      "train_score  mean  0.8328773410319047\n",
      "train_score  std  0.014493486456363487\n",
      "---------------------------------\n",
      "DecisionTreeClassifier(class_weight=None, criterion='gini', max_depth=None,\n",
      "            max_features=None, max_leaf_nodes=None,\n",
      "            min_impurity_decrease=0.0, min_impurity_split=None,\n",
      "            min_samples_leaf=1, min_samples_split=2,\n",
      "            min_weight_fraction_leaf=0.0, presort=False, random_state=None,\n",
      "            splitter='best')\n",
      "-----------------------------------\n",
      "fit_time  mean  0.0019988218943277993\n",
      "fit_time  std  0.00081526958781782\n",
      "score_time  mean  0.0006672541300455729\n",
      "score_time  std  0.00047182092410336313\n",
      "test_score  mean  0.8005767707927053\n",
      "test_score  std  0.010212842298446455\n",
      "train_score  mean  0.8637663779702421\n",
      "train_score  std  0.0025014583080536627\n",
      "---------------------------------\n",
      "RandomForestClassifier(bootstrap=True, class_weight=None, criterion='gini',\n",
      "            max_depth=None, max_features='auto', max_leaf_nodes=None,\n",
      "            min_impurity_decrease=0.0, min_impurity_split=None,\n",
      "            min_samples_leaf=1, min_samples_split=2,\n",
      "            min_weight_fraction_leaf=0.0, n_estimators=10, n_jobs=1,\n",
      "            oob_score=False, random_state=None, verbose=0,\n",
      "            warm_start=False)\n",
      "-----------------------------------\n",
      "fit_time  mean  0.021329720815022785\n",
      "fit_time  std  0.004027758480415301\n",
      "score_time  mean  0.002011458079020182\n",
      "score_time  std  1.556897459350947e-05\n",
      "test_score  mean  0.7963691805836258\n",
      "test_score  std  0.011707435263719194\n",
      "train_score  mean  0.8609593604263823\n",
      "train_score  std  0.004418430066657931\n",
      "---------------------------------\n",
      "GradientBoostingClassifier(criterion='friedman_mse', init=None,\n",
      "              learning_rate=0.1, loss='deviance', max_depth=3,\n",
      "              max_features=None, max_leaf_nodes=None,\n",
      "              min_impurity_decrease=0.0, min_impurity_split=None,\n",
      "              min_samples_leaf=1, min_samples_split=2,\n",
      "              min_weight_fraction_leaf=0.0, n_estimators=100,\n",
      "              presort='auto', random_state=None, subsample=1.0, verbose=0,\n",
      "              warm_start=False)\n",
      "-----------------------------------\n",
      "fit_time  mean  0.11398816108703613\n",
      "fit_time  std  0.005885906146414705\n",
      "score_time  mean  0.0013330777486165364\n",
      "score_time  std  0.0004713141679983425\n",
      "test_score  mean  0.8005708612558947\n",
      "test_score  std  0.009746942151202363\n",
      "train_score  mean  0.860253164556962\n",
      "train_score  std  0.0009310603702956272\n"
     ]
    }
   ],
   "source": [
    "from sklearn.model_selection import cross_validate\n",
    "from sklearn.svm import SVC\n",
    "from sklearn.linear_model import LogisticRegression\n",
    "from sklearn.neighbors import KNeighborsClassifier\n",
    "from sklearn.tree import DecisionTreeClassifier\n",
    "from sklearn.ensemble import RandomForestClassifier, GradientBoostingClassifier\n",
    "from sklearn.naive_bayes import GaussianNB\n",
    "\n",
    "clfs = []\n",
    "clfs.append(LogisticRegression())\n",
    "clfs.append(SVC())\n",
    "clfs.append(GaussianNB())\n",
    "clfs.append(KNeighborsClassifier(n_neighbors=3))\n",
    "clfs.append(DecisionTreeClassifier())\n",
    "clfs.append(RandomForestClassifier())\n",
    "clfs.append(GradientBoostingClassifier())\n",
    "\n",
    "for classifier in clfs:\n",
    "    pipeline.set_params(clf = classifier)\n",
    "    scores = cross_validate(pipeline, X_train, y_train)\n",
    "    print('---------------------------------')\n",
    "    print(str(classifier))\n",
    "    print('-----------------------------------')\n",
    "    for key, values in scores.items():\n",
    "            print(key,' mean ', values.mean())\n",
    "            print(key,' std ', values.std())"
   ]
  },
  {
   "cell_type": "markdown",
   "metadata": {},
   "source": [
    "## Resultats:\n",
    "Sembla que LogisticRegression > GradientBoostingClassifier > SVC > DecisionTreeClassifier > KNeighborsClassifier > Gaussian\n",
    "\n",
    "La idea ara seria fer un Pipeline i un GridSearch i veure si trobem parametres que ens milloren model"
   ]
  },
  {
   "cell_type": "code",
   "execution_count": 113,
   "metadata": {},
   "outputs": [
    {
     "data": {
      "text/plain": [
       "[('clf',\n",
       "  LogisticRegression(C=1.0, class_weight=None, dual=False, fit_intercept=True,\n",
       "            intercept_scaling=1, max_iter=100, multi_class='ovr', n_jobs=1,\n",
       "            penalty='l2', random_state=None, solver='liblinear', tol=0.0001,\n",
       "            verbose=0, warm_start=False))]"
      ]
     },
     "execution_count": 113,
     "metadata": {},
     "output_type": "execute_result"
    }
   ],
   "source": [
    "from sklearn.model_selection import GridSearchCV\n",
    "pipeline.set_params(clf= LogisticRegression())\n",
    "pipeline.steps"
   ]
  },
  {
   "cell_type": "code",
   "execution_count": 117,
   "metadata": {},
   "outputs": [
    {
     "data": {
      "text/plain": [
       "GridSearchCV(cv=None, error_score='raise',\n",
       "       estimator=Pipeline(memory=None,\n",
       "     steps=[('clf', LogisticRegression(C=1.0, class_weight=None, dual=False, fit_intercept=True,\n",
       "          intercept_scaling=1, max_iter=100, multi_class='ovr', n_jobs=1,\n",
       "          penalty='l2', random_state=None, solver='liblinear', tol=0.0001,\n",
       "          verbose=0, warm_start=False))]),\n",
       "       fit_params=None, iid=True, n_jobs=1,\n",
       "       param_grid=[{'clf__penalty': ['l2'], 'clf__dual': [True], 'clf__solver': ['liblinear'], 'clf__tol': [0.0001, 0.001, 0.01], 'clf__C': array([0.1    , 0.17368, 0.24737, 0.32105, 0.39474, 0.46842, 0.54211,\n",
       "       0.61579, 0.68947, 0.76316, 0.83684, 0.91053, 0.98421, 1.05789,\n",
       "       1.13158, 1.20526, 1.... 1.27895, 1.35263, 1.42632, 1.5    ]), 'clf__fit_intercept': [True, False], 'clf__max_iter': [200]}],\n",
       "       pre_dispatch='2*n_jobs', refit=True, return_train_score='warn',\n",
       "       scoring=None, verbose=0)"
      ]
     },
     "execution_count": 117,
     "metadata": {},
     "output_type": "execute_result"
    }
   ],
   "source": [
    "cv_grid = GridSearchCV(pipeline, param_grid = [\n",
    "    { \n",
    "          \"clf__penalty\": [\"l2\"],\n",
    "          \"clf__dual\":[True],\n",
    "          \"clf__solver\":['liblinear'],\n",
    "          \"clf__tol\":[0.0001, 0.001, 0.01],\n",
    "          \"clf__C\":np.linspace(0.1,1.5,20),\n",
    "          \"clf__fit_intercept\":[True, False],\n",
    "          \"clf__max_iter\":[200]\n",
    "          \n",
    "    },\n",
    "    { \n",
    "          \"clf__penalty\": [\"l2\"],\n",
    "          \"clf__dual\":[False],\n",
    "          \"clf__solver\":['lbfgs','newton-cg','sag'],\n",
    "          \"clf__tol\":[0.0001, 0.001, 0.01],\n",
    "          \"clf__C\":np.linspace(0.1,1.5,20),\n",
    "          \"clf__fit_intercept\":[True, False],\n",
    "          \"clf__max_iter\":[200]\n",
    "         \n",
    "    },\n",
    "    { \n",
    "          \"clf__penalty\": [\"l1\"],\n",
    "          \"clf__dual\":[False],\n",
    "          \"clf__solver\":['liblinear', 'saga'],\n",
    "          \"clf__tol\":[0.0001, 0.001, 0.01],\n",
    "          \"clf__C\":np.linspace(0.1,1.5,20),\n",
    "          \"clf__fit_intercept\":[True, False],\n",
    "          \"clf__max_iter\":[200]\n",
    "         \n",
    "    }\n",
    "])\n",
    "\n",
    "cv_grid.fit(X_train, y_train)"
   ]
  },
  {
   "cell_type": "code",
   "execution_count": 118,
   "metadata": {},
   "outputs": [
    {
     "name": "stdout",
     "output_type": "stream",
     "text": [
      "{'clf__C': 0.6894736842105262, 'clf__dual': True, 'clf__fit_intercept': True, 'clf__max_iter': 200, 'clf__penalty': 'l2', 'clf__solver': 'liblinear', 'clf__tol': 0.0001}\n",
      "Pipeline(memory=None,\n",
      "     steps=[('clf', LogisticRegression(C=0.6894736842105262, class_weight=None, dual=True,\n",
      "          fit_intercept=True, intercept_scaling=1, max_iter=200,\n",
      "          multi_class='ovr', n_jobs=1, penalty='l2', random_state=None,\n",
      "          solver='liblinear', tol=0.0001, verbose=0, warm_start=False))])\n",
      "0.8174157303370787\n"
     ]
    }
   ],
   "source": [
    "print (cv_grid.best_params_)\n",
    "print (cv_grid.best_estimator_)\n",
    "print (cv_grid.best_score_)"
   ]
  },
  {
   "cell_type": "markdown",
   "metadata": {},
   "source": [
    "# SVC"
   ]
  },
  {
   "cell_type": "code",
   "execution_count": 95,
   "metadata": {},
   "outputs": [
    {
     "data": {
      "text/plain": [
       "[('clf', SVC(C=1.0, cache_size=200, class_weight=None, coef0=0.0,\n",
       "    decision_function_shape='ovr', degree=3, gamma='auto', kernel='rbf',\n",
       "    max_iter=-1, probability=False, random_state=None, shrinking=True,\n",
       "    tol=0.001, verbose=False))]"
      ]
     },
     "execution_count": 95,
     "metadata": {},
     "output_type": "execute_result"
    }
   ],
   "source": [
    "from sklearn.model_selection import GridSearchCV\n",
    "pipeline.set_params(clf= SVC())\n",
    "pipeline.steps"
   ]
  },
  {
   "cell_type": "code",
   "execution_count": 96,
   "metadata": {},
   "outputs": [
    {
     "data": {
      "text/plain": [
       "GridSearchCV(cv=None, error_score='raise',\n",
       "       estimator=Pipeline(memory=None,\n",
       "     steps=[('clf', SVC(C=1.0, cache_size=200, class_weight=None, coef0=0.0,\n",
       "  decision_function_shape='ovr', degree=3, gamma='auto', kernel='rbf',\n",
       "  max_iter=-1, probability=False, random_state=None, shrinking=True,\n",
       "  tol=0.001, verbose=False))]),\n",
       "       fit_params=None, iid=True, n_jobs=1,\n",
       "       param_grid={'clf__kernel': ['linear', 'rbf'], 'clf__C': array([0.1, 0.2, 0.3, 0.4, 0.5, 0.6, 0.7, 0.8, 0.9, 1. , 1.1, 1.2])},\n",
       "       pre_dispatch='2*n_jobs', refit=True, return_train_score='warn',\n",
       "       scoring=None, verbose=0)"
      ]
     },
     "execution_count": 96,
     "metadata": {},
     "output_type": "execute_result"
    }
   ],
   "source": [
    "cv_grid = GridSearchCV(pipeline, param_grid = {\n",
    "    'clf__kernel' : ['linear', 'rbf'],\n",
    "    'clf__C' : np.linspace(0.1,1.2,12)\n",
    "})\n",
    "\n",
    "cv_grid.fit(X_train, y_train)"
   ]
  },
  {
   "cell_type": "code",
   "execution_count": 98,
   "metadata": {},
   "outputs": [
    {
     "data": {
      "text/plain": [
       "{'clf__C': 0.4, 'clf__kernel': 'linear'}"
      ]
     },
     "execution_count": 98,
     "metadata": {},
     "output_type": "execute_result"
    }
   ],
   "source": [
    "cv_grid.best_params_"
   ]
  },
  {
   "cell_type": "code",
   "execution_count": 99,
   "metadata": {},
   "outputs": [
    {
     "data": {
      "text/plain": [
       "Pipeline(memory=None,\n",
       "     steps=[('clf', SVC(C=0.4, cache_size=200, class_weight=None, coef0=0.0,\n",
       "  decision_function_shape='ovr', degree=3, gamma='auto', kernel='linear',\n",
       "  max_iter=-1, probability=False, random_state=None, shrinking=True,\n",
       "  tol=0.001, verbose=False))])"
      ]
     },
     "execution_count": 99,
     "metadata": {},
     "output_type": "execute_result"
    }
   ],
   "source": [
    "cv_grid.best_estimator_"
   ]
  },
  {
   "cell_type": "code",
   "execution_count": 100,
   "metadata": {},
   "outputs": [
    {
     "data": {
      "text/plain": [
       "0.7991573033707865"
      ]
     },
     "execution_count": 100,
     "metadata": {},
     "output_type": "execute_result"
    }
   ],
   "source": [
    "cv_grid.best_score_"
   ]
  },
  {
   "cell_type": "code",
   "execution_count": 82,
   "metadata": {},
   "outputs": [
    {
     "name": "stdout",
     "output_type": "stream",
     "text": [
      "(891, 43)\n",
      "(891, 42) (891,)\n"
     ]
    }
   ],
   "source": [
    "from sklearn.model_selection import train_test_split\n",
    "# fem un primer test..model?\n",
    "kk = array(df_Titanic)\n",
    "print (kk.shape)\n",
    "kkx= kk[:,1:43] # amb aixo ho tenim tot en compte\n",
    "#kkx= kk[:,1:35] # sense el Fare\n",
    "kky= kk[:,0]\n",
    "print (kkx.shape, kky.shape)\n",
    "\n",
    "X_train, X_test, y_train, y_test = train_test_split(kkx, kky, test_size=0.10)"
   ]
  },
  {
   "cell_type": "code",
   "execution_count": null,
   "metadata": {},
   "outputs": [],
   "source": []
  },
  {
   "cell_type": "code",
   "execution_count": null,
   "metadata": {},
   "outputs": [],
   "source": []
  },
  {
   "cell_type": "code",
   "execution_count": 83,
   "metadata": {},
   "outputs": [
    {
     "name": "stdout",
     "output_type": "stream",
     "text": [
      "score = 0.81\n"
     ]
    }
   ],
   "source": [
    "from sklearn.svm import LinearSVC, LinearSVR, SVC\n",
    "clf=LinearSVC(C=1, dual=False, fit_intercept=True, intercept_scaling=10,penalty='l2',)\n",
    "clf.fit(X_train,y_train)\n",
    "\n",
    "clf.predict(X_test)\n",
    "\n",
    "print (\"score = %3.2f\" %(clf.score(X_test,y_test)) )"
   ]
  },
  {
   "cell_type": "markdown",
   "metadata": {},
   "source": [
    "# LogisticRegression"
   ]
  },
  {
   "cell_type": "code",
   "execution_count": 84,
   "metadata": {},
   "outputs": [
    {
     "name": "stdout",
     "output_type": "stream",
     "text": [
      "score = 0.80\n"
     ]
    }
   ],
   "source": [
    "from sklearn.linear_model import LogisticRegression\n",
    "clf=LogisticRegression()\n",
    "clf.fit(X_train,y_train)\n",
    "\n",
    "clf.predict(X_test)\n",
    "\n",
    "print (\"score = %3.2f\" %(clf.score(X_test,y_test)) )"
   ]
  },
  {
   "cell_type": "code",
   "execution_count": 86,
   "metadata": {},
   "outputs": [
    {
     "name": "stderr",
     "output_type": "stream",
     "text": [
      "C:\\Users\\Pablo\\Anaconda3\\lib\\site-packages\\sklearn\\linear_model\\sag.py:326: ConvergenceWarning: The max_iter was reached which means the coef_ did not converge\n",
      "  \"the coef_ did not converge\", ConvergenceWarning)\n",
      "C:\\Users\\Pablo\\Anaconda3\\lib\\site-packages\\sklearn\\linear_model\\sag.py:326: ConvergenceWarning: The max_iter was reached which means the coef_ did not converge\n",
      "  \"the coef_ did not converge\", ConvergenceWarning)\n",
      "C:\\Users\\Pablo\\Anaconda3\\lib\\site-packages\\sklearn\\linear_model\\sag.py:326: ConvergenceWarning: The max_iter was reached which means the coef_ did not converge\n",
      "  \"the coef_ did not converge\", ConvergenceWarning)\n",
      "C:\\Users\\Pablo\\Anaconda3\\lib\\site-packages\\sklearn\\linear_model\\sag.py:326: ConvergenceWarning: The max_iter was reached which means the coef_ did not converge\n",
      "  \"the coef_ did not converge\", ConvergenceWarning)\n",
      "C:\\Users\\Pablo\\Anaconda3\\lib\\site-packages\\sklearn\\linear_model\\sag.py:326: ConvergenceWarning: The max_iter was reached which means the coef_ did not converge\n",
      "  \"the coef_ did not converge\", ConvergenceWarning)\n",
      "C:\\Users\\Pablo\\Anaconda3\\lib\\site-packages\\sklearn\\linear_model\\sag.py:326: ConvergenceWarning: The max_iter was reached which means the coef_ did not converge\n",
      "  \"the coef_ did not converge\", ConvergenceWarning)\n",
      "C:\\Users\\Pablo\\Anaconda3\\lib\\site-packages\\sklearn\\linear_model\\sag.py:326: ConvergenceWarning: The max_iter was reached which means the coef_ did not converge\n",
      "  \"the coef_ did not converge\", ConvergenceWarning)\n",
      "C:\\Users\\Pablo\\Anaconda3\\lib\\site-packages\\sklearn\\linear_model\\sag.py:326: ConvergenceWarning: The max_iter was reached which means the coef_ did not converge\n",
      "  \"the coef_ did not converge\", ConvergenceWarning)\n",
      "C:\\Users\\Pablo\\Anaconda3\\lib\\site-packages\\sklearn\\linear_model\\sag.py:326: ConvergenceWarning: The max_iter was reached which means the coef_ did not converge\n",
      "  \"the coef_ did not converge\", ConvergenceWarning)\n",
      "C:\\Users\\Pablo\\Anaconda3\\lib\\site-packages\\sklearn\\linear_model\\sag.py:326: ConvergenceWarning: The max_iter was reached which means the coef_ did not converge\n",
      "  \"the coef_ did not converge\", ConvergenceWarning)\n",
      "C:\\Users\\Pablo\\Anaconda3\\lib\\site-packages\\sklearn\\linear_model\\sag.py:326: ConvergenceWarning: The max_iter was reached which means the coef_ did not converge\n",
      "  \"the coef_ did not converge\", ConvergenceWarning)\n",
      "C:\\Users\\Pablo\\Anaconda3\\lib\\site-packages\\sklearn\\linear_model\\sag.py:326: ConvergenceWarning: The max_iter was reached which means the coef_ did not converge\n",
      "  \"the coef_ did not converge\", ConvergenceWarning)\n",
      "C:\\Users\\Pablo\\Anaconda3\\lib\\site-packages\\sklearn\\linear_model\\sag.py:326: ConvergenceWarning: The max_iter was reached which means the coef_ did not converge\n",
      "  \"the coef_ did not converge\", ConvergenceWarning)\n",
      "C:\\Users\\Pablo\\Anaconda3\\lib\\site-packages\\sklearn\\linear_model\\sag.py:326: ConvergenceWarning: The max_iter was reached which means the coef_ did not converge\n",
      "  \"the coef_ did not converge\", ConvergenceWarning)\n",
      "C:\\Users\\Pablo\\Anaconda3\\lib\\site-packages\\sklearn\\linear_model\\sag.py:326: ConvergenceWarning: The max_iter was reached which means the coef_ did not converge\n",
      "  \"the coef_ did not converge\", ConvergenceWarning)\n",
      "C:\\Users\\Pablo\\Anaconda3\\lib\\site-packages\\sklearn\\linear_model\\sag.py:326: ConvergenceWarning: The max_iter was reached which means the coef_ did not converge\n",
      "  \"the coef_ did not converge\", ConvergenceWarning)\n",
      "C:\\Users\\Pablo\\Anaconda3\\lib\\site-packages\\sklearn\\linear_model\\sag.py:326: ConvergenceWarning: The max_iter was reached which means the coef_ did not converge\n",
      "  \"the coef_ did not converge\", ConvergenceWarning)\n",
      "C:\\Users\\Pablo\\Anaconda3\\lib\\site-packages\\sklearn\\linear_model\\sag.py:326: ConvergenceWarning: The max_iter was reached which means the coef_ did not converge\n",
      "  \"the coef_ did not converge\", ConvergenceWarning)\n",
      "C:\\Users\\Pablo\\Anaconda3\\lib\\site-packages\\sklearn\\linear_model\\sag.py:326: ConvergenceWarning: The max_iter was reached which means the coef_ did not converge\n",
      "  \"the coef_ did not converge\", ConvergenceWarning)\n",
      "C:\\Users\\Pablo\\Anaconda3\\lib\\site-packages\\sklearn\\linear_model\\sag.py:326: ConvergenceWarning: The max_iter was reached which means the coef_ did not converge\n",
      "  \"the coef_ did not converge\", ConvergenceWarning)\n",
      "C:\\Users\\Pablo\\Anaconda3\\lib\\site-packages\\sklearn\\linear_model\\sag.py:326: ConvergenceWarning: The max_iter was reached which means the coef_ did not converge\n",
      "  \"the coef_ did not converge\", ConvergenceWarning)\n",
      "C:\\Users\\Pablo\\Anaconda3\\lib\\site-packages\\sklearn\\linear_model\\sag.py:326: ConvergenceWarning: The max_iter was reached which means the coef_ did not converge\n",
      "  \"the coef_ did not converge\", ConvergenceWarning)\n",
      "C:\\Users\\Pablo\\Anaconda3\\lib\\site-packages\\sklearn\\linear_model\\sag.py:326: ConvergenceWarning: The max_iter was reached which means the coef_ did not converge\n",
      "  \"the coef_ did not converge\", ConvergenceWarning)\n",
      "C:\\Users\\Pablo\\Anaconda3\\lib\\site-packages\\sklearn\\linear_model\\sag.py:326: ConvergenceWarning: The max_iter was reached which means the coef_ did not converge\n",
      "  \"the coef_ did not converge\", ConvergenceWarning)\n",
      "C:\\Users\\Pablo\\Anaconda3\\lib\\site-packages\\sklearn\\linear_model\\sag.py:326: ConvergenceWarning: The max_iter was reached which means the coef_ did not converge\n",
      "  \"the coef_ did not converge\", ConvergenceWarning)\n",
      "C:\\Users\\Pablo\\Anaconda3\\lib\\site-packages\\sklearn\\linear_model\\sag.py:326: ConvergenceWarning: The max_iter was reached which means the coef_ did not converge\n",
      "  \"the coef_ did not converge\", ConvergenceWarning)\n",
      "C:\\Users\\Pablo\\Anaconda3\\lib\\site-packages\\sklearn\\linear_model\\sag.py:326: ConvergenceWarning: The max_iter was reached which means the coef_ did not converge\n",
      "  \"the coef_ did not converge\", ConvergenceWarning)\n",
      "C:\\Users\\Pablo\\Anaconda3\\lib\\site-packages\\sklearn\\linear_model\\sag.py:326: ConvergenceWarning: The max_iter was reached which means the coef_ did not converge\n",
      "  \"the coef_ did not converge\", ConvergenceWarning)\n",
      "C:\\Users\\Pablo\\Anaconda3\\lib\\site-packages\\sklearn\\linear_model\\sag.py:326: ConvergenceWarning: The max_iter was reached which means the coef_ did not converge\n",
      "  \"the coef_ did not converge\", ConvergenceWarning)\n",
      "C:\\Users\\Pablo\\Anaconda3\\lib\\site-packages\\sklearn\\linear_model\\sag.py:326: ConvergenceWarning: The max_iter was reached which means the coef_ did not converge\n",
      "  \"the coef_ did not converge\", ConvergenceWarning)\n",
      "C:\\Users\\Pablo\\Anaconda3\\lib\\site-packages\\sklearn\\linear_model\\sag.py:326: ConvergenceWarning: The max_iter was reached which means the coef_ did not converge\n",
      "  \"the coef_ did not converge\", ConvergenceWarning)\n",
      "C:\\Users\\Pablo\\Anaconda3\\lib\\site-packages\\sklearn\\linear_model\\sag.py:326: ConvergenceWarning: The max_iter was reached which means the coef_ did not converge\n",
      "  \"the coef_ did not converge\", ConvergenceWarning)\n"
     ]
    },
    {
     "name": "stdout",
     "output_type": "stream",
     "text": [
      "score = 0.79\n",
      "{'clf__C': 10, 'clf__dual': True, 'clf__fit_intercept': True, 'clf__penalty': 'l2', 'clf__solver': 'liblinear', 'clf__tol': 0.0001}\n"
     ]
    }
   ],
   "source": [
    "from sklearn.linear_model import LogisticRegression\n",
    "from sklearn.pipeline import Pipeline\n",
    "from sklearn.model_selection import GridSearchCV\n",
    "from sklearn.model_selection import train_test_split\n",
    "\n",
    "pipeline = Pipeline([ ('clf', LogisticRegression())])\n",
    "\n",
    "X_train, X_test, y_train, y_test = train_test_split(kkx, kky, test_size=0.10)\n",
    "\n",
    "param_grid = [\n",
    "    { \n",
    "          \"clf__penalty\": [\"l2\"],\n",
    "          \"clf__dual\":[True],\n",
    "          \"clf__solver\":['liblinear'],\n",
    "          \"clf__tol\":[0.0001, 0.001, 0.01],\n",
    "          \"clf__C\":[0.1,1,10],\n",
    "          \"clf__fit_intercept\":[True, False]\n",
    "      },\n",
    "    { \n",
    "          \"clf__penalty\": [\"l2\"],\n",
    "          \"clf__dual\":[False],\n",
    "          \"clf__solver\":['lbfgs','newton-cg','sag'],\n",
    "          \"clf__tol\":[0.0001, 0.001, 0.01],\n",
    "          \"clf__C\":[0.1,1,10],\n",
    "          \"clf__fit_intercept\":[True, False]\n",
    "    },\n",
    "    { \n",
    "          \"clf__penalty\": [\"l1\"],\n",
    "          \"clf__dual\":[False],\n",
    "          \"clf__solver\":['liblinear', 'saga'],\n",
    "          \"clf__tol\":[0.0001, 0.001, 0.01],\n",
    "          \"clf__C\":[0.1,1,10],\n",
    "          \"clf__fit_intercept\":[True, False]\n",
    "    }\n",
    "]\n",
    "grid = GridSearchCV(pipeline, cv=6, param_grid=param_grid)\n",
    "grid.fit(X_train,y_train)\n",
    "\n",
    "\n",
    "print (\"score = %3.2f\" %(grid.score(X_test,y_test)) )\n",
    "print (grid.best_params_ )"
   ]
  },
  {
   "cell_type": "code",
   "execution_count": 88,
   "metadata": {},
   "outputs": [
    {
     "name": "stdout",
     "output_type": "stream",
     "text": [
      "score = 0.80\n"
     ]
    }
   ],
   "source": [
    "clf=LogisticRegression(C=10,dual=True,fit_intercept=True, penalty='l2',solver='liblinear',tol=0.0001)\n",
    "clf=LogisticRegression()\n",
    "clf.fit(X_train,y_train)\n",
    "\n",
    "clf.predict(X_test)\n",
    "\n",
    "print (\"score = %3.2f\" %(clf.score(X_test,y_test)) )"
   ]
  },
  {
   "cell_type": "code",
   "execution_count": 85,
   "metadata": {},
   "outputs": [
    {
     "data": {
      "image/png": "[encoded data removed]",
      "text/plain": [
       "<Figure size 432x288 with 1 Axes>"
      ]
     },
     "metadata": {},
     "output_type": "display_data"
    },
    {
     "name": "stdout",
     "output_type": "stream",
     "text": [
      "pred_train: mean =  0.8231320224719102  max =  0.8426966292134831  min =  0.8033707865168539\n",
      "pred_test: mean =  0.7959776536312849  max =  0.8659217877094972  min =  0.7318435754189944\n"
     ]
    },
    {
     "data": {
      "image/png": "[encoded data removed]",
      "text/plain": [
       "<Figure size 432x288 with 1 Axes>"
      ]
     },
     "metadata": {},
     "output_type": "display_data"
    }
   ],
   "source": [
    "from sklearn.ensemble import RandomForestClassifier, AdaBoostClassifier\n",
    "# Split train and test\n",
    "#X_train, X_test, y_train, y_test = train_test_split(Xvec, yvec, test_size=0.20)\n",
    "pred_train = [] \n",
    "pred_test = [] \n",
    "\n",
    "for i in range(100): # entre 10 y 50...aleatorio total.\n",
    "    X_train, X_test, y_train, y_test = train_test_split(kkx, kky, test_size=0.20)\n",
    "\n",
    "\n",
    "# My Model\n",
    "    clf = LogisticRegression()\n",
    "    #clf=LinearSVC(C=1, dual=False, fit_intercept=True, intercept_scaling=10,penalty='l2',)   \n",
    "    #clf=RandomForestClassifier(n_estimators=20)\n",
    "    clf.fit(X_train, y_train)\n",
    "\n",
    "\n",
    "    prediction_train = clf.predict(X_train)\n",
    "    prediction = clf.predict(X_test)\n",
    "\n",
    "    pred_train.append(np.mean([prediction_train == y_train]))\n",
    "    pred_test.append(np.mean([prediction == y_test])) \n",
    "\n",
    "\n",
    "plt.plot(pred_train)\n",
    "plt.plot(pred_test,'.')\n",
    "plt.legend(('train','test'))\n",
    "plt.title('Logistic')\n",
    "plt.show()\n",
    "\n",
    "plt.hist(pred_test)\n",
    "print('pred_train: mean = ', np.mean(pred_train), ' max = ', np.max(pred_train),  ' min = ', np.min(pred_train), )\n",
    "print('pred_test: mean = ', np.mean(pred_test), ' max = ', np.max(pred_test), ' min = ', np.min(pred_test), )"
   ]
  },
  {
   "cell_type": "markdown",
   "metadata": {},
   "source": [
    "# Random Forest"
   ]
  },
  {
   "cell_type": "code",
   "execution_count": 75,
   "metadata": {},
   "outputs": [
    {
     "name": "stdout",
     "output_type": "stream",
     "text": [
      "score = 0.79\n"
     ]
    }
   ],
   "source": [
    "from sklearn.ensemble import RandomForestClassifier, AdaBoostClassifier\n",
    "clf=RandomForestClassifier(n_estimators=20)\n",
    "clf.fit(X_train,y_train)\n",
    "\n",
    "clf.predict(X_test)\n",
    "\n",
    "print (\"score = %3.2f\" %(clf.score(X_test,y_test)) )"
   ]
  },
  {
   "cell_type": "markdown",
   "metadata": {},
   "source": [
    "# naive Bayes"
   ]
  },
  {
   "cell_type": "code",
   "execution_count": 76,
   "metadata": {},
   "outputs": [
    {
     "name": "stdout",
     "output_type": "stream",
     "text": [
      "score = 0.39\n"
     ]
    }
   ],
   "source": [
    "from sklearn.naive_bayes import GaussianNB\n",
    "\n",
    "clf=GaussianNB()\n",
    "clf.fit(X_train,y_train)\n",
    "\n",
    "clf.predict(X_test)\n",
    "\n",
    "print (\"score = %3.2f\" %(clf.score(X_test,y_test)) )"
   ]
  },
  {
   "cell_type": "code",
   "execution_count": 83,
   "metadata": {},
   "outputs": [],
   "source": [
    "# Kneibhours Classifier\n"
   ]
  },
  {
   "cell_type": "code",
   "execution_count": null,
   "metadata": {},
   "outputs": [],
   "source": []
  },
  {
   "cell_type": "markdown",
   "metadata": {},
   "source": [
    "# SVC"
   ]
  },
  {
   "cell_type": "code",
   "execution_count": 77,
   "metadata": {},
   "outputs": [
    {
     "name": "stdout",
     "output_type": "stream",
     "text": [
      "score = 0.78\n"
     ]
    }
   ],
   "source": [
    "from sklearn.svm import LinearSVC, LinearSVR, SVC\n",
    "#clf=SVC(kernel='rbf', degree=6, C=10) --> 0.8\n",
    "#clf=SVC(kernel='linear', degree=6, C=10) --> 0.8\n",
    "#clf=SVC(kernel='poly', degree=6, C=10, gamma='auto') --> 0.59\n",
    "clf=SVC(kernel='sigmoid', degree=6, C=10, gamma='auto') #--> 0.8\n",
    "#clf=SVC(kernel='linear', degree=6, C=10, coef0=4)\n",
    "\n",
    "\n",
    "\n",
    "clf.fit(X_train,y_train)\n",
    "clf.predict(X_test)\n",
    "\n",
    "print (\"score = %3.2f\" %(clf.score(X_test,y_test)) )"
   ]
  },
  {
   "cell_type": "code",
   "execution_count": null,
   "metadata": {},
   "outputs": [],
   "source": []
  }
 ],
 "metadata": {
  "kernelspec": {
   "display_name": "Python 3",
   "language": "python",
   "name": "python3"
  },
  "language_info": {
   "codemirror_mode": {
    "name": "ipython",
    "version": 3
   },
   "file_extension": ".py",
   "mimetype": "text/x-python",
   "name": "python",
   "nbconvert_exporter": "python",
   "pygments_lexer": "ipython3",
   "version": "3.6.5"
  }
 },
 "nbformat": 4,
 "nbformat_minor": 2
}
